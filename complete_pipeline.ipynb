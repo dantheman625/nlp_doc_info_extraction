{
  "nbformat": 4,
  "nbformat_minor": 0,
  "metadata": {
    "colab": {
      "provenance": [],
      "gpuType": "T4",
      "authorship_tag": "ABX9TyOsEo+zJGXaasVDf6AIRYqc",
      "include_colab_link": true
    },
    "kernelspec": {
      "name": "python3",
      "display_name": "Python 3"
    },
    "language_info": {
      "name": "python"
    },
    "accelerator": "GPU"
  },
  "cells": [
    {
      "cell_type": "markdown",
      "metadata": {
        "id": "view-in-github",
        "colab_type": "text"
      },
      "source": [
        "<a href=\"https://colab.research.google.com/github/dantheman625/nlp_doc_info_extraction/blob/complete_pipe/complete_pipeline.ipynb\" target=\"_parent\"><img src=\"https://colab.research.google.com/assets/colab-badge.svg\" alt=\"Open In Colab\"/></a>"
      ]
    },
    {
      "cell_type": "markdown",
      "source": [
        "# Imports"
      ],
      "metadata": {
        "id": "wB-78NmTAxDn"
      }
    },
    {
      "cell_type": "code",
      "execution_count": null,
      "metadata": {
        "id": "ayfPLr3R_zLO"
      },
      "outputs": [],
      "source": [
        "print(\"hello world\")"
      ]
    },
    {
      "cell_type": "code",
      "source": [
        "import torch\n",
        "from transformers import (\n",
        "    AutoTokenizer,\n",
        "    AutoModelForTokenClassification,\n",
        "    AutoModelForSequenceClassification,\n",
        "    pipeline\n",
        ")"
      ],
      "metadata": {
        "id": "ldcCU7mJPVll"
      },
      "execution_count": null,
      "outputs": []
    },
    {
      "cell_type": "code",
      "source": [
        "from transformers import AutoTokenizer, AutoModelForTokenClassification, AutoModelForSequenceClassification\n"
      ],
      "metadata": {
        "id": "3Vrlh0GbUBxq"
      },
      "execution_count": null,
      "outputs": []
    },
    {
      "cell_type": "markdown",
      "source": [
        "# Datasets\n",
        "\n",
        "Import Challenge data set\n"
      ],
      "metadata": {
        "id": "rT9cEecqA9pj"
      }
    },
    {
      "cell_type": "markdown",
      "source": [
        "#"
      ],
      "metadata": {
        "id": "EkCwny0seKjj"
      }
    },
    {
      "cell_type": "markdown",
      "source": [
        "# Define models"
      ],
      "metadata": {
        "id": "zm53dfjvAz-B"
      }
    },
    {
      "cell_type": "markdown",
      "source": [
        "# Baseline models\n",
        "Define which model you used as a baseline model for the specific task"
      ],
      "metadata": {
        "id": "ti1frmdMPYUz"
      }
    },
    {
      "cell_type": "code",
      "source": [
        "baseline_ner_name = \"\"\n",
        "baseline_re_name = \"SpanBERT/spanbert-large-cased\"\n"
      ],
      "metadata": {
        "id": "UNJb31CMPda7"
      },
      "execution_count": null,
      "outputs": []
    },
    {
      "cell_type": "markdown",
      "source": [
        "# Trained models\n",
        "\n",
        "Define your trained model for the specific task"
      ],
      "metadata": {
        "id": "_KhLAFzTA13R"
      }
    },
    {
      "cell_type": "code",
      "source": [
        "trained_ner_name = \"/path/to/your/ner/checkpoint\"\n",
        "trained_re_name = \"/path/to/your/re/checkpoint\""
      ],
      "metadata": {
        "id": "A8IAyiZ1RhEO"
      },
      "execution_count": null,
      "outputs": []
    },
    {
      "cell_type": "markdown",
      "source": [
        "# Model selection\n",
        "\n",
        "Which model for NER, which for RE? -> Combination untrained/ untrained, trained/ trained, untrained/ trained, trained/ untrained"
      ],
      "metadata": {
        "id": "N_5UIxiOA3dF"
      }
    },
    {
      "cell_type": "markdown",
      "source": [
        "## Both baseline"
      ],
      "metadata": {
        "id": "ysRNjlYDRBBl"
      }
    },
    {
      "cell_type": "code",
      "source": [
        "ner_model_name = baseline_ner_name\n",
        "re_model_name  = baseline_re_name"
      ],
      "metadata": {
        "id": "dM-hBYn1Q1EV"
      },
      "execution_count": null,
      "outputs": []
    },
    {
      "cell_type": "markdown",
      "source": [
        "## Both trained"
      ],
      "metadata": {
        "id": "Tjl7gqUZRD64"
      }
    },
    {
      "cell_type": "code",
      "source": [
        "ner_model_name = trained_ner_name\n",
        "re_model_name  = trained_re_name"
      ],
      "metadata": {
        "id": "1wQL6dNbRWgd"
      },
      "execution_count": null,
      "outputs": []
    },
    {
      "cell_type": "markdown",
      "source": [
        "## NER: trained, RE: baseline"
      ],
      "metadata": {
        "id": "8jWBBmYNRHGC"
      }
    },
    {
      "cell_type": "code",
      "source": [
        "ner_model_name = trained_ner_name\n",
        "re_model_name  = baseline_re_name"
      ],
      "metadata": {
        "id": "AOqWb9yHRS_c"
      },
      "execution_count": null,
      "outputs": []
    },
    {
      "cell_type": "markdown",
      "source": [
        "## NER: baseline, RE: trained"
      ],
      "metadata": {
        "id": "Hs8GFyxCRKS1"
      }
    },
    {
      "cell_type": "code",
      "source": [
        "ner_model_name = baseline_ner_name\n",
        "re_model_name  = trained_re_name"
      ],
      "metadata": {
        "id": "GqCg5zyaRZ3a"
      },
      "execution_count": null,
      "outputs": []
    },
    {
      "cell_type": "markdown",
      "source": [
        "# Load Models and Tokenizer"
      ],
      "metadata": {
        "id": "sV83Si0vUPvB"
      }
    },
    {
      "cell_type": "markdown",
      "source": [
        "## NER"
      ],
      "metadata": {
        "id": "4RHQ1PzcUTJJ"
      }
    },
    {
      "cell_type": "code",
      "source": [
        "ner_tokenizer = AutoTokenizer.from_pretrained(ner_model_name)\n",
        "ner_model     = AutoModelForTokenClassification.from_pretrained(ner_model_name)"
      ],
      "metadata": {
        "id": "HuPIe9-9UVUk"
      },
      "execution_count": null,
      "outputs": []
    },
    {
      "cell_type": "markdown",
      "source": [
        "## RE"
      ],
      "metadata": {
        "id": "rnvQ9uhbUXnt"
      }
    },
    {
      "cell_type": "code",
      "source": [
        "re_tokenizer  = AutoTokenizer.from_pretrained(re_model_name)\n",
        "re_model      = AutoModelForSequenceClassification.from_pretrained(re_model_name)"
      ],
      "metadata": {
        "id": "OlLQJe-CUSKx"
      },
      "execution_count": null,
      "outputs": []
    },
    {
      "cell_type": "markdown",
      "source": [
        "# NER Eval\n",
        "\n",
        "Output: Entity file -> content"
      ],
      "metadata": {
        "id": "1jf36s9hA7SY"
      }
    },
    {
      "cell_type": "markdown",
      "source": [
        "# RE Eval\n",
        "\n",
        "Input: Entity file, original challenge test file -> matching of entities to sentences (siehe wa) -> Liste mit dict"
      ],
      "metadata": {
        "id": "1HxNSKq-A8by"
      }
    }
  ]
}