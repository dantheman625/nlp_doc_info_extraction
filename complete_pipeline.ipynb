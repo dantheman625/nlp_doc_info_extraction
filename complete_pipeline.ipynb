{
  "nbformat": 4,
  "nbformat_minor": 0,
  "metadata": {
    "colab": {
      "provenance": [],
      "gpuType": "T4",
      "authorship_tag": "ABX9TyObsFm6f1uzceLeTb33PjT6",
      "include_colab_link": true
    },
    "kernelspec": {
      "name": "python3",
      "display_name": "Python 3"
    },
    "language_info": {
      "name": "python"
    },
    "accelerator": "GPU"
  },
  "cells": [
    {
      "cell_type": "markdown",
      "metadata": {
        "id": "view-in-github",
        "colab_type": "text"
      },
      "source": [
        "<a href=\"https://colab.research.google.com/github/dantheman625/nlp_doc_info_extraction/blob/complete_pipe/complete_pipeline.ipynb\" target=\"_parent\"><img src=\"https://colab.research.google.com/assets/colab-badge.svg\" alt=\"Open In Colab\"/></a>"
      ]
    },
    {
      "cell_type": "markdown",
      "source": [
        "# Imports"
      ],
      "metadata": {
        "id": "wB-78NmTAxDn"
      }
    },
    {
      "cell_type": "code",
      "source": [
        "!pip install seqeval scikit-learn"
      ],
      "metadata": {
        "id": "pJgrjPQwCqbh"
      },
      "execution_count": null,
      "outputs": []
    },
    {
      "cell_type": "code",
      "execution_count": null,
      "metadata": {
        "id": "ayfPLr3R_zLO"
      },
      "outputs": [],
      "source": [
        "print(\"hello world\")"
      ]
    },
    {
      "cell_type": "code",
      "source": [
        "import torch\n",
        "from transformers import (\n",
        "    AutoTokenizer,\n",
        "    AutoModelForTokenClassification,\n",
        "    AutoModelForSequenceClassification,\n",
        "    LongformerTokenizerFast,\n",
        "    pipeline\n",
        ")"
      ],
      "metadata": {
        "id": "ldcCU7mJPVll"
      },
      "execution_count": null,
      "outputs": []
    },
    {
      "cell_type": "markdown",
      "source": [
        "## Wandb login"
      ],
      "metadata": {
        "id": "E3DTsURh-79i"
      }
    },
    {
      "cell_type": "code",
      "source": [
        "import wandb\n",
        "wandb.login()"
      ],
      "metadata": {
        "id": "8cu4-vLz_fT5"
      },
      "execution_count": null,
      "outputs": []
    },
    {
      "cell_type": "markdown",
      "source": [
        "# Datasets\n",
        "\n",
        "Import Challenge data set (Final_eval.json)\n"
      ],
      "metadata": {
        "id": "rT9cEecqA9pj"
      }
    },
    {
      "cell_type": "markdown",
      "source": [
        "## Mount Drive"
      ],
      "metadata": {
        "id": "GCnzzC7f3NLs"
      }
    },
    {
      "cell_type": "code",
      "source": [
        "from google.colab import drive   # only in Colab; skip if you’re on a different setup\n",
        "import os\n",
        "import json\n",
        "\n",
        "drive.mount('/content/drive', force_remount=True)"
      ],
      "metadata": {
        "id": "ejY9V79h3JUb"
      },
      "execution_count": null,
      "outputs": []
    },
    {
      "cell_type": "markdown",
      "source": [
        "## Set Project folder"
      ],
      "metadata": {
        "id": "EkCwny0seKjj"
      }
    },
    {
      "cell_type": "code",
      "source": [
        "drive_folder = \"NLP_project_data\""
      ],
      "metadata": {
        "id": "TqXgjBvS3T5h"
      },
      "execution_count": null,
      "outputs": []
    },
    {
      "cell_type": "markdown",
      "source": [
        "## Load file"
      ],
      "metadata": {
        "id": "aog3WRix3YZC"
      }
    },
    {
      "cell_type": "code",
      "source": [
        "base_path   = os.path.join('/content/drive/MyDrive', drive_folder)\n",
        "eval_path   = os.path.join(base_path, 'Final_eval.json')\n",
        "\n",
        "with open(eval_path, 'r', encoding='utf-8') as f:\n",
        "    eval_data = json.load(f)\n",
        "\n",
        "print(eval_data)"
      ],
      "metadata": {
        "id": "nShjsVxM3X4E"
      },
      "execution_count": null,
      "outputs": []
    },
    {
      "cell_type": "markdown",
      "source": [
        "# Define models"
      ],
      "metadata": {
        "id": "zm53dfjvAz-B"
      }
    },
    {
      "cell_type": "markdown",
      "source": [
        "# Baseline models\n",
        "Define which model you used as a baseline model for the specific task"
      ],
      "metadata": {
        "id": "ti1frmdMPYUz"
      }
    },
    {
      "cell_type": "code",
      "source": [
        "baseline_ner_name = \"allenai/longformer-base-4096\"\n",
        "baseline_re_name = \"SpanBERT/spanbert-large-cased\"\n"
      ],
      "metadata": {
        "id": "UNJb31CMPda7"
      },
      "execution_count": null,
      "outputs": []
    },
    {
      "cell_type": "markdown",
      "source": [
        "# Trained models\n",
        "\n",
        "Define your trained model for the specific task"
      ],
      "metadata": {
        "id": "_KhLAFzTA13R"
      }
    },
    {
      "cell_type": "code",
      "source": [
        "trained_ner_name = \"/path/to/your/ner/checkpoint\"\n",
        "trained_re_name = \"/path/to/your/re/checkpoint\""
      ],
      "metadata": {
        "id": "A8IAyiZ1RhEO"
      },
      "execution_count": null,
      "outputs": []
    },
    {
      "cell_type": "markdown",
      "source": [
        "# Model selection\n",
        "\n",
        "Which model for NER, which for RE? -> Combination untrained/ untrained, trained/ trained, untrained/ trained, trained/ untrained"
      ],
      "metadata": {
        "id": "N_5UIxiOA3dF"
      }
    },
    {
      "cell_type": "markdown",
      "source": [
        "## Both baseline"
      ],
      "metadata": {
        "id": "ysRNjlYDRBBl"
      }
    },
    {
      "cell_type": "code",
      "source": [
        "ner_model_name = baseline_ner_name\n",
        "re_model_name  = baseline_re_name"
      ],
      "metadata": {
        "id": "dM-hBYn1Q1EV"
      },
      "execution_count": null,
      "outputs": []
    },
    {
      "cell_type": "markdown",
      "source": [
        "## Both trained"
      ],
      "metadata": {
        "id": "Tjl7gqUZRD64"
      }
    },
    {
      "cell_type": "code",
      "source": [
        "ner_model_name = trained_ner_name\n",
        "re_model_name  = trained_re_name"
      ],
      "metadata": {
        "id": "1wQL6dNbRWgd"
      },
      "execution_count": null,
      "outputs": []
    },
    {
      "cell_type": "markdown",
      "source": [
        "## NER: trained, RE: baseline"
      ],
      "metadata": {
        "id": "8jWBBmYNRHGC"
      }
    },
    {
      "cell_type": "code",
      "source": [
        "ner_model_name = trained_ner_name\n",
        "re_model_name  = baseline_re_name"
      ],
      "metadata": {
        "id": "AOqWb9yHRS_c"
      },
      "execution_count": null,
      "outputs": []
    },
    {
      "cell_type": "markdown",
      "source": [
        "## NER: baseline, RE: trained"
      ],
      "metadata": {
        "id": "Hs8GFyxCRKS1"
      }
    },
    {
      "cell_type": "code",
      "source": [
        "ner_model_name = baseline_ner_name\n",
        "re_model_name  = trained_re_name"
      ],
      "metadata": {
        "id": "GqCg5zyaRZ3a"
      },
      "execution_count": null,
      "outputs": []
    },
    {
      "cell_type": "markdown",
      "source": [
        "# Load Models and Tokenizer"
      ],
      "metadata": {
        "id": "sV83Si0vUPvB"
      }
    },
    {
      "cell_type": "markdown",
      "source": [
        "## NER"
      ],
      "metadata": {
        "id": "4RHQ1PzcUTJJ"
      }
    },
    {
      "cell_type": "code",
      "source": [
        "## Update once Daniel has finished setup\n",
        "ner_tokenizer = LongformerTokenizerFast.from_pretrained(re_model_name)\n",
        "ner_model     = AutoModelForTokenClassification.from_pretrained(ner_model_name)"
      ],
      "metadata": {
        "id": "HuPIe9-9UVUk"
      },
      "execution_count": null,
      "outputs": []
    },
    {
      "cell_type": "markdown",
      "source": [
        "## RE"
      ],
      "metadata": {
        "id": "rnvQ9uhbUXnt"
      }
    },
    {
      "cell_type": "code",
      "source": [
        "re_tokenizer  = AutoTokenizer.from_pretrained(ner_model_name)\n",
        "re_model      = AutoModelForSequenceClassification.from_pretrained(re_model_name)"
      ],
      "metadata": {
        "id": "OlLQJe-CUSKx"
      },
      "execution_count": null,
      "outputs": []
    },
    {
      "cell_type": "markdown",
      "source": [
        "#Initialize Wandb"
      ],
      "metadata": {
        "id": "91WtT1p3-bm9"
      }
    },
    {
      "cell_type": "code",
      "source": [
        "wandb.init(\n",
        "    project=\"model-eval\",\n",
        "    name=f\"eval_{ner_model_name.split('/')[-1]}_{re_model_name.split('/')[-1]}\",\n",
        "    config={\n",
        "        \"ner_model\": ner_model_name,\n",
        "        \"re_model\": re_model_name,\n",
        "        \"dataset\": \"Final_eval.json\",\n",
        "        \"batch_size\": 32,\n",
        "        \"max_length\": 256,\n",
        "        \"seed\": 42,\n",
        "    }\n",
        ")"
      ],
      "metadata": {
        "id": "WsgYrS88-fkj"
      },
      "execution_count": null,
      "outputs": []
    },
    {
      "cell_type": "markdown",
      "source": [
        "# NER Eval\n",
        "\n",
        "Output: Entity file -> content"
      ],
      "metadata": {
        "id": "1jf36s9hA7SY"
      }
    },
    {
      "cell_type": "code",
      "source": [
        "# placeholder\n",
        "true_ner_labels = [[\"O\", \"O\"]]\n",
        "pred_ner_labels = [[\"O\", \"O\"]]"
      ],
      "metadata": {
        "id": "WaorJn5gDiot"
      },
      "execution_count": null,
      "outputs": []
    },
    {
      "cell_type": "markdown",
      "source": [
        "## Log Metrics in Wandb"
      ],
      "metadata": {
        "id": "E_g6H9G--tRp"
      }
    },
    {
      "cell_type": "code",
      "source": [
        "from seqeval.metrics import precision_score as ner_prec, recall_score as ner_rec, f1_score as ner_f1\n",
        "prec_ner = ner_prec(true_ner_labels, pred_ner_labels)\n",
        "rec_ner  = ner_rec(true_ner_labels, pred_ner_labels)\n",
        "f1_ner   = ner_f1(true_ner_labels, pred_ner_labels)\n",
        "\n",
        "wandb.log({\n",
        "    \"ner/precision\": prec_ner,\n",
        "    \"ner/recall\":    rec_ner,\n",
        "    \"ner/f1\":        f1_ner,\n",
        "})\n"
      ],
      "metadata": {
        "id": "HcVR516C-piY"
      },
      "execution_count": null,
      "outputs": []
    },
    {
      "cell_type": "markdown",
      "source": [
        "# RE Eval\n",
        "\n",
        "Input: Entity file, original challenge test file -> matching of entities to sentences (siehe wa) -> Liste mit dict"
      ],
      "metadata": {
        "id": "1HxNSKq-A8by"
      }
    },
    {
      "cell_type": "markdown",
      "source": [
        "## Extract unique label values for matching to docred"
      ],
      "metadata": {
        "id": "oLcf67F-6cJ0"
      }
    },
    {
      "cell_type": "code",
      "source": [
        "unique_labels = set()\n",
        "for item in eval_data:\n",
        "    unique_labels.update(item.get(\"label_set\", []))\n",
        "\n",
        "# If you want them sorted for readability:\n",
        "unique_labels = sorted(unique_labels)\n",
        "\n",
        "print(unique_labels)\n"
      ],
      "metadata": {
        "id": "o3Uhvztr6iDL"
      },
      "execution_count": null,
      "outputs": []
    },
    {
      "cell_type": "markdown",
      "source": [
        "## Log metrics in Wandb"
      ],
      "metadata": {
        "id": "1nc1v9Gu-w_9"
      }
    },
    {
      "cell_type": "code",
      "source": [
        "# placeholder\n",
        "true_re_labels = [\"O\", \"O\"]\n",
        "pred_re_labels = [\"O\", \"O\"]"
      ],
      "metadata": {
        "id": "mIXDmaMeFJiM"
      },
      "execution_count": null,
      "outputs": []
    },
    {
      "cell_type": "code",
      "source": [
        "from sklearn.metrics import precision_recall_fscore_support\n",
        "\n",
        "prec_re, rec_re, f1_re, _ = precision_recall_fscore_support(\n",
        "    true_re_labels, pred_re_labels, average=\"micro\"\n",
        ")\n",
        "\n",
        "wandb.log({\n",
        "    \"re/precision\": prec_re,\n",
        "    \"re/recall\":    rec_re,\n",
        "    \"re/f1\":        f1_re,\n",
        "})\n",
        "\n",
        "\n",
        "summary_table = wandb.Table(\n",
        "    columns=[\n",
        "      \"ner_precision\",\n",
        "      \"ner_recall\",\n",
        "      \"ner_f1\",\n",
        "      \"re_precision\",\n",
        "      \"re_recall\",\n",
        "      \"re_f1\"\n",
        "    ],\n",
        "    data=[[prec_ner, rec_ner, f1_ner, prec_re, rec_re, f1_re]]\n",
        ")\n",
        "wandb.log({\"metrics_summary\": summary_table})"
      ],
      "metadata": {
        "id": "jUaHgZmn-05m"
      },
      "execution_count": null,
      "outputs": []
    },
    {
      "cell_type": "markdown",
      "source": [
        "Wrap Up\n"
      ],
      "metadata": {
        "id": "m4yVOJzh_vwb"
      }
    },
    {
      "cell_type": "code",
      "source": [
        "wandb.finish()"
      ],
      "metadata": {
        "id": "0J8TqQZE_xCM"
      },
      "execution_count": null,
      "outputs": []
    }
  ]
}