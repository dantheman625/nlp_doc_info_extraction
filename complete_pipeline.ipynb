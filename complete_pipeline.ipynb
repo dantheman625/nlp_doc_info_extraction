{
  "nbformat": 4,
  "nbformat_minor": 0,
  "metadata": {
    "colab": {
      "provenance": [],
      "authorship_tag": "ABX9TyNAu5IjXX0OEO3G2OvsPb9N",
      "include_colab_link": true
    },
    "kernelspec": {
      "name": "python3",
      "display_name": "Python 3"
    },
    "language_info": {
      "name": "python"
    }
  },
  "cells": [
    {
      "cell_type": "markdown",
      "metadata": {
        "id": "view-in-github",
        "colab_type": "text"
      },
      "source": [
        "<a href=\"https://colab.research.google.com/github/dantheman625/nlp_doc_info_extraction/blob/complete_pipe/complete_pipeline.ipynb\" target=\"_parent\"><img src=\"https://colab.research.google.com/assets/colab-badge.svg\" alt=\"Open In Colab\"/></a>"
      ]
    },
    {
      "cell_type": "markdown",
      "source": [
        "# Imports"
      ],
      "metadata": {
        "id": "wB-78NmTAxDn"
      }
    },
    {
      "cell_type": "code",
      "execution_count": null,
      "metadata": {
        "id": "ayfPLr3R_zLO"
      },
      "outputs": [],
      "source": [
        "print(\"hello world\")"
      ]
    },
    {
      "cell_type": "markdown",
      "source": [
        "# Datasets\n",
        "\n",
        "Import Challenge data set\n"
      ],
      "metadata": {
        "id": "rT9cEecqA9pj"
      }
    },
    {
      "cell_type": "markdown",
      "source": [
        "# Baseline models"
      ],
      "metadata": {
        "id": "zm53dfjvAz-B"
      }
    },
    {
      "cell_type": "markdown",
      "source": [
        "# Trained models"
      ],
      "metadata": {
        "id": "_KhLAFzTA13R"
      }
    },
    {
      "cell_type": "markdown",
      "source": [
        "# Model selection\n",
        "\n",
        "Which model for NER, which for RE? -> Combination untrained/ untrained, trained/ trained, untrained/ trained, trained/ untrained"
      ],
      "metadata": {
        "id": "N_5UIxiOA3dF"
      }
    },
    {
      "cell_type": "markdown",
      "source": [
        "# NER Eval\n",
        "\n",
        "Output: Entity file -> content"
      ],
      "metadata": {
        "id": "1jf36s9hA7SY"
      }
    },
    {
      "cell_type": "markdown",
      "source": [
        "# RE Eval\n",
        "\n",
        "Input: Entity file, original challenge test file -> matching of entities to sentences (siehe wa) -> Liste mit dict"
      ],
      "metadata": {
        "id": "1HxNSKq-A8by"
      }
    }
  ]
}