{
  "cells": [
    {
      "cell_type": "markdown",
      "metadata": {
        "colab_type": "text",
        "id": "view-in-github"
      },
      "source": [
        "<a href=\"https://colab.research.google.com/github/dantheman625/nlp_doc_info_extraction/blob/complete_pipe/complete_pipeline.ipynb\" target=\"_parent\"><img src=\"https://colab.research.google.com/assets/colab-badge.svg\" alt=\"Open In Colab\"/></a>"
      ]
    },
    {
      "cell_type": "markdown",
      "metadata": {
        "id": "wB-78NmTAxDn"
      },
      "source": [
        "# Imports"
      ]
    },
    {
      "cell_type": "code",
      "execution_count": null,
      "metadata": {
        "id": "pJgrjPQwCqbh"
      },
      "outputs": [],
      "source": [
        "!pip install seqeval scikit-learn datasets wandb nltk"
      ]
    },
    {
      "cell_type": "code",
      "execution_count": null,
      "metadata": {
        "id": "ldcCU7mJPVll"
      },
      "outputs": [],
      "source": [
        "import torch\n",
        "from transformers import (\n",
        "    AutoTokenizer,\n",
        "    AutoModelForTokenClassification,\n",
        "    AutoModelForSequenceClassification,\n",
        "    LongformerTokenizerFast,\n",
        "    pipeline\n",
        ")\n",
        "from datasets import Dataset\n",
        "import numpy as np\n",
        "import os\n",
        "import json"
      ]
    },
    {
      "cell_type": "markdown",
      "metadata": {
        "id": "E3DTsURh-79i"
      },
      "source": [
        "## Wandb login"
      ]
    },
    {
      "cell_type": "code",
      "execution_count": null,
      "metadata": {
        "id": "8cu4-vLz_fT5"
      },
      "outputs": [],
      "source": [
        "import wandb\n",
        "wandb.login()"
      ]
    },
    {
      "cell_type": "markdown",
      "metadata": {
        "id": "rT9cEecqA9pj"
      },
      "source": [
        "# Datasets\n",
        "\n",
        "Import Challenge data set (Final_eval.json)\n"
      ]
    },
    {
      "cell_type": "markdown",
      "metadata": {
        "id": "GCnzzC7f3NLs"
      },
      "source": [
        "## Mount Drive"
      ]
    },
    {
      "cell_type": "code",
      "execution_count": null,
      "metadata": {
        "id": "ejY9V79h3JUb"
      },
      "outputs": [],
      "source": [
        "from google.colab import drive   # only in Colab; skip if you’re on a different setup\n",
        "import os\n",
        "import json\n",
        "\n",
        "#drive.mount('/content/drive', force_remount=True)\n",
        "drive.mount('/content/drive')"
      ]
    },
    {
      "cell_type": "markdown",
      "metadata": {
        "id": "EkCwny0seKjj"
      },
      "source": [
        "## Set Project folder in Google Drive"
      ]
    },
    {
      "cell_type": "code",
      "execution_count": null,
      "metadata": {
        "id": "TqXgjBvS3T5h"
      },
      "outputs": [],
      "source": [
        "drive_folder = \"NLP_project_data\"\n"
      ]
    },
    {
      "cell_type": "markdown",
      "metadata": {
        "id": "aog3WRix3YZC"
      },
      "source": [
        "## Load file"
      ]
    },
    {
      "cell_type": "code",
      "execution_count": null,
      "metadata": {
        "id": "nShjsVxM3X4E"
      },
      "outputs": [],
      "source": [
        "base_path   = os.path.join('drive/MyDrive/', drive_folder)\n",
        "eval_path   = os.path.join(base_path, 'Final_eval.json')\n",
        "\n",
        "eval_data = []\n",
        "folder_path = f'{base_path}/raw/dev'\n",
        "\n",
        "print(folder_path)\n",
        "\n",
        "# loop through all files in the given folder\n",
        "for root, dirs, files in os.walk(folder_path):\n",
        "    for file_name in files:\n",
        "        with open(f\"{folder_path}/{file_name}\", \"r\") as f:\n",
        "            data = json.load(f)\n",
        "\n",
        "        for d in data:\n",
        "          eval_data.append(d)\n",
        "\n",
        "dataset = Dataset.from_list(eval_data)\n",
        "print(\"Sample example:\")\n",
        "print(dataset[0])"
      ]
    },
    {
      "cell_type": "code",
      "execution_count": null,
      "metadata": {
        "id": "9PjxtL22yv4t"
      },
      "outputs": [],
      "source": [
        "entity_labels = dataset[0]['entity_label_set']  # list of entity types\n",
        "label_list = ['O'] + [f\"B-{l}\" for l in entity_labels] + [f\"I-{l}\" for l in entity_labels]\n",
        "label2id = {l: i for i, l in enumerate(label_list)}\n",
        "id2label = {i: l for l, i in label2id.items()}"
      ]
    },
    {
      "cell_type": "markdown",
      "metadata": {
        "id": "zm53dfjvAz-B"
      },
      "source": [
        "# Define models"
      ]
    },
    {
      "cell_type": "markdown",
      "metadata": {
        "id": "ti1frmdMPYUz"
      },
      "source": [
        "# Baseline models\n",
        "Define which model you used as a baseline model for the specific task"
      ]
    },
    {
      "cell_type": "code",
      "execution_count": null,
      "metadata": {
        "id": "UNJb31CMPda7"
      },
      "outputs": [],
      "source": [
        "baseline_ner_name = \"allenai/longformer-base-4096\"\n",
        "baseline_re_name = \"SpanBERT/spanbert-large-cased\"\n"
      ]
    },
    {
      "cell_type": "markdown",
      "metadata": {
        "id": "_KhLAFzTA13R"
      },
      "source": [
        "# Trained models\n",
        "\n",
        "Define your trained model for the specific task"
      ]
    },
    {
      "cell_type": "code",
      "execution_count": null,
      "metadata": {
        "id": "A8IAyiZ1RhEO"
      },
      "outputs": [],
      "source": [
        "trained_ner_name = f\"{base_path}/models/longformer/1/\"\n",
        "trained_re_name = f\"{base_path}/Model_checkpoints/checkpoint-306\""
      ]
    },
    {
      "cell_type": "markdown",
      "metadata": {
        "id": "N_5UIxiOA3dF"
      },
      "source": [
        "# Model selection\n",
        "\n",
        "Which model for NER, which for RE? -> Combination untrained/ untrained, trained/ trained, untrained/ trained, trained/ untrained"
      ]
    },
    {
      "cell_type": "markdown",
      "metadata": {
        "id": "ysRNjlYDRBBl"
      },
      "source": [
        "## Both baseline"
      ]
    },
    {
      "cell_type": "code",
      "execution_count": null,
      "metadata": {
        "id": "dM-hBYn1Q1EV"
      },
      "outputs": [],
      "source": [
        "ner_model_name = baseline_ner_name\n",
        "re_model_name  = baseline_re_name"
      ]
    },
    {
      "cell_type": "markdown",
      "metadata": {
        "id": "Tjl7gqUZRD64"
      },
      "source": [
        "## Both trained"
      ]
    },
    {
      "cell_type": "code",
      "execution_count": null,
      "metadata": {
        "id": "1wQL6dNbRWgd"
      },
      "outputs": [],
      "source": [
        "ner_model_name = trained_ner_name\n",
        "re_model_name  = trained_re_name"
      ]
    },
    {
      "cell_type": "markdown",
      "metadata": {
        "id": "8jWBBmYNRHGC"
      },
      "source": [
        "## NER: trained, RE: baseline"
      ]
    },
    {
      "cell_type": "code",
      "execution_count": null,
      "metadata": {
        "id": "AOqWb9yHRS_c"
      },
      "outputs": [],
      "source": [
        "ner_model_name = trained_ner_name\n",
        "re_model_name  = baseline_re_name"
      ]
    },
    {
      "cell_type": "markdown",
      "metadata": {
        "id": "Hs8GFyxCRKS1"
      },
      "source": [
        "## NER: baseline, RE: trained"
      ]
    },
    {
      "cell_type": "code",
      "execution_count": null,
      "metadata": {
        "id": "GqCg5zyaRZ3a"
      },
      "outputs": [],
      "source": [
        "ner_model_name = baseline_ner_name\n",
        "re_model_name  = trained_re_name"
      ]
    },
    {
      "cell_type": "markdown",
      "metadata": {
        "id": "sV83Si0vUPvB"
      },
      "source": [
        "# Load Models and Tokenizer"
      ]
    },
    {
      "cell_type": "markdown",
      "metadata": {
        "id": "4RHQ1PzcUTJJ"
      },
      "source": [
        "## NER"
      ]
    },
    {
      "cell_type": "code",
      "execution_count": null,
      "metadata": {
        "id": "PZe36BXf1GIQ"
      },
      "outputs": [],
      "source": [
        "print(ner_model_name)"
      ]
    },
    {
      "cell_type": "code",
      "execution_count": null,
      "metadata": {
        "id": "HuPIe9-9UVUk"
      },
      "outputs": [],
      "source": [
        "## Update once Daniel has finished setup\n",
        "ner_tokenizer = LongformerTokenizerFast.from_pretrained(baseline_ner_name)\n",
        "ner_model     = AutoModelForTokenClassification.from_pretrained(\n",
        "    ner_model_name\n",
        ")\n",
        "\n",
        "ner_pipe = pipeline(\n",
        "    'ner',\n",
        "    model=ner_model,\n",
        "    tokenizer=ner_tokenizer,\n",
        "    device=-1,\n",
        "    aggregation_strategy='simple'\n",
        ")\n"
      ]
    },
    {
      "cell_type": "markdown",
      "metadata": {
        "id": "rnvQ9uhbUXnt"
      },
      "source": [
        "## RE"
      ]
    },
    {
      "cell_type": "code",
      "execution_count": null,
      "metadata": {
        "id": "OlLQJe-CUSKx"
      },
      "outputs": [],
      "source": [
        "re_tokenizer  = AutoTokenizer.from_pretrained(re_model_name)\n",
        "if re_model_name == baseline_re_name:\n",
        "    # baseline: override classification head to fixed number of labels\n",
        "    cfg = AutoConfig.from_pretrained(\n",
        "        re_model_name,\n",
        "        num_labels=len(label2id),\n",
        "        label2id=label2id,\n",
        "        id2label=id2label\n",
        "    )\n",
        "    re_model = AutoModelForSequenceClassification.from_pretrained(\n",
        "        re_model_name,\n",
        "        config=cfg\n",
        "    )\n",
        "    print(f\"Loaded baseline RE model '{re_model_name}' with overridden head size num_labels={re_model.config.num_labels}\")\n",
        "else:\n",
        "    # trained: load checkpoint head as-is\n",
        "    re_model = AutoModelForSequenceClassification.from_pretrained(re_model_name)\n",
        "    print(f\"Loaded trained RE model '{re_model_name}' with head size num_labels={re_model.config.num_labels}\")\n"
      ]
    },
    {
      "cell_type": "markdown",
      "metadata": {
        "id": "91WtT1p3-bm9"
      },
      "source": [
        "#Initialize Wandb"
      ]
    },
    {
      "cell_type": "code",
      "execution_count": null,
      "metadata": {
        "id": "WsgYrS88-fkj"
      },
      "outputs": [],
      "source": [
        "wandb.init(\n",
        "    project=\"model-eval\",\n",
        "    name=f\"eval_{ner_model_name.split('/')[-1]}_{re_model_name.split('/')[-1]}\",\n",
        "    config={\n",
        "        \"ner_model\": ner_model_name,\n",
        "        \"re_model\": re_model_name,\n",
        "        \"dataset\": \"Final_eval.json\",\n",
        "        \"batch_size\": 32,\n",
        "        \"max_length\": 256,\n",
        "        \"seed\": 42,\n",
        "    }\n",
        ")"
      ]
    },
    {
      "cell_type": "markdown",
      "metadata": {
        "id": "1jf36s9hA7SY"
      },
      "source": [
        "# NER Eval\n",
        "\n",
        "Output: Entity file -> content"
      ]
    },
    {
      "cell_type": "code",
      "execution_count": null,
      "metadata": {
        "id": "fM1Ifo4Pyv4z"
      },
      "outputs": [],
      "source": [
        "ner_val_results = []\n",
        "for idx, example in enumerate(eval_data):\n",
        "    preds = ner_pipe(example['doc'])\n",
        "    ner_val_results.append({\n",
        "        'domain': example.get('domain'),\n",
        "        'doc_title': example.get('title', f'doc_{idx}'),\n",
        "        'entities': preds,\n",
        "        'doc': example.get('doc')\n",
        "    })\n",
        "\n",
        "print(ner_val_results[0])"
      ]
    },
    {
      "cell_type": "markdown",
      "metadata": {
        "id": "w0KaOyyVq1nI"
      },
      "source": [
        "Print NER Output for Nina to check"
      ]
    },
    {
      "cell_type": "code",
      "execution_count": null,
      "metadata": {
        "id": "wGBCYBJCq3hW"
      },
      "outputs": [],
      "source": [
        "import json\n",
        "import numpy as np\n",
        "\n",
        "with open('/content/ner_val_results.json','w') as f:\n",
        "    json.dump(\n",
        "        ner_val_results,\n",
        "        f,\n",
        "        default=lambda o: o.item() if isinstance(o, np.generic) else o\n",
        "    )\n"
      ]
    },
    {
      "cell_type": "code",
      "execution_count": null,
      "metadata": {
        "id": "WaorJn5gDiot"
      },
      "outputs": [],
      "source": [
        "# 2. Index them by (domain, title) for easy lookup\n",
        "gt_index = {(ex['domain'], ex['title']): ex for ex in eval_data}\n",
        "pred_index = {(p['domain'], p['doc_title']): p for p in ner_val_results}\n",
        "\n",
        "true_ner_labels = []\n",
        "pred_ner_labels = []\n",
        "\n",
        "for key, gt in gt_index.items():\n",
        "    pred = pred_index.get(key)\n",
        "    if pred is None:\n",
        "        continue\n",
        "\n",
        "    text = gt['doc']\n",
        "    # simple whitespace tokenization\n",
        "    tokens = text.split()\n",
        "    n = len(tokens)\n",
        "\n",
        "    # map each character position → token idx\n",
        "    char2tok = {}\n",
        "    offset = 0\n",
        "    for i, tok in enumerate(tokens):\n",
        "        start = text.find(tok, offset)\n",
        "        end = start + len(tok)\n",
        "        for c in range(start, end):\n",
        "            char2tok[c] = i\n",
        "        offset = end\n",
        "\n",
        "    # initialize all O’s\n",
        "    true_labels = ['O'] * n\n",
        "    pred_labels = ['O'] * n\n",
        "\n",
        "    # 3. Fill in ground-truth labels\n",
        "    for ent in gt['entities']:\n",
        "        ent_type = ent['type']\n",
        "        for mention in ent['mentions']:\n",
        "            start = text.find(mention)\n",
        "            while start != -1:\n",
        "                end = start + len(mention)\n",
        "                t0 = char2tok.get(start)\n",
        "                t1 = char2tok.get(end-1)\n",
        "                if t0 is not None and t1 is not None:\n",
        "                    true_labels[t0] = f'B-{ent_type}'\n",
        "                    for t in range(t0+1, t1+1):\n",
        "                        true_labels[t] = f'I-{ent_type}'\n",
        "                start = text.find(mention, end)\n",
        "\n",
        "    # 4. Fill in predicted labels\n",
        "    for ent in pred['entities']:\n",
        "        t0 = char2tok.get(ent['start'])\n",
        "        t1 = char2tok.get(ent['end'] - 1)\n",
        "        et = ent['entity_group']\n",
        "        if t0 is not None and t1 is not None:\n",
        "            pred_labels[t0] = f'B-{et}'\n",
        "            for t in range(t0+1, t1+1):\n",
        "                pred_labels[t] = f'I-{et}'\n",
        "\n",
        "    true_ner_labels.append(true_labels)\n",
        "    pred_ner_labels.append(pred_labels)\n"
      ]
    },
    {
      "cell_type": "markdown",
      "metadata": {
        "id": "E_g6H9G--tRp"
      },
      "source": [
        "## Log Metrics in Wandb"
      ]
    },
    {
      "cell_type": "code",
      "execution_count": null,
      "metadata": {
        "id": "HcVR516C-piY"
      },
      "outputs": [],
      "source": [
        "from seqeval.metrics import precision_score as ner_prec, recall_score as ner_rec, f1_score as ner_f1\n",
        "prec_ner = ner_prec(true_ner_labels, pred_ner_labels)\n",
        "rec_ner  = ner_rec(true_ner_labels, pred_ner_labels)\n",
        "f1_ner   = ner_f1(true_ner_labels, pred_ner_labels)\n",
        "\n",
        "print(prec_ner)\n",
        "print(rec_ner)\n",
        "print(f1_ner)\n",
        "\n",
        "wandb.log({\n",
        "    \"ner/precision\": prec_ner,\n",
        "    \"ner/recall\":    rec_ner,\n",
        "    \"ner/f1\":        f1_ner,\n",
        "})\n"
      ]
    },
    {
      "cell_type": "markdown",
      "metadata": {
        "id": "1HxNSKq-A8by"
      },
      "source": [
        "# RE Eval\n",
        "\n",
        "Input: Entity file, original challenge test file -> matching of entities to sentences (siehe wa) -> Liste mit dict"
      ]
    },
    {
      "cell_type": "markdown",
      "metadata": {
        "id": "TCXERBrXzR5x"
      },
      "source": [
        "## Preprocessing"
      ]
    },
    {
      "cell_type": "code",
      "execution_count": null,
      "metadata": {
        "id": "q_Bym75fqMYe"
      },
      "outputs": [],
      "source": [
        "# Mapping: challenge labels (Set 2) → docred labels (Set 1)\n",
        "mapping_challenge_to_docred = {\n",
        "    # ── Direct one-to-ones ───────────────────────────────────────────────────────\n",
        "    \"Affiliation\":                         \"member of\",\n",
        "    \"ApprovedBy\":                          \"ApprovedBy\",\n",
        "    \"Author\":                              \"author\",\n",
        "    \"AwardReceived\":                       \"award received\",\n",
        "    \"BasedOn\":                             \"BasedOn\",\n",
        "    \"Capital\":                             \"capital\",\n",
        "    \"Causes\":                              \"Causes\",\n",
        "    \"Continent\":                           \"continent\",\n",
        "    \"ContributedToCreativeWork\":           \"ContributedToCreativeWork\",\n",
        "    \"Country\":                             \"country\",\n",
        "    \"CountryOfCitizenship\":                \"country of citizenship\",\n",
        "    \"Creator\":                             \"creator\",\n",
        "    \"Developer\":                           \"developer\",\n",
        "    \"DifferentFrom\":                       \"DifferentFrom\",\n",
        "    \"Director\":                            \"director\",\n",
        "    \"EducatedAt\":                          \"educated at\",\n",
        "    \"Employer\":                            \"employer\",\n",
        "    \"FieldOfWork\":                         \"FieldOfWork\",\n",
        "    \"FollowedBy\":                          \"followed by\",\n",
        "    \"Follows\":                             \"follows\",\n",
        "    \"Founded\":                             \"founded\",\n",
        "    \"FoundedBy\":                           \"founded by\",\n",
        "    \"HasCause\":                            \"HasCause\",\n",
        "    \"HasEffect\":                           \"HasEffect\",\n",
        "    \"HasPart\":                             \"HasPart\",\n",
        "    \"HasWorksInTheCollection\":             \"HasWorksInTheCollection\",\n",
        "    \"InfluencedBy\":                        \"influenced by\",\n",
        "    \"IssuedBy\":                            \"IssuedBy\",\n",
        "    \"LocatedIn\":                           \"located in the administrative territorial entity\",\n",
        "    \"Location\":                            \"location\",\n",
        "    \"MemberOf\":                            \"member of\",\n",
        "    \"NamedBy\":                             \"NamedBy\",\n",
        "    \"NominatedFor\":                        \"nominated for\",\n",
        "    \"OfficialLanguage\":                    \"official language\",\n",
        "    \"OwnedBy\":                             \"owned by\",\n",
        "    \"OwnerOf\":                             \"owner of\",\n",
        "    \"ParentOrganization\":                  \"parent organization\",\n",
        "    \"PartOf\":                              \"part of\",\n",
        "    \"Partner\":                             \"partner\",\n",
        "    \"PlaceOfBirth\":                        \"place of birth\",\n",
        "    \"PositionHeld\":                        \"position held\",\n",
        "    \"PublishedIn\":                         \"PublishedIn\",\n",
        "    \"Replaces\":                            \"replaces\",\n",
        "    \"SaidToBeTheSameAs\":                   \"SaidToBeTheSameAs\",\n",
        "    \"Studies\":                             \"Studies\",\n",
        "    \"UsedBy\":                              \"UsedBy\",\n",
        "    \"Uses\":                                \"Uses\",\n",
        "    \"WorkLocation\":                        \"work location\",\n",
        "\n",
        "    # ── Very close synonyms ────────────────────────────────────────────────────\n",
        "    \"LanguageOfWorkOrName\":                \"original language of work\",\n",
        "    \"LanguageUsed\":                        \"languages spoken, written or signed\",\n",
        "    \"OriginalLanguageOfFilmOrTvShow\":      \"original language of work\",\n",
        "    \"PartyChiefRepresentative\":            \"head of government\",\n",
        "    \"PrimeFactor\":                         \"part of\",\n",
        "    \"TwinnedAdministrativeBody\":           \"sister city\",\n",
        "\n",
        "    # ── Functional / looser mappings ──────────────────────────────────────────\n",
        "    \"AcademicDegree\":                      \"educated at\",\n",
        "    \"AdjacentStation\":                     \"shares border with\",\n",
        "    \"AppliesToPeople\":                     \"applies to jurisdiction\",\n",
        "    \"CitesWork\":                           \"present in work\",\n",
        "    \"ContainsAdministrativeTerritorialEntity\":     \"contains administrative territorial entity\",\n",
        "    \"ContainsTheAdministrativeTerritorialEntity\":  \"contains administrative territorial entity\",\n",
        "    \"DiplomaticRelation\":                  \"conflict\",\n",
        "    \"HasQuality\":                          \"genre\",\n",
        "    \"InOppositionTo\":                      \"separated from\",\n",
        "    \"InspiredBy\":                          \"BasedOn\",\n",
        "    \"InterestedIn\":                        \"Studies\",\n",
        "    \"NamedAfter\":                          \"NamedBy\",\n",
        "    \"NativeLanguage\":                      \"languages spoken, written or signed\",\n",
        "    \"OperatingSystem\":                     \"platform\",\n",
        "    \"PhysicallyInteractsWith\":             \"shares border with\",\n",
        "    \"PracticedBy\":                         \"UsedBy\",\n",
        "    \"PresentedIn\":                         \"present in work\",\n",
        "    \"Promoted\":                            \"HasEffect\",\n",
        "    \"RegulatedBy\":                         \"IssuedBy\",\n",
        "    \"SharesBorderWith\":                    \"shares border with\",\n",
        "    \"SignificantEvent\":                    \"location\",\n",
        "}\n",
        "\n"
      ]
    },
    {
      "cell_type": "code",
      "execution_count": null,
      "metadata": {
        "id": "kJLZBSNIWK3n"
      },
      "outputs": [],
      "source": [
        "import json\n",
        "import re\n",
        "from collections import defaultdict\n",
        "from datasets import Dataset\n",
        "import numpy as np\n",
        "from transformers import (\n",
        "    Trainer,\n",
        "    TrainingArguments,\n",
        "    AutoConfig,\n",
        "    AutoModelForSequenceClassification,\n",
        "    AutoTokenizer\n",
        ")\n",
        "from sklearn.metrics import precision_recall_fscore_support, accuracy_score\n",
        "\n",
        "# === 0) Define fixed relation label mapping ===\n",
        "target_labels = sorted(set(mapping_challenge_to_docred.values()))\n",
        "label2id = {lbl: idx for idx, lbl in enumerate(target_labels)}\n",
        "id2label = {idx: lbl for lbl, idx in label2id.items()}\n",
        "print(f\"Using fixed RE labels (len={len(label2id)}): {label2id}\")\n",
        "\n",
        "# === 1) Load RE model & tokenizer with conditional head sizing ===\n",
        "def load_re_model(name_or_path, baseline_name):\n",
        "    # shared tokenizer across models\n",
        "    tokenizer = AutoTokenizer.from_pretrained(name_or_path)\n",
        "    if name_or_path == baseline_name:\n",
        "        cfg = AutoConfig.from_pretrained(\n",
        "            name_or_path,\n",
        "            num_labels=len(label2id),\n",
        "            label2id=label2id,\n",
        "            id2label=id2label\n",
        "        )\n",
        "        model = AutoModelForSequenceClassification.from_pretrained(\n",
        "            name_or_path,\n",
        "            config=cfg\n",
        "        )\n",
        "        print(f\"Loaded baseline RE model '{name_or_path}' with overridden head size num_labels={model.config.num_labels}\")\n",
        "    else:\n",
        "        model = AutoModelForSequenceClassification.from_pretrained(name_or_path)\n",
        "        print(f\"Loaded trained RE model '{name_or_path}' with head size num_labels={model.config.num_labels}\")\n",
        "    return model, tokenizer\n",
        "\n",
        "re_model, re_tokenizer = load_re_model(re_model_name, baseline_re_name)\n",
        "\n",
        "# ensure NLTK sentence tokenizer is available\n",
        "import nltk\n",
        "nltk.download('punkt')\n",
        "nltk.download('punkt_tab')\n",
        "\n",
        "# === 2) Index gold triples by normalized document title ===\n",
        "gold_by_doc = defaultdict(list)\n",
        "for meta in dataset:\n",
        "    key = meta[\"title\"].strip().lower()\n",
        "    for t in meta.get(\"triples\", []):\n",
        "        gold_by_doc[key].append(t)\n",
        "\n",
        "# === Helpers to split text into sentences and extract containing sentence ===\n",
        "from nltk.tokenize import sent_tokenize\n",
        "\n",
        "def split_sentences(text):\n",
        "    return sent_tokenize(text)\n",
        "\n",
        "def get_sentence(text, a, b):\n",
        "    for sent in split_sentences(text):\n",
        "        idx = text.find(sent)\n",
        "        if idx <= a < idx + len(sent) and idx <= b < idx + len(sent):\n",
        "            return sent\n",
        "    # no single sentence contains both spans → skip example\n",
        "    return None\n",
        "\n",
        "# === 3) Build positive-only RE examples from NER outputs + gold triples ===\n",
        "examples = []\n",
        "for doc in ner_val_results:\n",
        "    title = doc['doc_title'].strip().lower()\n",
        "    text  = doc.get('doc', '')\n",
        "    spans = defaultdict(list)\n",
        "    for ent in doc.get('entities', []):\n",
        "        key = ent.get('word', '').strip().lower()\n",
        "        spans[key].append((ent['start'], ent['end']))\n",
        "    for head, rel, tail in [(t['head'], t['relation'], t['tail']) for t in gold_by_doc.get(title, [])]:\n",
        "        mapped = mapping_challenge_to_docred.get(rel)\n",
        "        if mapped is None:\n",
        "            continue\n",
        "        hsp = spans.get(head.lower().strip(), [])\n",
        "        tsp = spans.get(tail.lower().strip(), [])\n",
        "        if not (hsp and tsp):\n",
        "            continue\n",
        "        sent = get_sentence(text, hsp[0][0], tsp[0][0])\n",
        "        if sent is None:\n",
        "            continue\n",
        "        examples.append({\n",
        "            'RE_sentence':    sent,\n",
        "            'entity1_label':  head,\n",
        "            'entity2_label':  tail,\n",
        "            'relation_label': mapped\n",
        "        })\n",
        "print(f\"Built {len(examples)} RE examples across {len(gold_by_doc)} docs\")\n",
        "if not examples:\n",
        "    raise RuntimeError(\"No RE examples built; check your mapping and NER outputs.\")\n",
        "\n",
        "# === 4) Define transforms for HF Dataset ===\n",
        "def make_example(ex):\n",
        "    sent, e1, e2 = ex['RE_sentence'], ex['entity1_label'], ex['entity2_label']\n",
        "    # only wrap the single sentence containing both entities\n",
        "    text = sent.replace(e1, f\"[E1]{e1}[/E1]\").replace(e2, f\"[E2]{e2}[/E2]\")\n",
        "    return {\n",
        "        'text': text,\n",
        "        'entity1_label': e1,\n",
        "        'entity2_label': e2,\n",
        "        'relation_label': ex['relation_label'],\n",
        "    }\n",
        "\n",
        "def add_label_ids(ex):\n",
        "    return {'labels': label2id[ex['relation_label']]}\n",
        "\n",
        "# === 5) Build HF Dataset and apply transforms ===\n",
        "re_val_ds = Dataset.from_list(examples)\n",
        "print(\"Columns before mapping:\", re_val_ds.column_names)\n",
        "re_val_ds = re_val_ds.map(make_example, remove_columns=['RE_sentence'])\n",
        "re_val_ds = re_val_ds.map(add_label_ids)\n",
        "print(\"→ Prepared RE validation set:\", re_val_ds)\n",
        "\n"
      ]
    },
    {
      "cell_type": "markdown",
      "metadata": {
        "id": "x6PL9C2O2kNY"
      },
      "source": [
        "### Build RE validation examples"
      ]
    },
    {
      "cell_type": "markdown",
      "metadata": {
        "id": "GHCm2DcupBrX"
      },
      "source": [
        "### Create HF Dataset"
      ]
    },
    {
      "cell_type": "markdown",
      "metadata": {
        "id": "jXPsC6JzqGdd"
      },
      "source": [
        "Mapping Challenge labels to Labels in Docred that RE model was trained on"
      ]
    },
    {
      "cell_type": "markdown",
      "metadata": {
        "id": "1nc1v9Gu-w_9"
      },
      "source": [
        "## Log metrics in Wandb"
      ]
    },
    {
      "cell_type": "code",
      "execution_count": null,
      "metadata": {
        "id": "HvqazyZtbAJH"
      },
      "outputs": [],
      "source": [
        "# First, load the correct RE model & tokenizer (baseline vs. trained)\n",
        "re_tokenizer  = AutoTokenizer.from_pretrained(re_model_name)\n",
        "if re_model_name == baseline_re_name:\n",
        "    # baseline: override classification head to fixed number of labels\n",
        "    cfg = AutoConfig.from_pretrained(\n",
        "        re_model_name,\n",
        "        num_labels=len(label2id),\n",
        "        label2id=label2id,\n",
        "        id2label=id2label\n",
        "    )\n",
        "    re_model = AutoModelForSequenceClassification.from_pretrained(\n",
        "        re_model_name,\n",
        "        config=cfg\n",
        "    )\n",
        "    print(f\"Loaded baseline RE model '{re_model_name}' with overridden head size num_labels={re_model.config.num_labels}\")\n",
        "else:\n",
        "    # trained: load checkpoint head as-is\n",
        "    re_model = AutoModelForSequenceClassification.from_pretrained(re_model_name)\n",
        "    print(f\"Loaded trained RE model '{re_model_name}' with head size num_labels={re_model.config.num_labels}\")\n",
        "\n",
        "# 7) Tokenization function using the newly loaded tokenizer\n",
        "def tokenize_fn(batch):\n",
        "    return re_tokenizer(\n",
        "        batch['text'],\n",
        "        padding='max_length',\n",
        "        truncation=True,\n",
        "        max_length=256\n",
        "    )\n",
        "\n",
        "# Apply tokenization to your validation dataset\n",
        "tokenized_val = re_val_ds.map(tokenize_fn, batched=True)\n",
        "\n",
        "# 8) Define evaluation metrics\n",
        "def compute_metrics(eval_pred):\n",
        "    logits, labels = eval_pred\n",
        "    preds = np.argmax(logits, axis=-1)\n",
        "    p, r, f1, _ = precision_recall_fscore_support(labels, preds, average='weighted')\n",
        "    acc = accuracy_score(labels, preds)\n",
        "    return {'accuracy': acc, 'precision': p, 'recall': r, 'f1': f1}\n",
        "\n",
        "# 9) Set up Trainer for evaluation\n",
        "eval_args = TrainingArguments(\n",
        "    output_dir='/content/re_eval_output',\n",
        "    per_device_eval_batch_size=32,\n",
        "    do_train=False,\n",
        "    do_eval=True,\n",
        "    logging_dir='/content/logs',\n",
        "    report_to='wandb'\n",
        ")\n",
        "trainer = Trainer(\n",
        "    model=re_model,\n",
        "    args=eval_args,\n",
        "    tokenizer=re_tokenizer,\n",
        "    compute_metrics=compute_metrics\n",
        ")\n",
        "\n",
        "# 10) Run evaluation\n",
        "eval_result = trainer.evaluate(eval_dataset=tokenized_val)\n",
        "print(\"🔍 RE Validation Results:\", eval_result)\n",
        "\n",
        "# 11) Generate and save predictions as before\n",
        "preds_output = trainer.predict(tokenized_val)\n",
        "pred_ids = np.argmax(preds_output.predictions, axis=-1)\n",
        "\n",
        "# Determine id2label mapping to use for predictions\n",
        "# If model config defines id2label, prefer that (e.g., for trained model with 87 classes)\n",
        "if hasattr(re_model.config, 'id2label') and re_model.config.id2label:\n",
        "    pred_id2label = re_model.config.id2label\n",
        "else:\n",
        "    pred_id2label = id2label\n",
        "\n",
        "# sanitize filename & write out JSON\n",
        "import os\n",
        "safe_model_name = os.path.basename(re_model_name.rstrip('/'))\n",
        "output_path = f'/content/re_{safe_model_name}_predictions.json'\n",
        "\n",
        "outputs = []\n",
        "for ex, pred in zip(re_val_ds, pred_ids):\n",
        "    # guard against out-of-range predictions\n",
        "    pred_label = pred_id2label.get(pred, 'UNKNOWN')\n",
        "    outputs.append({\n",
        "        'text': ex['text'],\n",
        "        'entity1_label': ex['entity1_label'],\n",
        "        'entity2_label': ex['entity2_label'],\n",
        "        'gold_relation': ex['relation_label'],\n",
        "        'predicted_relation': pred_label\n",
        "    })\n",
        "with open(output_path, 'w') as f:\n",
        "    json.dump(outputs, f, indent=2)\n",
        "print(f\"Wrote predictions to {output_path}\")"
      ]
    },
    {
      "cell_type": "markdown",
      "metadata": {
        "id": "-LLxXxc_0iXU"
      },
      "source": [
        "### Tokenize Validation Examples"
      ]
    },
    {
      "cell_type": "markdown",
      "metadata": {
        "id": "zIM4suAG07MK"
      },
      "source": [
        "### Classification report"
      ]
    },
    {
      "cell_type": "code",
      "execution_count": null,
      "metadata": {
        "id": "2mdkf-sM07jD"
      },
      "outputs": [],
      "source": [
        "from sklearn.metrics import classification_report\n",
        "\n",
        "# true / pred IDs\n",
        "true_ids = re_val_ds['labels']\n",
        "pred_ids = pred_ids   # from trainer.predict()\n",
        "\n",
        "# pick the right id→label map\n",
        "if hasattr(re_model.config, 'id2label') and re_model.config.id2label:\n",
        "    # HF stores them as strings, so cast keys back to ints:\n",
        "    model_id2label = { int(k):v for k,v in re_model.config.id2label.items() }\n",
        "else:\n",
        "    model_id2label = id2label  # your 0–58 fixed mapping\n",
        "\n",
        "# only include the classes we actually see\n",
        "unique_labels = sorted(set(true_ids) | set(pred_ids))\n",
        "target_names   = [ model_id2label[l] for l in unique_labels ]\n",
        "\n",
        "# build and log the report\n",
        "report = classification_report(\n",
        "    true_ids,\n",
        "    pred_ids,\n",
        "    labels=unique_labels,\n",
        "    target_names=target_names,\n",
        "    output_dict=True,\n",
        "    zero_division=0\n",
        ")\n",
        "wandb.log({\"classification_report\": report})\n",
        "\n",
        "# micro-average metrics\n",
        "prec_re, rec_re, f1_re, _ = precision_recall_fscore_support(\n",
        "    true_ids,\n",
        "    pred_ids,\n",
        "    labels=unique_labels,\n",
        "    average='micro'\n",
        ")\n",
        "wandb.log({\n",
        "    \"re/precision\": prec_re,\n",
        "    \"re/recall\":    rec_re,\n",
        "    \"re/f1\":        f1_re,\n",
        "})\n",
        "\n",
        "# finally, your summary table (assuming prec_ner etc.)\n",
        "summary_table = wandb.Table(\n",
        "    columns=[\n",
        "      \"ner_precision\",\"ner_recall\",\"ner_f1\",\n",
        "      \"re_precision\", \"re_recall\", \"re_f1\"\n",
        "    ],\n",
        "    data=[[prec_ner, rec_ner, f1_ner, prec_re, rec_re, f1_re]]\n",
        ")\n",
        "wandb.log({\"metrics_summary\": summary_table})\n"
      ]
    },
    {
      "cell_type": "code",
      "execution_count": null,
      "metadata": {
        "id": "pdg2E9LmHEoN"
      },
      "outputs": [],
      "source": [
        "from sklearn.metrics import classification_report, precision_recall_fscore_support\n",
        "\n",
        "# 1) Build an equivalence map to collapse synonyms\n",
        "equiv = {\n",
        "    \"HasPart\": \"HasPart\",\n",
        "    \"part of\": \"HasPart\",\n",
        "    # ── add any other pairs you want to collapse ──\n",
        "    \"BasedOn\":      \"BasedOn\",\n",
        "    \"HasEffect\":    \"HasEffect\",\n",
        "    \"Causes\":       \"Causes\",\n",
        "    \"influenced by\":\"InfluencedBy\",\n",
        "    \"InfluencedBy\": \"InfluencedBy\",\n",
        "    # …\n",
        "}\n",
        "\n",
        "# 2) Pull out the *string* gold & predicted labels\n",
        "gold_str = re_val_ds[\"relation_label\"]         # e.g. [\"HasPart\",\"HasPart\",…]\n",
        "pred_str = [ pred_id2label.get(p, \"UNKNOWN\")   # your pred_id2label from earlier\n",
        "             for p in pred_ids ]\n",
        "\n",
        "# 3) Normalize both through the equivalence map\n",
        "gold_norm = [ equiv[g] if g in equiv else g for g in gold_str ]\n",
        "pred_norm = [ equiv[p] if p in equiv else p for p in pred_str ]\n",
        "\n",
        "# 4) Compute unique *string* labels actually present\n",
        "unique_labels_str = sorted(set(gold_norm) | set(pred_norm))\n",
        "\n",
        "# 5) Run classification_report on strings directly\n",
        "report = classification_report(\n",
        "    gold_norm,\n",
        "    pred_norm,\n",
        "    labels=unique_labels_str,\n",
        "    target_names=unique_labels_str,\n",
        "    output_dict=True,\n",
        "    zero_division=0\n",
        ")\n",
        "wandb.log({\"classification_report\": report})\n",
        "\n",
        "# 6) And micro‐averaged PRF on the strings as well:\n",
        "prec_re, rec_re, f1_re, _ = precision_recall_fscore_support(\n",
        "    gold_norm,\n",
        "    pred_norm,\n",
        "    labels=unique_labels_str,\n",
        "    average='micro'\n",
        ")\n",
        "wandb.log({\n",
        "    \"re/precision\": prec_re,\n",
        "    \"re/recall\":    rec_re,\n",
        "    \"re/f1\":        f1_re,\n",
        "})\n"
      ]
    },
    {
      "cell_type": "markdown",
      "metadata": {
        "id": "m4yVOJzh_vwb"
      },
      "source": [
        "Wrap Up\n"
      ]
    },
    {
      "cell_type": "code",
      "execution_count": null,
      "metadata": {
        "id": "0J8TqQZE_xCM"
      },
      "outputs": [],
      "source": [
        "wandb.finish()"
      ]
    }
  ],
  "metadata": {
    "accelerator": "GPU",
    "colab": {
      "gpuType": "T4",
      "include_colab_link": true,
      "provenance": []
    },
    "kernelspec": {
      "display_name": "nlp_project_p311",
      "language": "python",
      "name": "python3"
    },
    "language_info": {
      "codemirror_mode": {
        "name": "ipython",
        "version": 3
      },
      "file_extension": ".py",
      "mimetype": "text/x-python",
      "name": "python",
      "nbconvert_exporter": "python",
      "pygments_lexer": "ipython3",
      "version": "3.11.11"
    }
  },
  "nbformat": 4,
  "nbformat_minor": 0
}
