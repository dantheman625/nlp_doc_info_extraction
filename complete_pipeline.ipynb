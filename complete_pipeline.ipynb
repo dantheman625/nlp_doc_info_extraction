{
  "cells": [
    {
      "cell_type": "markdown",
      "metadata": {
        "id": "view-in-github",
        "colab_type": "text"
      },
      "source": [
        "<a href=\"https://colab.research.google.com/github/dantheman625/nlp_doc_info_extraction/blob/complete_pipe/complete_pipeline.ipynb\" target=\"_parent\"><img src=\"https://colab.research.google.com/assets/colab-badge.svg\" alt=\"Open In Colab\"/></a>"
      ]
    },
    {
      "cell_type": "markdown",
      "metadata": {
        "id": "wB-78NmTAxDn"
      },
      "source": [
        "# Imports"
      ]
    },
    {
      "cell_type": "code",
      "execution_count": 1,
      "metadata": {
        "id": "pJgrjPQwCqbh",
        "colab": {
          "base_uri": "https://localhost:8080/"
        },
        "outputId": "0683078a-98e7-4cbe-b565-256215033feb"
      },
      "outputs": [
        {
          "output_type": "stream",
          "name": "stdout",
          "text": [
            "Collecting seqeval\n",
            "  Downloading seqeval-1.2.2.tar.gz (43 kB)\n",
            "\u001b[?25l     \u001b[90m━━━━━━━━━━━━━━━━━━━━━━━━━━━━━━━━━━━━━━━━\u001b[0m \u001b[32m0.0/43.6 kB\u001b[0m \u001b[31m?\u001b[0m eta \u001b[36m-:--:--\u001b[0m\r\u001b[2K     \u001b[90m━━━━━━━━━━━━━━━━━━━━━━━━━━━━━━━━━━━━━━━━\u001b[0m \u001b[32m43.6/43.6 kB\u001b[0m \u001b[31m1.9 MB/s\u001b[0m eta \u001b[36m0:00:00\u001b[0m\n",
            "\u001b[?25h  Preparing metadata (setup.py) ... \u001b[?25l\u001b[?25hdone\n",
            "Requirement already satisfied: scikit-learn in /usr/local/lib/python3.11/dist-packages (1.6.1)\n",
            "Requirement already satisfied: datasets in /usr/local/lib/python3.11/dist-packages (2.14.4)\n",
            "Requirement already satisfied: wandb in /usr/local/lib/python3.11/dist-packages (0.19.11)\n",
            "Requirement already satisfied: nltk in /usr/local/lib/python3.11/dist-packages (3.9.1)\n",
            "Requirement already satisfied: numpy>=1.14.0 in /usr/local/lib/python3.11/dist-packages (from seqeval) (2.0.2)\n",
            "Requirement already satisfied: scipy>=1.6.0 in /usr/local/lib/python3.11/dist-packages (from scikit-learn) (1.15.3)\n",
            "Requirement already satisfied: joblib>=1.2.0 in /usr/local/lib/python3.11/dist-packages (from scikit-learn) (1.5.0)\n",
            "Requirement already satisfied: threadpoolctl>=3.1.0 in /usr/local/lib/python3.11/dist-packages (from scikit-learn) (3.6.0)\n",
            "Requirement already satisfied: pyarrow>=8.0.0 in /usr/local/lib/python3.11/dist-packages (from datasets) (18.1.0)\n",
            "Requirement already satisfied: dill<0.3.8,>=0.3.0 in /usr/local/lib/python3.11/dist-packages (from datasets) (0.3.7)\n",
            "Requirement already satisfied: pandas in /usr/local/lib/python3.11/dist-packages (from datasets) (2.2.2)\n",
            "Requirement already satisfied: requests>=2.19.0 in /usr/local/lib/python3.11/dist-packages (from datasets) (2.32.3)\n",
            "Requirement already satisfied: tqdm>=4.62.1 in /usr/local/lib/python3.11/dist-packages (from datasets) (4.67.1)\n",
            "Requirement already satisfied: xxhash in /usr/local/lib/python3.11/dist-packages (from datasets) (3.5.0)\n",
            "Requirement already satisfied: multiprocess in /usr/local/lib/python3.11/dist-packages (from datasets) (0.70.15)\n",
            "Requirement already satisfied: fsspec>=2021.11.1 in /usr/local/lib/python3.11/dist-packages (from fsspec[http]>=2021.11.1->datasets) (2025.3.2)\n",
            "Requirement already satisfied: aiohttp in /usr/local/lib/python3.11/dist-packages (from datasets) (3.11.15)\n",
            "Requirement already satisfied: huggingface-hub<1.0.0,>=0.14.0 in /usr/local/lib/python3.11/dist-packages (from datasets) (0.31.2)\n",
            "Requirement already satisfied: packaging in /usr/local/lib/python3.11/dist-packages (from datasets) (24.2)\n",
            "Requirement already satisfied: pyyaml>=5.1 in /usr/local/lib/python3.11/dist-packages (from datasets) (6.0.2)\n",
            "Requirement already satisfied: click!=8.0.0,>=7.1 in /usr/local/lib/python3.11/dist-packages (from wandb) (8.2.0)\n",
            "Requirement already satisfied: docker-pycreds>=0.4.0 in /usr/local/lib/python3.11/dist-packages (from wandb) (0.4.0)\n",
            "Requirement already satisfied: gitpython!=3.1.29,>=1.0.0 in /usr/local/lib/python3.11/dist-packages (from wandb) (3.1.44)\n",
            "Requirement already satisfied: platformdirs in /usr/local/lib/python3.11/dist-packages (from wandb) (4.3.8)\n",
            "Requirement already satisfied: protobuf!=4.21.0,!=5.28.0,<7,>=3.19.0 in /usr/local/lib/python3.11/dist-packages (from wandb) (5.29.4)\n",
            "Requirement already satisfied: psutil>=5.0.0 in /usr/local/lib/python3.11/dist-packages (from wandb) (5.9.5)\n",
            "Requirement already satisfied: pydantic<3 in /usr/local/lib/python3.11/dist-packages (from wandb) (2.11.4)\n",
            "Requirement already satisfied: sentry-sdk>=2.0.0 in /usr/local/lib/python3.11/dist-packages (from wandb) (2.28.0)\n",
            "Requirement already satisfied: setproctitle in /usr/local/lib/python3.11/dist-packages (from wandb) (1.3.6)\n",
            "Requirement already satisfied: setuptools in /usr/local/lib/python3.11/dist-packages (from wandb) (75.2.0)\n",
            "Requirement already satisfied: typing-extensions<5,>=4.4 in /usr/local/lib/python3.11/dist-packages (from wandb) (4.13.2)\n",
            "Requirement already satisfied: regex>=2021.8.3 in /usr/local/lib/python3.11/dist-packages (from nltk) (2024.11.6)\n",
            "Requirement already satisfied: six>=1.4.0 in /usr/local/lib/python3.11/dist-packages (from docker-pycreds>=0.4.0->wandb) (1.17.0)\n",
            "Requirement already satisfied: aiohappyeyeballs>=2.3.0 in /usr/local/lib/python3.11/dist-packages (from aiohttp->datasets) (2.6.1)\n",
            "Requirement already satisfied: aiosignal>=1.1.2 in /usr/local/lib/python3.11/dist-packages (from aiohttp->datasets) (1.3.2)\n",
            "Requirement already satisfied: attrs>=17.3.0 in /usr/local/lib/python3.11/dist-packages (from aiohttp->datasets) (25.3.0)\n",
            "Requirement already satisfied: frozenlist>=1.1.1 in /usr/local/lib/python3.11/dist-packages (from aiohttp->datasets) (1.6.0)\n",
            "Requirement already satisfied: multidict<7.0,>=4.5 in /usr/local/lib/python3.11/dist-packages (from aiohttp->datasets) (6.4.3)\n",
            "Requirement already satisfied: propcache>=0.2.0 in /usr/local/lib/python3.11/dist-packages (from aiohttp->datasets) (0.3.1)\n",
            "Requirement already satisfied: yarl<2.0,>=1.17.0 in /usr/local/lib/python3.11/dist-packages (from aiohttp->datasets) (1.20.0)\n",
            "Requirement already satisfied: gitdb<5,>=4.0.1 in /usr/local/lib/python3.11/dist-packages (from gitpython!=3.1.29,>=1.0.0->wandb) (4.0.12)\n",
            "Requirement already satisfied: filelock in /usr/local/lib/python3.11/dist-packages (from huggingface-hub<1.0.0,>=0.14.0->datasets) (3.18.0)\n",
            "Requirement already satisfied: annotated-types>=0.6.0 in /usr/local/lib/python3.11/dist-packages (from pydantic<3->wandb) (0.7.0)\n",
            "Requirement already satisfied: pydantic-core==2.33.2 in /usr/local/lib/python3.11/dist-packages (from pydantic<3->wandb) (2.33.2)\n",
            "Requirement already satisfied: typing-inspection>=0.4.0 in /usr/local/lib/python3.11/dist-packages (from pydantic<3->wandb) (0.4.0)\n",
            "Requirement already satisfied: charset-normalizer<4,>=2 in /usr/local/lib/python3.11/dist-packages (from requests>=2.19.0->datasets) (3.4.2)\n",
            "Requirement already satisfied: idna<4,>=2.5 in /usr/local/lib/python3.11/dist-packages (from requests>=2.19.0->datasets) (3.10)\n",
            "Requirement already satisfied: urllib3<3,>=1.21.1 in /usr/local/lib/python3.11/dist-packages (from requests>=2.19.0->datasets) (2.4.0)\n",
            "Requirement already satisfied: certifi>=2017.4.17 in /usr/local/lib/python3.11/dist-packages (from requests>=2.19.0->datasets) (2025.4.26)\n",
            "Requirement already satisfied: python-dateutil>=2.8.2 in /usr/local/lib/python3.11/dist-packages (from pandas->datasets) (2.9.0.post0)\n",
            "Requirement already satisfied: pytz>=2020.1 in /usr/local/lib/python3.11/dist-packages (from pandas->datasets) (2025.2)\n",
            "Requirement already satisfied: tzdata>=2022.7 in /usr/local/lib/python3.11/dist-packages (from pandas->datasets) (2025.2)\n",
            "Requirement already satisfied: smmap<6,>=3.0.1 in /usr/local/lib/python3.11/dist-packages (from gitdb<5,>=4.0.1->gitpython!=3.1.29,>=1.0.0->wandb) (5.0.2)\n",
            "Building wheels for collected packages: seqeval\n",
            "  Building wheel for seqeval (setup.py) ... \u001b[?25l\u001b[?25hdone\n",
            "  Created wheel for seqeval: filename=seqeval-1.2.2-py3-none-any.whl size=16162 sha256=2d104e6dab2940339c0933005302e5c520bd956eea841725cd3821de2f5a19d8\n",
            "  Stored in directory: /root/.cache/pip/wheels/bc/92/f0/243288f899c2eacdfa8c5f9aede4c71a9bad0ee26a01dc5ead\n",
            "Successfully built seqeval\n",
            "Installing collected packages: seqeval\n",
            "Successfully installed seqeval-1.2.2\n"
          ]
        }
      ],
      "source": [
        "!pip install seqeval scikit-learn datasets wandb nltk"
      ]
    },
    {
      "cell_type": "code",
      "execution_count": 2,
      "metadata": {
        "id": "ldcCU7mJPVll"
      },
      "outputs": [],
      "source": [
        "import torch\n",
        "from transformers import (\n",
        "    AutoTokenizer,\n",
        "    AutoModelForTokenClassification,\n",
        "    AutoModelForSequenceClassification,\n",
        "    LongformerTokenizerFast,\n",
        "    pipeline\n",
        ")\n",
        "from datasets import Dataset\n",
        "import numpy as np\n",
        "import os\n",
        "import json"
      ]
    },
    {
      "cell_type": "markdown",
      "metadata": {
        "id": "E3DTsURh-79i"
      },
      "source": [
        "## Wandb login"
      ]
    },
    {
      "cell_type": "code",
      "execution_count": 3,
      "metadata": {
        "id": "8cu4-vLz_fT5",
        "colab": {
          "base_uri": "https://localhost:8080/",
          "height": 207
        },
        "outputId": "4a714e7b-0c69-4cf5-a45d-fe7d59cf90f0"
      },
      "outputs": [
        {
          "output_type": "display_data",
          "data": {
            "text/plain": [
              "<IPython.core.display.Javascript object>"
            ],
            "application/javascript": [
              "\n",
              "        window._wandbApiKey = new Promise((resolve, reject) => {\n",
              "            function loadScript(url) {\n",
              "            return new Promise(function(resolve, reject) {\n",
              "                let newScript = document.createElement(\"script\");\n",
              "                newScript.onerror = reject;\n",
              "                newScript.onload = resolve;\n",
              "                document.body.appendChild(newScript);\n",
              "                newScript.src = url;\n",
              "            });\n",
              "            }\n",
              "            loadScript(\"https://cdn.jsdelivr.net/npm/postmate/build/postmate.min.js\").then(() => {\n",
              "            const iframe = document.createElement('iframe')\n",
              "            iframe.style.cssText = \"width:0;height:0;border:none\"\n",
              "            document.body.appendChild(iframe)\n",
              "            const handshake = new Postmate({\n",
              "                container: iframe,\n",
              "                url: 'https://wandb.ai/authorize'\n",
              "            });\n",
              "            const timeout = setTimeout(() => reject(\"Couldn't auto authenticate\"), 5000)\n",
              "            handshake.then(function(child) {\n",
              "                child.on('authorize', data => {\n",
              "                    clearTimeout(timeout)\n",
              "                    resolve(data)\n",
              "                });\n",
              "            });\n",
              "            })\n",
              "        });\n",
              "    "
            ]
          },
          "metadata": {}
        },
        {
          "output_type": "stream",
          "name": "stderr",
          "text": [
            "\u001b[34m\u001b[1mwandb\u001b[0m: Logging into wandb.ai. (Learn how to deploy a W&B server locally: https://wandb.me/wandb-server)\n",
            "\u001b[34m\u001b[1mwandb\u001b[0m: You can find your API key in your browser here: https://wandb.ai/authorize\n",
            "wandb: Paste an API key from your profile and hit enter:"
          ]
        },
        {
          "name": "stdout",
          "output_type": "stream",
          "text": [
            " ··········\n"
          ]
        },
        {
          "output_type": "stream",
          "name": "stderr",
          "text": [
            "\u001b[34m\u001b[1mwandb\u001b[0m: \u001b[33mWARNING\u001b[0m If you're specifying your api key in code, ensure this code is not shared publicly.\n",
            "\u001b[34m\u001b[1mwandb\u001b[0m: \u001b[33mWARNING\u001b[0m Consider setting the WANDB_API_KEY environment variable, or running `wandb login` from the command line.\n",
            "\u001b[34m\u001b[1mwandb\u001b[0m: No netrc file found, creating one.\n",
            "\u001b[34m\u001b[1mwandb\u001b[0m: Appending key for api.wandb.ai to your netrc file: /root/.netrc\n",
            "\u001b[34m\u001b[1mwandb\u001b[0m: Currently logged in as: \u001b[33mninakrebs1\u001b[0m (\u001b[33mninakrebs1-university-of-st-gallen-student-union-shsg\u001b[0m) to \u001b[32mhttps://api.wandb.ai\u001b[0m. Use \u001b[1m`wandb login --relogin`\u001b[0m to force relogin\n"
          ]
        },
        {
          "output_type": "execute_result",
          "data": {
            "text/plain": [
              "True"
            ]
          },
          "metadata": {},
          "execution_count": 3
        }
      ],
      "source": [
        "import wandb\n",
        "wandb.login()"
      ]
    },
    {
      "cell_type": "markdown",
      "metadata": {
        "id": "rT9cEecqA9pj"
      },
      "source": [
        "# Datasets\n",
        "\n",
        "Import Challenge data set (Final_eval.json)\n"
      ]
    },
    {
      "cell_type": "markdown",
      "metadata": {
        "id": "GCnzzC7f3NLs"
      },
      "source": [
        "## Mount Drive"
      ]
    },
    {
      "cell_type": "code",
      "execution_count": 4,
      "metadata": {
        "id": "ejY9V79h3JUb",
        "colab": {
          "base_uri": "https://localhost:8080/"
        },
        "outputId": "76ae32a0-075b-4b29-b2cd-8e65bade0a9d"
      },
      "outputs": [
        {
          "output_type": "stream",
          "name": "stdout",
          "text": [
            "Mounted at /content/drive\n"
          ]
        }
      ],
      "source": [
        "from google.colab import drive   # only in Colab; skip if you’re on a different setup\n",
        "import os\n",
        "import json\n",
        "\n",
        "#drive.mount('/content/drive', force_remount=True)\n",
        "drive.mount('/content/drive')"
      ]
    },
    {
      "cell_type": "markdown",
      "metadata": {
        "id": "EkCwny0seKjj"
      },
      "source": [
        "## Set Project folder in Google Drive"
      ]
    },
    {
      "cell_type": "code",
      "execution_count": 5,
      "metadata": {
        "id": "TqXgjBvS3T5h"
      },
      "outputs": [],
      "source": [
        "drive_folder = \"NLP_project_data\"\n"
      ]
    },
    {
      "cell_type": "markdown",
      "metadata": {
        "id": "aog3WRix3YZC"
      },
      "source": [
        "## Load file"
      ]
    },
    {
      "cell_type": "code",
      "execution_count": 6,
      "metadata": {
        "id": "nShjsVxM3X4E",
        "colab": {
          "base_uri": "https://localhost:8080/"
        },
        "outputId": "e05a3473-9919-4d45-ea20-b8f8fbf3120e"
      },
      "outputs": [
        {
          "output_type": "stream",
          "name": "stdout",
          "text": [
            "drive/MyDrive/NLP_project_data/raw/dev\n",
            "Sample example:\n",
            "{'domain': 'Human_behavior', 'title': 'Affect_infusion_model', 'doc': 'The Affect infusion model (AIM) is a theoretical model in the field of human psychology. Developed by social psychologist Joseph Paul Forgas in the early 1990s, it attempts to explain how affect impacts one\\'s ability to process information. A key assertion of the AIM is that the effects of affect tend to be exacerbated in complex situations that demand substantial cognitive processing. In simpler words, as situations become more complicated and unanticipated, mood becomes more influential in driving evaluations and responses.\\nForgas defined the term affect infusion as \"the process whereby affectively loaded information exerts an influence on and becomes incorporated into the judgmental process, entering into the judge\\'s deliberations and eventually coloring the judgmental outcome\". In other words, a process that determines the degree to which mood can affect our judgement. According to the AIM, affect (mood and emotion) exerts a notable influence not only on information processing but on the resulting response behaviors as well. For example, if a person receives an inordinately large electric bill, they will respond differently if they have had a relaxing and stress-free day than they will if they have just been stuck in traffic for two hours. Under this latter circumstance, the person will experience high levels of affect infusion, as their agitated state will be made worse upon seeing the electric bill. An assumption of the AIM is that this effect will generally occur more strongly as the complexity of a situation increases. Highly complex situations can exhibit a number of qualities, such as the amount of effort needed to process the information, whether the situation is familiar or entirely new and how severely the situation affects the person. Some common activities that tend to produce high affect infusion include: choosing whether or not to drink or take drugs, selecting or getting to know a new partner, explaining a conflict or allocating rewards to a group.\\nAccording to Forgas, the varying levels of affect infusion can be seen as a continuum, with four alternative processing strategies as markers along that continuum. These strategies represent the different degrees of severity in which mood exerts its influence. In identifying these strategies, two important differentiating factors are considered: the information search strategies used to perform a task (open or restricted)\\nthe extent of the information considered in constructing a response.\\nSeveral factors related to the judgment target, context, and judger influence which processing strategy is selected.\\nFamiliarity - Familiar targets are more likely to elicit either direct access or motivated processing.\\nImportance - Unimportant judgments are more likely to encourage direct access processing or motivated processing when a specific motive exists.\\nAtypical - If a target is complex or unusual it is more likely to trigger substantive processing, otherwise heuristic processing may be used.\\nCognitive capacity - If the individual has cognitive capacity substantive processing may be more likely.\\nAffective state - Positive affect is more closely linked to heuristic processing, while negative affect is more closely associated with substantive processing.\\nMotivation for accuracy - An individual who is motivated to be accurate will be more likely to use substantive processing.\\nThe least intensive of the four, direct access processing, involves reproducing a stored reaction, that is, repeating a response that has been given before to a similar situation. According to the AIM, the influence of mood on cognition will be least severe during this type of processing.Motivated processing usually involves specific and targeted search strategies with a direct informational goal in mind. This strategy also involves little influence from mood, as the individual in question will have a fairly clear idea of what information he or she needs (although it is higher on the continuum than direct access processing).Heuristic processing assumes that affective processing, or emotional processing, occurs outside our awareness, with people simply making sense of their emotional reactions as they happen. Thus, affective experience provides people with information about themselves, including their tendencies and implicit judgments. This process is also known as the \"affect-as-information\" mechanism.Also called systematic processing, this strategy involves the most elaborate cognitive processing and appears highest on the continuum, as it is the most powerfully affected by mood. The reason substantive processing is most apt to be infused by affect is because mood can affect each stage in the cognition process: attention, encoding, retrieval, and association.Attention : To grapple with the amount of information that elicits substantive processing, people are likely to only focus on a subset of the entire information available. Mood-congruent information is more likely to be attended to than mood-incongruent information.\\nEncoding : People spend more time encoding mood-congruent into a richer network of representations than mood incongruent information.\\nRetrieval - Mood-congruent information is more likely to be retrieved from memory than other details.\\nAssociation : Constructive social judgments require the interpretation of complex information. Affect can prime certain associations that influence subsequent interpretation.\\nTaken as a whole, Forgas has identified two overarching conditions under which mood is most likely to affect information processing: \\nsituations that require cognition about difficult, peripheral subjects\\nsituations that require judgment of obscure, atypical subjects.\\nBecause mood itself is relatively complex, being the sum of many smaller emotional experiences with no single cause, pinpointing its real-world influence is no easy task. But scholars have used the AIM to examine a number of social phenomena with a variety of results. One area of research involving the AIM concerns the model\\'s role in understanding an individual\\'s propensity for risk taking. Since risky behavior can trigger a complex and varied set of emotional responses (elation, fear, acceptance, etc.), a person\\'s mood might be expected to play a substantial and unpredictable role in any choice to take heavy risks. If a person is in a good mood, he or she might be more likely to appraise the risk positively and be willing to accept any consequences in advance. But even if they are in a bad mood, they could be more likely to rebel against their cultural norms and take the risk anyway.This relationship has been examined in a particular experiment by attempting to manipulate a person\\'s mood in order to produce infusion responses. The hypothesis is that the \"risk taking tendency is greater for those individuals who are in a happy mood than for those who are in a sad mood\". Participants in this experiment were exposed to one of three priming movies (happy, sad, or neutral) and then measured on a risk-taking scale. The researchers divided the sample into two units of separation, one being age (old and young) and the other being mood valence (happy, neutral and sad). Not only did their data confirm their hypothesis for both younger and older participants, but it also confirmed the AIM as a legitimate instrument for studying the complexities of mood.\\nAnother study examined how the AIM relates to a specific type of risk behavior: gambling. It investigated how mood affects an individual\\'s sustained inclination to gamble, especially among non-regular gamblers. The researchers separated regular and non-regular gamblers and measured how their moods affected their experiences on the gaming floor. Specifically, they expected non-regular gamblers in a good mood to be more persistent than non-regular gamblers in a bad mood. This is because gambling, when it is a new and unfamiliar experience, complete with the bright lights and colors that are a feature of the average casino, requires a great deal of information processing, making it especially unattractive to someone in a bad mood. Their research confirmed this notion, but in addition, it was used to positively identify depression as a causal factor of addictive gambling, when the casino has become a familiar environment.\\nIn striving for a deeper understanding of the AIM, scholars have examined different types of behavior that can be expected when affect (mood and emotion) strongly influences information processing. This is by no means an exact science, as the behavioral consequences of affect are usually indirect and varied, but they have been able to show that \"affective states have a subtle and cognitively mediated influence on the ways people perform or inhibit complex strategic behaviors\" (p. 206). In other words, emotion influences thinking and behavior in subtle ways. A person in a strongly positive mood may be more confident and use more direct interpersonal behaviors than they would if they were in a bad mood. They may feel \\'untouchable\\' due to the many good things that have happened to them and approach complex situations with an increased level of assurance. As the research has shown, this effect becomes greater as a situation becomes more complex.In this sense, the AIM is a potential instrument for propaganda campaigns that promote a link between positive affect and desired behavior. For example, many failed attempts to dissuade adolescents from smoking have involved morbid and gloomy advertisements that only serve to depress their viewers. According to the AIM, messages that establish a comfortable atmosphere and focus not on the consequences of smoking but on the benefits of not smoking would probably be more successful.\\nAlong with a clearer understanding of the effect of mood on a person\\'s information processing, the AIM also provides a guide by which researchers can design experiments to investigate the effect of sending persuasive messages to subjects. One important area of research involves the concept of \\'mood congruence\\', or how the results of mood compare to the mood itself. It has been found that \\'mood congruence\\' occurs when a person exhibits a positive relationship between his or her mood and a dependent variable; essentially, as the strength of the mood increases or decreases, so the performance measured by this variable increases or decreases correspondingly. Conversely, \\'mood incongruence\\' occurs when a person exhibits a negative relationship between mood and the dependent variable; thus, as mood increases, performance decreases and vice versa.This distinction has been used to study the relationship between moods and personal goals. For those who are mood congruent, mood generally has a positive relationship with goal motivation, which presents a major opportunity to designers of public health information. According to this line of thought, establishing a positive mood state within the emotional feel of a message and then psychologically connecting that state to the desired behavior would be critical to the message\\'s efficacy.\\nThe AIM has also provided useful insights to other fields. In consumer research, the AIM has helped to explain how males and females differ in their processing of advertising under happy and sad mood states.\\n', 'entities': [{'id': 0, 'mentions': ['Joseph Paul Forgas', 'Forgas'], 'type': 'PERSON'}, {'id': 1, 'mentions': ['early 1990s'], 'type': 'DATE'}, {'id': 2, 'mentions': ['mood', 'negative affect', 'affective states', 'Cognitive capacity', 'substantive processing', 'Affect infusion model (AIM)', 'human psychology', 'affect infusion', 'mood congruent', 'Positive affect', 'mood states', 'affective processing', 'cognition', 'systematic processing', 'Mood', 'affect (mood and emotion)', 'influence of mood on cognition', 'Affect', 'information', 'affect', 'processing strategy', 'moods', 'information processing', 'Affect infusion model', 'model', 'process information', 'Affect infusion', 'mood incongruence', 'cognitive processing', 'mood congruence', 'heuristic processing', 'positive affect', 'AIM', 'Mood-congruent information', 'affective experience', 'complex information', 'emotion', 'cognitive capacity', 'Affective state', 'information search strategies'], 'type': 'MISC'}, {'id': 3, 'mentions': ['two hours'], 'type': 'TIME'}, {'id': 4, 'mentions': ['ability'], 'type': 'MISC'}, {'id': 5, 'mentions': ['responses', 'response behaviors', 'response'], 'type': 'MISC'}, {'id': 6, 'mentions': ['propensity for risk taking', 'risk behavior', 'risky behavior', 'gambling', 'gaming floor', 'risk taking tendency', 'risk taking', 'addictive gambling'], 'type': 'MISC'}, {'id': 7, 'mentions': ['non-regular gamblers'], 'type': 'PERSON'}, {'id': 8, 'mentions': ['Motivation', 'goal motivation'], 'type': 'MISC'}, {'id': 9, 'mentions': ['consumer research'], 'type': 'MISC'}], 'triples': [{'head': 'mood', 'relation': 'HasEffect', 'tail': 'response behaviors'}, {'head': 'Affect infusion model (AIM)', 'relation': 'FieldOfWork', 'tail': 'human psychology'}, {'head': 'mood', 'relation': 'HasEffect', 'tail': 'risk taking'}, {'head': 'mood congruence', 'relation': 'HasEffect', 'tail': 'goal motivation'}, {'head': 'mood', 'relation': 'HasEffect', 'tail': 'information processing'}, {'head': 'mood', 'relation': 'HasEffect', 'tail': 'gambling'}, {'head': 'Joseph Paul Forgas', 'relation': 'ContributedToCreativeWork', 'tail': 'Affect infusion model (AIM)'}, {'head': 'mood congruence', 'relation': 'InfluencedBy', 'tail': 'goal motivation'}, {'head': 'Forgas', 'relation': 'ContributedToCreativeWork', 'tail': 'affect infusion'}, {'head': 'AIM', 'relation': 'UsedBy', 'tail': 'gambling'}, {'head': 'Affect infusion model (AIM)', 'relation': 'FieldOfWork', 'tail': 'human psychology'}, {'head': 'affect', 'relation': 'HasEffect', 'tail': 'ability'}, {'head': 'affect', 'relation': 'InfluencedBy', 'tail': 'complex situations'}, {'head': 'affect', 'relation': 'HasEffect', 'tail': 'complex situations'}, {'head': 'consumer research', 'relation': 'ApprovedBy', 'tail': 'AIM'}, {'head': 'mood', 'relation': 'HasPart', 'tail': 'emotional experiences'}, {'head': 'mood', 'relation': 'HasEffect', 'tail': 'risk taking'}, {'head': 'consumer research', 'relation': 'ApprovedBy', 'tail': 'AIM'}, {'head': 'mood', 'relation': 'HasEffect', 'tail': 'behaviors'}, {'head': 'affect', 'relation': 'HasEffect', 'tail': 'information processing'}, {'head': 'Constructive social judgments', 'relation': 'ApprovedBy', 'tail': 'interpretation of complex information'}, {'head': 'mood congruence', 'relation': 'ApprovedBy', 'tail': 'mood increases'}], 'label_set': ['BasedOn', 'DifferentFrom', 'HasPart', 'HasCause', 'Affiliation', 'NamedBy', 'Uses', 'Causes', 'ContributedToCreativeWork', 'Studies', 'FieldOfWork', 'UsedBy', 'IssuedBy', 'PublishedIn', 'HasEffect', 'InfluencedBy', 'ApprovedBy', 'SaidToBeTheSameAs'], 'entity_label_set': ['CARDINAL', 'DATE', 'EVENT', 'FAC', 'GPE', 'LANGUAGE', 'LAW', 'LOC', 'MONEY', 'NORP', 'ORDINAL', 'ORG', 'PERCENT', 'PERSON', 'PRODUCT', 'QUANTITY', 'TIME', 'WORK_OF_ART', 'MISC']}\n"
          ]
        }
      ],
      "source": [
        "base_path   = os.path.join('drive/MyDrive/', drive_folder)\n",
        "eval_path   = os.path.join(base_path, 'Final_eval.json')\n",
        "\n",
        "eval_data = []\n",
        "folder_path = f'{base_path}/raw/dev'\n",
        "\n",
        "print(folder_path)\n",
        "\n",
        "# loop through all files in the given folder\n",
        "for root, dirs, files in os.walk(folder_path):\n",
        "    for file_name in files:\n",
        "        with open(f\"{folder_path}/{file_name}\", \"r\") as f:\n",
        "            data = json.load(f)\n",
        "\n",
        "        for d in data:\n",
        "          eval_data.append(d)\n",
        "\n",
        "dataset = Dataset.from_list(eval_data)\n",
        "print(\"Sample example:\")\n",
        "print(dataset[0])"
      ]
    },
    {
      "cell_type": "code",
      "execution_count": 7,
      "metadata": {
        "id": "9PjxtL22yv4t"
      },
      "outputs": [],
      "source": [
        "entity_labels = dataset[0]['entity_label_set']  # list of entity types\n",
        "label_list = ['O'] + [f\"B-{l}\" for l in entity_labels] + [f\"I-{l}\" for l in entity_labels]\n",
        "label2id = {l: i for i, l in enumerate(label_list)}\n",
        "id2label = {i: l for l, i in label2id.items()}"
      ]
    },
    {
      "cell_type": "markdown",
      "metadata": {
        "id": "zm53dfjvAz-B"
      },
      "source": [
        "# Define models"
      ]
    },
    {
      "cell_type": "markdown",
      "metadata": {
        "id": "ti1frmdMPYUz"
      },
      "source": [
        "# Baseline models\n",
        "Define which model you used as a baseline model for the specific task"
      ]
    },
    {
      "cell_type": "code",
      "execution_count": 8,
      "metadata": {
        "id": "UNJb31CMPda7"
      },
      "outputs": [],
      "source": [
        "baseline_ner_name = \"allenai/longformer-base-4096\"\n",
        "baseline_re_name = \"SpanBERT/spanbert-large-cased\"\n"
      ]
    },
    {
      "cell_type": "markdown",
      "metadata": {
        "id": "_KhLAFzTA13R"
      },
      "source": [
        "# Trained models\n",
        "\n",
        "Define your trained model for the specific task"
      ]
    },
    {
      "cell_type": "code",
      "execution_count": 9,
      "metadata": {
        "id": "A8IAyiZ1RhEO"
      },
      "outputs": [],
      "source": [
        "trained_ner_name = f\"{base_path}/models/longformer/1/\"\n",
        "trained_ner_name = f\"{base_path}/Model_checkpoints/longformer_big_tuned_35\" #Nina only\n",
        "trained_re_name = f\"{base_path}/Model_checkpoints/checkpoint-306\""
      ]
    },
    {
      "cell_type": "markdown",
      "metadata": {
        "id": "N_5UIxiOA3dF"
      },
      "source": [
        "# Model selection\n",
        "\n",
        "Which model for NER, which for RE? -> Combination untrained/ untrained, trained/ trained, untrained/ trained, trained/ untrained"
      ]
    },
    {
      "cell_type": "markdown",
      "metadata": {
        "id": "ysRNjlYDRBBl"
      },
      "source": [
        "## Both baseline"
      ]
    },
    {
      "cell_type": "code",
      "execution_count": 40,
      "metadata": {
        "id": "dM-hBYn1Q1EV"
      },
      "outputs": [],
      "source": [
        "ner_model_name = baseline_ner_name\n",
        "re_model_name  = baseline_re_name"
      ]
    },
    {
      "cell_type": "markdown",
      "metadata": {
        "id": "Tjl7gqUZRD64"
      },
      "source": [
        "## Both trained"
      ]
    },
    {
      "cell_type": "code",
      "execution_count": 10,
      "metadata": {
        "id": "1wQL6dNbRWgd"
      },
      "outputs": [],
      "source": [
        "ner_model_name = trained_ner_name\n",
        "re_model_name  = trained_re_name"
      ]
    },
    {
      "cell_type": "markdown",
      "metadata": {
        "id": "8jWBBmYNRHGC"
      },
      "source": [
        "## NER: trained, RE: baseline"
      ]
    },
    {
      "cell_type": "code",
      "execution_count": 60,
      "metadata": {
        "id": "AOqWb9yHRS_c"
      },
      "outputs": [],
      "source": [
        "ner_model_name = trained_ner_name\n",
        "re_model_name  = baseline_re_name"
      ]
    },
    {
      "cell_type": "markdown",
      "metadata": {
        "id": "Hs8GFyxCRKS1"
      },
      "source": [
        "## NER: baseline, RE: trained"
      ]
    },
    {
      "cell_type": "code",
      "execution_count": 10,
      "metadata": {
        "id": "GqCg5zyaRZ3a"
      },
      "outputs": [],
      "source": [
        "ner_model_name = baseline_ner_name\n",
        "re_model_name  = trained_re_name"
      ]
    },
    {
      "cell_type": "markdown",
      "metadata": {
        "id": "sV83Si0vUPvB"
      },
      "source": [
        "# Load Models and Tokenizer"
      ]
    },
    {
      "cell_type": "markdown",
      "metadata": {
        "id": "4RHQ1PzcUTJJ"
      },
      "source": [
        "## NER"
      ]
    },
    {
      "cell_type": "code",
      "execution_count": 11,
      "metadata": {
        "id": "PZe36BXf1GIQ",
        "colab": {
          "base_uri": "https://localhost:8080/"
        },
        "outputId": "94d448c2-524a-4b12-f135-3f5443669c67"
      },
      "outputs": [
        {
          "output_type": "stream",
          "name": "stdout",
          "text": [
            "drive/MyDrive/NLP_project_data/Model_checkpoints/longformer_big_tuned_35\n"
          ]
        }
      ],
      "source": [
        "print(ner_model_name)"
      ]
    },
    {
      "cell_type": "code",
      "execution_count": 12,
      "metadata": {
        "id": "HuPIe9-9UVUk",
        "colab": {
          "base_uri": "https://localhost:8080/",
          "height": 284,
          "referenced_widgets": [
            "69b046000110408ea48ee1902b33e6c4",
            "8a1796371427433b85db5aac674e8b9c",
            "cbcd1e1178b9405d8d116d33dec90def",
            "4fc7619eaaa6408fabe99e8f2cd427e8",
            "1fda866d98cd47678221dc9f3a2f8f63",
            "2893b4d83b394363aa440bfaf2e74594",
            "51f8424fa5444b2bbcee5f2690bf4783",
            "1daecad81bf54aaa8e1e65252ebf7821",
            "e415f3bc23b74e0a87b4a6cbe6507fa8",
            "5767b23fda5b407eb56784600f4ec536",
            "62e0d04d06334165b3f50bcb7664b91a",
            "2b017f4b5d044411b026f9359cf47f51",
            "7014dfef6e004f3590073f0c2a6423b5",
            "2edbcf034588477b9b5b9eb79d9105bf",
            "50d1a5e808424cfb85d908264636341e",
            "c0ba23aa35054eaaa89087debb88bf57",
            "4d5560311e8f4f94a5f6b84d5af537fe",
            "94128dcd1d6e428481285ac91f081499",
            "f1a94962ce074cf4be0a23e6d8bf0ea4",
            "7d21a628c0a34c1cbdfe1e036d068db6",
            "865b9cfe73344ef9815d3849b3fc3047",
            "c2e37615ef2744429214ec196920644e",
            "3a9b9d86fb2344f19b16e097580277bb",
            "3281afbb95574e11b4d256edb55714f3",
            "b725d0877648400584287da9eacc1c6e",
            "0fa84bc759114dae8378891317e814fa",
            "665551d2ea5049c098479d8b17e1eec7",
            "5ffb27bc88b341afba49df2afc9272a9",
            "ad514cca1f4f4fc9831430aa406917e0",
            "971892825891401d8e98076fe57d8fb5",
            "85984574845d46b09d570f0c307ee3ce",
            "44fa03c90a924439b564d83bf9e927a4",
            "3b8d73b678e246ff83feba6132ff8165",
            "e86a1d6ee17f43fc86afd365e351d707",
            "452399eade1240cbb99ac1ee13334e27",
            "03d7da1fce814fdbaf4b64527c48cce1",
            "0a7bd96f049a4fba8464cf1fe3de0803",
            "f3bc8de060484e879fc0852776f55a9d",
            "6ad5f47892e64578910e2f780b34a9ce",
            "b0e68e9e3222462d9bc9cbf3d70fb88a",
            "8e05d3e5f18f4f30a2a0a2a53b441f82",
            "60b1fdd2562042e79d7c9c262f4837ac",
            "eaa77af357024145bf5b73f6ca049bcb",
            "8f562a77bc5b4b9c85c6521409cdd6b9"
          ]
        },
        "outputId": "56e95368-874f-4c04-eed4-1232050ed8a9"
      },
      "outputs": [
        {
          "output_type": "stream",
          "name": "stderr",
          "text": [
            "/usr/local/lib/python3.11/dist-packages/huggingface_hub/utils/_auth.py:94: UserWarning: \n",
            "The secret `HF_TOKEN` does not exist in your Colab secrets.\n",
            "To authenticate with the Hugging Face Hub, create a token in your settings tab (https://huggingface.co/settings/tokens), set it as secret in your Google Colab and restart your session.\n",
            "You will be able to reuse this secret in all of your notebooks.\n",
            "Please note that authentication is recommended but still optional to access public models or datasets.\n",
            "  warnings.warn(\n"
          ]
        },
        {
          "output_type": "display_data",
          "data": {
            "text/plain": [
              "vocab.json:   0%|          | 0.00/899k [00:00<?, ?B/s]"
            ],
            "application/vnd.jupyter.widget-view+json": {
              "version_major": 2,
              "version_minor": 0,
              "model_id": "69b046000110408ea48ee1902b33e6c4"
            }
          },
          "metadata": {}
        },
        {
          "output_type": "display_data",
          "data": {
            "text/plain": [
              "merges.txt:   0%|          | 0.00/456k [00:00<?, ?B/s]"
            ],
            "application/vnd.jupyter.widget-view+json": {
              "version_major": 2,
              "version_minor": 0,
              "model_id": "2b017f4b5d044411b026f9359cf47f51"
            }
          },
          "metadata": {}
        },
        {
          "output_type": "display_data",
          "data": {
            "text/plain": [
              "tokenizer.json:   0%|          | 0.00/1.36M [00:00<?, ?B/s]"
            ],
            "application/vnd.jupyter.widget-view+json": {
              "version_major": 2,
              "version_minor": 0,
              "model_id": "3a9b9d86fb2344f19b16e097580277bb"
            }
          },
          "metadata": {}
        },
        {
          "output_type": "display_data",
          "data": {
            "text/plain": [
              "config.json:   0%|          | 0.00/694 [00:00<?, ?B/s]"
            ],
            "application/vnd.jupyter.widget-view+json": {
              "version_major": 2,
              "version_minor": 0,
              "model_id": "e86a1d6ee17f43fc86afd365e351d707"
            }
          },
          "metadata": {}
        },
        {
          "output_type": "stream",
          "name": "stderr",
          "text": [
            "Device set to use cpu\n"
          ]
        }
      ],
      "source": [
        "## Update once Daniel has finished setup\n",
        "ner_tokenizer = LongformerTokenizerFast.from_pretrained(baseline_ner_name)\n",
        "ner_model     = AutoModelForTokenClassification.from_pretrained(\n",
        "    ner_model_name\n",
        ")\n",
        "\n",
        "ner_pipe = pipeline(\n",
        "    'ner',\n",
        "    model=ner_model,\n",
        "    tokenizer=ner_tokenizer,\n",
        "    device=-1,\n",
        "    aggregation_strategy='simple'\n",
        ")\n"
      ]
    },
    {
      "cell_type": "markdown",
      "metadata": {
        "id": "rnvQ9uhbUXnt"
      },
      "source": [
        "## RE"
      ]
    },
    {
      "cell_type": "code",
      "execution_count": 13,
      "metadata": {
        "id": "OlLQJe-CUSKx",
        "colab": {
          "base_uri": "https://localhost:8080/"
        },
        "outputId": "dab63647-aa92-4fd9-c48f-50a6b47d6b08"
      },
      "outputs": [
        {
          "output_type": "stream",
          "name": "stdout",
          "text": [
            "Loaded trained RE model 'drive/MyDrive/NLP_project_data/Model_checkpoints/checkpoint-306' with head size num_labels=87\n"
          ]
        }
      ],
      "source": [
        "re_tokenizer  = AutoTokenizer.from_pretrained(re_model_name)\n",
        "if re_model_name == baseline_re_name:\n",
        "    # baseline: override classification head to fixed number of labels\n",
        "    cfg = AutoConfig.from_pretrained(\n",
        "        re_model_name,\n",
        "        num_labels=len(label2id),\n",
        "        label2id=label2id,\n",
        "        id2label=id2label\n",
        "    )\n",
        "    re_model = AutoModelForSequenceClassification.from_pretrained(\n",
        "        re_model_name,\n",
        "        config=cfg\n",
        "    )\n",
        "    print(f\"Loaded baseline RE model '{re_model_name}' with overridden head size num_labels={re_model.config.num_labels}\")\n",
        "else:\n",
        "    # trained: load checkpoint head as-is\n",
        "    re_model = AutoModelForSequenceClassification.from_pretrained(re_model_name)\n",
        "    print(f\"Loaded trained RE model '{re_model_name}' with head size num_labels={re_model.config.num_labels}\")\n"
      ]
    },
    {
      "cell_type": "markdown",
      "metadata": {
        "id": "91WtT1p3-bm9"
      },
      "source": [
        "#Initialize Wandb"
      ]
    },
    {
      "cell_type": "code",
      "execution_count": 14,
      "metadata": {
        "id": "WsgYrS88-fkj",
        "colab": {
          "base_uri": "https://localhost:8080/",
          "height": 120
        },
        "outputId": "4fd2fb27-3826-4b18-b943-ee29d0850532"
      },
      "outputs": [
        {
          "output_type": "display_data",
          "data": {
            "text/plain": [
              "<IPython.core.display.HTML object>"
            ],
            "text/html": [
              "Tracking run with wandb version 0.19.11"
            ]
          },
          "metadata": {}
        },
        {
          "output_type": "display_data",
          "data": {
            "text/plain": [
              "<IPython.core.display.HTML object>"
            ],
            "text/html": [
              "Run data is saved locally in <code>/content/wandb/run-20250518_203142-pa2l1pvj</code>"
            ]
          },
          "metadata": {}
        },
        {
          "output_type": "display_data",
          "data": {
            "text/plain": [
              "<IPython.core.display.HTML object>"
            ],
            "text/html": [
              "Syncing run <strong><a href='https://wandb.ai/ninakrebs1-university-of-st-gallen-student-union-shsg/model-eval/runs/pa2l1pvj' target=\"_blank\">eval_longformer_big_tuned_35_checkpoint-306</a></strong> to <a href='https://wandb.ai/ninakrebs1-university-of-st-gallen-student-union-shsg/model-eval' target=\"_blank\">Weights & Biases</a> (<a href='https://wandb.me/developer-guide' target=\"_blank\">docs</a>)<br>"
            ]
          },
          "metadata": {}
        },
        {
          "output_type": "display_data",
          "data": {
            "text/plain": [
              "<IPython.core.display.HTML object>"
            ],
            "text/html": [
              " View project at <a href='https://wandb.ai/ninakrebs1-university-of-st-gallen-student-union-shsg/model-eval' target=\"_blank\">https://wandb.ai/ninakrebs1-university-of-st-gallen-student-union-shsg/model-eval</a>"
            ]
          },
          "metadata": {}
        },
        {
          "output_type": "display_data",
          "data": {
            "text/plain": [
              "<IPython.core.display.HTML object>"
            ],
            "text/html": [
              " View run at <a href='https://wandb.ai/ninakrebs1-university-of-st-gallen-student-union-shsg/model-eval/runs/pa2l1pvj' target=\"_blank\">https://wandb.ai/ninakrebs1-university-of-st-gallen-student-union-shsg/model-eval/runs/pa2l1pvj</a>"
            ]
          },
          "metadata": {}
        },
        {
          "output_type": "execute_result",
          "data": {
            "text/html": [
              "<button onClick=\"this.nextSibling.style.display='block';this.style.display='none';\">Display W&B run</button><iframe src='https://wandb.ai/ninakrebs1-university-of-st-gallen-student-union-shsg/model-eval/runs/pa2l1pvj?jupyter=true' style='border:none;width:100%;height:420px;display:none;'></iframe>"
            ],
            "text/plain": [
              "<wandb.sdk.wandb_run.Run at 0x7ae026313d10>"
            ]
          },
          "metadata": {},
          "execution_count": 14
        }
      ],
      "source": [
        "wandb.init(\n",
        "    project=\"model-eval\",\n",
        "    name=f\"eval_{ner_model_name.split('/')[-1]}_{re_model_name.split('/')[-1]}\",\n",
        "    config={\n",
        "        \"ner_model\": ner_model_name,\n",
        "        \"re_model\": re_model_name,\n",
        "        \"dataset\": \"Final_eval.json\",\n",
        "        \"batch_size\": 32,\n",
        "        \"max_length\": 256,\n",
        "        \"seed\": 42,\n",
        "    }\n",
        ")"
      ]
    },
    {
      "cell_type": "markdown",
      "metadata": {
        "id": "1jf36s9hA7SY"
      },
      "source": [
        "# NER Eval\n",
        "\n",
        "Output: Entity file -> content"
      ]
    },
    {
      "cell_type": "code",
      "execution_count": 15,
      "metadata": {
        "id": "fM1Ifo4Pyv4z",
        "colab": {
          "base_uri": "https://localhost:8080/"
        },
        "outputId": "b0586282-550d-480d-cd92-32559dff6169"
      },
      "outputs": [
        {
          "output_type": "stream",
          "name": "stderr",
          "text": [
            "Asking to truncate to max_length but no maximum length is provided and the model has no predefined maximum length. Default to no truncation.\n",
            "Input ids are automatically padded to be a multiple of `config.attention_window`: 512\n"
          ]
        },
        {
          "output_type": "stream",
          "name": "stdout",
          "text": [
            "{'domain': 'Human_behavior', 'doc_title': 'Affect_infusion_model', 'entities': [{'entity_group': 'MISC', 'score': np.float32(0.37377894), 'word': ' Affect infusion model', 'start': 4, 'end': 25}, {'entity_group': 'MISC', 'score': np.float32(0.2772858), 'word': 'A', 'start': 27, 'end': 28}, {'entity_group': 'PERSON', 'score': np.float32(0.9806118), 'word': ' Joseph Paul Forgas', 'start': 122, 'end': 140}, {'entity_group': 'DATE', 'score': np.float32(0.825341), 'word': ' the early 1990s', 'start': 144, 'end': 159}, {'entity_group': 'MISC', 'score': np.float32(0.2512403), 'word': ' A', 'start': 264, 'end': 265}, {'entity_group': 'PERSON', 'score': np.float32(0.81858754), 'word': 'Forgas', 'start': 532, 'end': 538}, {'entity_group': 'MISC', 'score': np.float32(0.3641421), 'word': ' affect infusion', 'start': 556, 'end': 571}, {'entity_group': 'MISC', 'score': np.float32(0.2737052), 'word': ' A', 'start': 903, 'end': 904}, {'entity_group': 'TIME', 'score': np.float32(0.6225002), 'word': ' two hours', 'start': 1253, 'end': 1262}, {'entity_group': 'MISC', 'score': np.float32(0.41673553), 'word': ' infusion', 'start': 1345, 'end': 1353}, {'entity_group': 'MISC', 'score': np.float32(0.26533243), 'word': ' A', 'start': 1450, 'end': 1451}, {'entity_group': 'MISC', 'score': np.float32(0.41234174), 'word': ' infusion', 'start': 1835, 'end': 1843}, {'entity_group': 'PERSON', 'score': np.float32(0.58495265), 'word': ' Forgas', 'start': 2014, 'end': 2020}, {'entity_group': 'MISC', 'score': np.float32(0.42586142), 'word': ' infusion', 'start': 2051, 'end': 2059}, {'entity_group': 'CARDINAL', 'score': np.float32(0.88023305), 'word': ' four', 'start': 2093, 'end': 2097}, {'entity_group': 'CARDINAL', 'score': np.float32(0.8846521), 'word': ' two', 'start': 2295, 'end': 2298}, {'entity_group': 'CARDINAL', 'score': np.float32(0.88693285), 'word': ' four', 'start': 3417, 'end': 3421}, {'entity_group': 'MISC', 'score': np.float32(0.41313812), 'word': ' access processing', 'start': 3430, 'end': 3447}, {'entity_group': 'MISC', 'score': np.float32(0.35101426), 'word': 'ivated processing', 'start': 3682, 'end': 3699}, {'entity_group': 'MISC', 'score': np.float32(0.38449228), 'word': ' access processing', 'start': 4003, 'end': 4020}, {'entity_group': 'MISC', 'score': np.float32(0.3448122), 'word': 'uristic processing', 'start': 4024, 'end': 4042}, {'entity_group': 'MISC', 'score': np.float32(0.36758572), 'word': ' substantive processing', 'start': 4601, 'end': 4623}, {'entity_group': 'PERSON', 'score': np.float32(0.6199877), 'word': ' Forgas', 'start': 5468, 'end': 5474}, {'entity_group': 'CARDINAL', 'score': np.float32(0.8742872), 'word': ' two', 'start': 5490, 'end': 5493}, {'entity_group': 'CARDINAL', 'score': np.float32(0.6137514), 'word': ' One', 'start': 5988, 'end': 5991}, {'entity_group': 'CARDINAL', 'score': np.float32(0.86763173), 'word': ' one', 'start': 6957, 'end': 6960}, {'entity_group': 'CARDINAL', 'score': np.float32(0.8376444), 'word': ' three', 'start': 6964, 'end': 6969}, {'entity_group': 'CARDINAL', 'score': np.float32(0.865096), 'word': ' two', 'start': 7092, 'end': 7095}, {'entity_group': 'MISC', 'score': np.float32(0.22454508), 'word': ' A', 'start': 8370, 'end': 8371}, {'entity_group': 'CARDINAL', 'score': np.float32(0.39664137), 'word': ' 206', 'start': 8809, 'end': 8812}, {'entity_group': 'MISC', 'score': np.float32(0.24134406), 'word': ' A', 'start': 9298, 'end': 9299}, {'entity_group': 'MISC', 'score': np.float32(0.24300633), 'word': ' A', 'start': 9596, 'end': 9597}, {'entity_group': 'MISC', 'score': np.float32(0.23639807), 'word': ' A', 'start': 9864, 'end': 9865}], 'doc': 'The Affect infusion model (AIM) is a theoretical model in the field of human psychology. Developed by social psychologist Joseph Paul Forgas in the early 1990s, it attempts to explain how affect impacts one\\'s ability to process information. A key assertion of the AIM is that the effects of affect tend to be exacerbated in complex situations that demand substantial cognitive processing. In simpler words, as situations become more complicated and unanticipated, mood becomes more influential in driving evaluations and responses.\\nForgas defined the term affect infusion as \"the process whereby affectively loaded information exerts an influence on and becomes incorporated into the judgmental process, entering into the judge\\'s deliberations and eventually coloring the judgmental outcome\". In other words, a process that determines the degree to which mood can affect our judgement. According to the AIM, affect (mood and emotion) exerts a notable influence not only on information processing but on the resulting response behaviors as well. For example, if a person receives an inordinately large electric bill, they will respond differently if they have had a relaxing and stress-free day than they will if they have just been stuck in traffic for two hours. Under this latter circumstance, the person will experience high levels of affect infusion, as their agitated state will be made worse upon seeing the electric bill. An assumption of the AIM is that this effect will generally occur more strongly as the complexity of a situation increases. Highly complex situations can exhibit a number of qualities, such as the amount of effort needed to process the information, whether the situation is familiar or entirely new and how severely the situation affects the person. Some common activities that tend to produce high affect infusion include: choosing whether or not to drink or take drugs, selecting or getting to know a new partner, explaining a conflict or allocating rewards to a group.\\nAccording to Forgas, the varying levels of affect infusion can be seen as a continuum, with four alternative processing strategies as markers along that continuum. These strategies represent the different degrees of severity in which mood exerts its influence. In identifying these strategies, two important differentiating factors are considered: the information search strategies used to perform a task (open or restricted)\\nthe extent of the information considered in constructing a response.\\nSeveral factors related to the judgment target, context, and judger influence which processing strategy is selected.\\nFamiliarity - Familiar targets are more likely to elicit either direct access or motivated processing.\\nImportance - Unimportant judgments are more likely to encourage direct access processing or motivated processing when a specific motive exists.\\nAtypical - If a target is complex or unusual it is more likely to trigger substantive processing, otherwise heuristic processing may be used.\\nCognitive capacity - If the individual has cognitive capacity substantive processing may be more likely.\\nAffective state - Positive affect is more closely linked to heuristic processing, while negative affect is more closely associated with substantive processing.\\nMotivation for accuracy - An individual who is motivated to be accurate will be more likely to use substantive processing.\\nThe least intensive of the four, direct access processing, involves reproducing a stored reaction, that is, repeating a response that has been given before to a similar situation. According to the AIM, the influence of mood on cognition will be least severe during this type of processing.Motivated processing usually involves specific and targeted search strategies with a direct informational goal in mind. This strategy also involves little influence from mood, as the individual in question will have a fairly clear idea of what information he or she needs (although it is higher on the continuum than direct access processing).Heuristic processing assumes that affective processing, or emotional processing, occurs outside our awareness, with people simply making sense of their emotional reactions as they happen. Thus, affective experience provides people with information about themselves, including their tendencies and implicit judgments. This process is also known as the \"affect-as-information\" mechanism.Also called systematic processing, this strategy involves the most elaborate cognitive processing and appears highest on the continuum, as it is the most powerfully affected by mood. The reason substantive processing is most apt to be infused by affect is because mood can affect each stage in the cognition process: attention, encoding, retrieval, and association.Attention : To grapple with the amount of information that elicits substantive processing, people are likely to only focus on a subset of the entire information available. Mood-congruent information is more likely to be attended to than mood-incongruent information.\\nEncoding : People spend more time encoding mood-congruent into a richer network of representations than mood incongruent information.\\nRetrieval - Mood-congruent information is more likely to be retrieved from memory than other details.\\nAssociation : Constructive social judgments require the interpretation of complex information. Affect can prime certain associations that influence subsequent interpretation.\\nTaken as a whole, Forgas has identified two overarching conditions under which mood is most likely to affect information processing: \\nsituations that require cognition about difficult, peripheral subjects\\nsituations that require judgment of obscure, atypical subjects.\\nBecause mood itself is relatively complex, being the sum of many smaller emotional experiences with no single cause, pinpointing its real-world influence is no easy task. But scholars have used the AIM to examine a number of social phenomena with a variety of results. One area of research involving the AIM concerns the model\\'s role in understanding an individual\\'s propensity for risk taking. Since risky behavior can trigger a complex and varied set of emotional responses (elation, fear, acceptance, etc.), a person\\'s mood might be expected to play a substantial and unpredictable role in any choice to take heavy risks. If a person is in a good mood, he or she might be more likely to appraise the risk positively and be willing to accept any consequences in advance. But even if they are in a bad mood, they could be more likely to rebel against their cultural norms and take the risk anyway.This relationship has been examined in a particular experiment by attempting to manipulate a person\\'s mood in order to produce infusion responses. The hypothesis is that the \"risk taking tendency is greater for those individuals who are in a happy mood than for those who are in a sad mood\". Participants in this experiment were exposed to one of three priming movies (happy, sad, or neutral) and then measured on a risk-taking scale. The researchers divided the sample into two units of separation, one being age (old and young) and the other being mood valence (happy, neutral and sad). Not only did their data confirm their hypothesis for both younger and older participants, but it also confirmed the AIM as a legitimate instrument for studying the complexities of mood.\\nAnother study examined how the AIM relates to a specific type of risk behavior: gambling. It investigated how mood affects an individual\\'s sustained inclination to gamble, especially among non-regular gamblers. The researchers separated regular and non-regular gamblers and measured how their moods affected their experiences on the gaming floor. Specifically, they expected non-regular gamblers in a good mood to be more persistent than non-regular gamblers in a bad mood. This is because gambling, when it is a new and unfamiliar experience, complete with the bright lights and colors that are a feature of the average casino, requires a great deal of information processing, making it especially unattractive to someone in a bad mood. Their research confirmed this notion, but in addition, it was used to positively identify depression as a causal factor of addictive gambling, when the casino has become a familiar environment.\\nIn striving for a deeper understanding of the AIM, scholars have examined different types of behavior that can be expected when affect (mood and emotion) strongly influences information processing. This is by no means an exact science, as the behavioral consequences of affect are usually indirect and varied, but they have been able to show that \"affective states have a subtle and cognitively mediated influence on the ways people perform or inhibit complex strategic behaviors\" (p. 206). In other words, emotion influences thinking and behavior in subtle ways. A person in a strongly positive mood may be more confident and use more direct interpersonal behaviors than they would if they were in a bad mood. They may feel \\'untouchable\\' due to the many good things that have happened to them and approach complex situations with an increased level of assurance. As the research has shown, this effect becomes greater as a situation becomes more complex.In this sense, the AIM is a potential instrument for propaganda campaigns that promote a link between positive affect and desired behavior. For example, many failed attempts to dissuade adolescents from smoking have involved morbid and gloomy advertisements that only serve to depress their viewers. According to the AIM, messages that establish a comfortable atmosphere and focus not on the consequences of smoking but on the benefits of not smoking would probably be more successful.\\nAlong with a clearer understanding of the effect of mood on a person\\'s information processing, the AIM also provides a guide by which researchers can design experiments to investigate the effect of sending persuasive messages to subjects. One important area of research involves the concept of \\'mood congruence\\', or how the results of mood compare to the mood itself. It has been found that \\'mood congruence\\' occurs when a person exhibits a positive relationship between his or her mood and a dependent variable; essentially, as the strength of the mood increases or decreases, so the performance measured by this variable increases or decreases correspondingly. Conversely, \\'mood incongruence\\' occurs when a person exhibits a negative relationship between mood and the dependent variable; thus, as mood increases, performance decreases and vice versa.This distinction has been used to study the relationship between moods and personal goals. For those who are mood congruent, mood generally has a positive relationship with goal motivation, which presents a major opportunity to designers of public health information. According to this line of thought, establishing a positive mood state within the emotional feel of a message and then psychologically connecting that state to the desired behavior would be critical to the message\\'s efficacy.\\nThe AIM has also provided useful insights to other fields. In consumer research, the AIM has helped to explain how males and females differ in their processing of advertising under happy and sad mood states.\\n'}\n"
          ]
        }
      ],
      "source": [
        "ner_val_results = []\n",
        "for idx, example in enumerate(eval_data):\n",
        "    preds = ner_pipe(example['doc'])\n",
        "    ner_val_results.append({\n",
        "        'domain': example.get('domain'),\n",
        "        'doc_title': example.get('title', f'doc_{idx}'),\n",
        "        'entities': preds,\n",
        "        'doc': example.get('doc')\n",
        "    })\n",
        "\n",
        "print(ner_val_results[0])"
      ]
    },
    {
      "cell_type": "markdown",
      "metadata": {
        "id": "w0KaOyyVq1nI"
      },
      "source": [
        "Print NER Output for Nina to check"
      ]
    },
    {
      "cell_type": "code",
      "execution_count": 16,
      "metadata": {
        "id": "wGBCYBJCq3hW"
      },
      "outputs": [],
      "source": [
        "import json\n",
        "import numpy as np\n",
        "\n",
        "\n",
        "\n",
        "with open(f'/content/ner_val_results.json','w') as f:\n",
        "    json.dump(\n",
        "        ner_val_results,\n",
        "        f,\n",
        "        default=lambda o: o.item() if isinstance(o, np.generic) else o\n",
        "    )\n"
      ]
    },
    {
      "cell_type": "code",
      "execution_count": 17,
      "metadata": {
        "id": "WaorJn5gDiot"
      },
      "outputs": [],
      "source": [
        "# 2. Index them by (domain, title) for easy lookup\n",
        "gt_index = {(ex['domain'], ex['title']): ex for ex in eval_data}\n",
        "pred_index = {(p['domain'], p['doc_title']): p for p in ner_val_results}\n",
        "\n",
        "true_ner_labels = []\n",
        "pred_ner_labels = []\n",
        "\n",
        "for key, gt in gt_index.items():\n",
        "    pred = pred_index.get(key)\n",
        "    if pred is None:\n",
        "        continue\n",
        "\n",
        "    text = gt['doc']\n",
        "    # simple whitespace tokenization\n",
        "    tokens = text.split()\n",
        "    n = len(tokens)\n",
        "\n",
        "    # map each character position → token idx\n",
        "    char2tok = {}\n",
        "    offset = 0\n",
        "    for i, tok in enumerate(tokens):\n",
        "        start = text.find(tok, offset)\n",
        "        end = start + len(tok)\n",
        "        for c in range(start, end):\n",
        "            char2tok[c] = i\n",
        "        offset = end\n",
        "\n",
        "    # initialize all O’s\n",
        "    true_labels = ['O'] * n\n",
        "    pred_labels = ['O'] * n\n",
        "\n",
        "    # 3. Fill in ground-truth labels\n",
        "    for ent in gt['entities']:\n",
        "        ent_type = ent['type']\n",
        "        for mention in ent['mentions']:\n",
        "            start = text.find(mention)\n",
        "            while start != -1:\n",
        "                end = start + len(mention)\n",
        "                t0 = char2tok.get(start)\n",
        "                t1 = char2tok.get(end-1)\n",
        "                if t0 is not None and t1 is not None:\n",
        "                    true_labels[t0] = f'B-{ent_type}'\n",
        "                    for t in range(t0+1, t1+1):\n",
        "                        true_labels[t] = f'I-{ent_type}'\n",
        "                start = text.find(mention, end)\n",
        "\n",
        "    # 4. Fill in predicted labels\n",
        "    for ent in pred['entities']:\n",
        "        t0 = char2tok.get(ent['start'])\n",
        "        t1 = char2tok.get(ent['end'] - 1)\n",
        "        et = ent['entity_group']\n",
        "        if t0 is not None and t1 is not None:\n",
        "            pred_labels[t0] = f'B-{et}'\n",
        "            for t in range(t0+1, t1+1):\n",
        "                pred_labels[t] = f'I-{et}'\n",
        "\n",
        "    true_ner_labels.append(true_labels)\n",
        "    pred_ner_labels.append(pred_labels)\n"
      ]
    },
    {
      "cell_type": "markdown",
      "metadata": {
        "id": "E_g6H9G--tRp"
      },
      "source": [
        "## Log Metrics in Wandb"
      ]
    },
    {
      "cell_type": "code",
      "execution_count": 18,
      "metadata": {
        "id": "HcVR516C-piY",
        "colab": {
          "base_uri": "https://localhost:8080/"
        },
        "outputId": "f774bfb7-ef1e-499c-f3fe-3434ccb83a18"
      },
      "outputs": [
        {
          "output_type": "stream",
          "name": "stdout",
          "text": [
            "0.4378531073446328\n",
            "0.22872602065912445\n",
            "0.3004846526655897\n"
          ]
        }
      ],
      "source": [
        "from seqeval.metrics import precision_score as ner_prec, recall_score as ner_rec, f1_score as ner_f1\n",
        "prec_ner = ner_prec(true_ner_labels, pred_ner_labels)\n",
        "rec_ner  = ner_rec(true_ner_labels, pred_ner_labels)\n",
        "f1_ner   = ner_f1(true_ner_labels, pred_ner_labels)\n",
        "\n",
        "print(prec_ner)\n",
        "print(rec_ner)\n",
        "print(f1_ner)\n",
        "\n",
        "wandb.log({\n",
        "    \"ner/precision\": prec_ner,\n",
        "    \"ner/recall\":    rec_ner,\n",
        "    \"ner/f1\":        f1_ner,\n",
        "})\n"
      ]
    },
    {
      "cell_type": "markdown",
      "metadata": {
        "id": "1HxNSKq-A8by"
      },
      "source": [
        "# RE Eval\n",
        "\n",
        "Input: Entity file, original challenge test file -> matching of entities to sentences (siehe wa) -> Liste mit dict"
      ]
    },
    {
      "cell_type": "markdown",
      "metadata": {
        "id": "TCXERBrXzR5x"
      },
      "source": [
        "## Preprocessing"
      ]
    },
    {
      "cell_type": "code",
      "execution_count": 19,
      "metadata": {
        "id": "q_Bym75fqMYe"
      },
      "outputs": [],
      "source": [
        "# Mapping: challenge labels (Set 2) → docred labels (Set 1)\n",
        "mapping_challenge_to_docred = {\n",
        "    # ── Direct one-to-ones ───────────────────────────────────────────────────────\n",
        "    \"Affiliation\":                         \"member of\",\n",
        "    \"ApprovedBy\":                          \"ApprovedBy\",\n",
        "    \"Author\":                              \"author\",\n",
        "    \"AwardReceived\":                       \"award received\",\n",
        "    \"BasedOn\":                             \"BasedOn\",\n",
        "    \"Capital\":                             \"capital\",\n",
        "    \"Causes\":                              \"Causes\",\n",
        "    \"Continent\":                           \"continent\",\n",
        "    \"ContributedToCreativeWork\":           \"ContributedToCreativeWork\",\n",
        "    \"Country\":                             \"country\",\n",
        "    \"CountryOfCitizenship\":                \"country of citizenship\",\n",
        "    \"Creator\":                             \"creator\",\n",
        "    \"Developer\":                           \"developer\",\n",
        "    \"DifferentFrom\":                       \"DifferentFrom\",\n",
        "    \"Director\":                            \"director\",\n",
        "    \"EducatedAt\":                          \"educated at\",\n",
        "    \"Employer\":                            \"employer\",\n",
        "    \"FieldOfWork\":                         \"FieldOfWork\",\n",
        "    \"FollowedBy\":                          \"followed by\",\n",
        "    \"Follows\":                             \"follows\",\n",
        "    \"Founded\":                             \"founded\",\n",
        "    \"FoundedBy\":                           \"founded by\",\n",
        "    \"HasCause\":                            \"HasCause\",\n",
        "    \"HasEffect\":                           \"HasEffect\",\n",
        "    \"HasPart\":                             \"HasPart\",\n",
        "    \"HasWorksInTheCollection\":             \"HasWorksInTheCollection\",\n",
        "    \"InfluencedBy\":                        \"influenced by\",\n",
        "    \"IssuedBy\":                            \"IssuedBy\",\n",
        "    \"LocatedIn\":                           \"located in the administrative territorial entity\",\n",
        "    \"Location\":                            \"location\",\n",
        "    \"MemberOf\":                            \"member of\",\n",
        "    \"NamedBy\":                             \"NamedBy\",\n",
        "    \"NominatedFor\":                        \"nominated for\",\n",
        "    \"OfficialLanguage\":                    \"official language\",\n",
        "    \"OwnedBy\":                             \"owned by\",\n",
        "    \"OwnerOf\":                             \"owner of\",\n",
        "    \"ParentOrganization\":                  \"parent organization\",\n",
        "    \"PartOf\":                              \"part of\",\n",
        "    \"Partner\":                             \"partner\",\n",
        "    \"PlaceOfBirth\":                        \"place of birth\",\n",
        "    \"PositionHeld\":                        \"position held\",\n",
        "    \"PublishedIn\":                         \"PublishedIn\",\n",
        "    \"Replaces\":                            \"replaces\",\n",
        "    \"SaidToBeTheSameAs\":                   \"SaidToBeTheSameAs\",\n",
        "    \"Studies\":                             \"Studies\",\n",
        "    \"UsedBy\":                              \"UsedBy\",\n",
        "    \"Uses\":                                \"Uses\",\n",
        "    \"WorkLocation\":                        \"work location\",\n",
        "\n",
        "    # ── Very close synonyms ────────────────────────────────────────────────────\n",
        "    \"LanguageOfWorkOrName\":                \"original language of work\",\n",
        "    \"LanguageUsed\":                        \"languages spoken, written or signed\",\n",
        "    \"OriginalLanguageOfFilmOrTvShow\":      \"original language of work\",\n",
        "    \"PartyChiefRepresentative\":            \"head of government\",\n",
        "    \"PrimeFactor\":                         \"part of\",\n",
        "    \"TwinnedAdministrativeBody\":           \"sister city\",\n",
        "\n",
        "    # ── Functional / looser mappings ──────────────────────────────────────────\n",
        "    \"AcademicDegree\":                      \"educated at\",\n",
        "    \"AdjacentStation\":                     \"shares border with\",\n",
        "    \"AppliesToPeople\":                     \"applies to jurisdiction\",\n",
        "    \"CitesWork\":                           \"present in work\",\n",
        "    \"ContainsAdministrativeTerritorialEntity\":     \"contains administrative territorial entity\",\n",
        "    \"ContainsTheAdministrativeTerritorialEntity\":  \"contains administrative territorial entity\",\n",
        "    \"DiplomaticRelation\":                  \"conflict\",\n",
        "    \"HasQuality\":                          \"genre\",\n",
        "    \"InOppositionTo\":                      \"separated from\",\n",
        "    \"InspiredBy\":                          \"BasedOn\",\n",
        "    \"InterestedIn\":                        \"Studies\",\n",
        "    \"NamedAfter\":                          \"NamedBy\",\n",
        "    \"NativeLanguage\":                      \"languages spoken, written or signed\",\n",
        "    \"OperatingSystem\":                     \"platform\",\n",
        "    \"PhysicallyInteractsWith\":             \"shares border with\",\n",
        "    \"PracticedBy\":                         \"UsedBy\",\n",
        "    \"PresentedIn\":                         \"present in work\",\n",
        "    \"Promoted\":                            \"HasEffect\",\n",
        "    \"RegulatedBy\":                         \"IssuedBy\",\n",
        "    \"SharesBorderWith\":                    \"shares border with\",\n",
        "    \"SignificantEvent\":                    \"location\",\n",
        "}\n",
        "\n"
      ]
    },
    {
      "cell_type": "code",
      "source": [
        "import nltk\n",
        "from nltk.tokenize import sent_tokenize\n",
        "from collections import defaultdict\n",
        "\n",
        "# make sure you have punkt\n",
        "nltk.download(\"punkt\")\n",
        "nltk.download('punkt_tab')\n",
        "\n",
        "candidates = []\n",
        "for doc in ner_val_results:\n",
        "    text  = doc[\"doc\"]\n",
        "    title = doc[\"doc_title\"].strip().lower()\n",
        "\n",
        "    # 1) split into sentences AND remember their character offsets\n",
        "    sentences = sent_tokenize(text)\n",
        "    offsets = []\n",
        "    cursor = 0\n",
        "    for s in sentences:\n",
        "        # find s at or after cursor\n",
        "        start = text.find(s, cursor)\n",
        "        end   = start + len(s)\n",
        "        offsets.append((s, start, end))\n",
        "        cursor = end\n",
        "\n",
        "    # 2) build a flat list of all NER spans in this doc\n",
        "    #    (word, start, end, entity_group)\n",
        "    mentions = [\n",
        "      (ent[\"word\"].strip(), ent[\"start\"], ent[\"end\"], ent[\"entity_group\"])\n",
        "      for ent in doc[\"entities\"]\n",
        "    ]\n",
        "\n",
        "    # 3) for each sentence, collect the mentions whose spans fall into it\n",
        "    for sent, s_start, s_end in offsets:\n",
        "        sent_mentions = [\n",
        "          (w, a, b, label)\n",
        "          for (w,a,b,label) in mentions\n",
        "          if s_start <= a < s_end\n",
        "        ]\n",
        "\n",
        "        # if fewer than two mentions, nothing to pair\n",
        "        if len(sent_mentions) < 2:\n",
        "            continue\n",
        "\n",
        "        # 4) enumerate all unordered pairs in this sentence\n",
        "        for i in range(len(sent_mentions)):\n",
        "            w1, a1, b1, label1 = sent_mentions[i]\n",
        "            for j in range(i+1, len(sent_mentions)):\n",
        "                w2, a2, b2, label2 = sent_mentions[j]\n",
        "\n",
        "                # wrap them in the text snippet\n",
        "                # note: replace only the first occurrence inside `sent`\n",
        "                snippet = sent.replace(w1, f\"[E1]{w1}[/E1]\", 1) \\\n",
        "                              .replace(w2, f\"[E2]{w2}[/E2]\", 1)\n",
        "\n",
        "                candidates.append({\n",
        "                  \"doc_title\":       title,\n",
        "                  \"text\":            snippet,\n",
        "                  \"entity1_label\":   w1,\n",
        "                  \"entity2_label\":   w2,\n",
        "                  # placeholder—no gold lookup here:\n",
        "                  \"relation_label\":  \"no_relation\"\n",
        "                })\n",
        "\n",
        "# now `candidates` is all of your sentence-level pairs.\n",
        "# you can turn it into an HF Dataset and, if you still want,\n",
        "# overlay the gold-triples on top of it:\n",
        "\n",
        "from datasets import Dataset\n",
        "ds = Dataset.from_list(candidates)\n",
        "\n",
        "\n",
        "\n",
        "\n",
        "# --- NEW: print sizes ---\n",
        "print(f\"Built {len(candidates)} candidate pairs\")\n",
        "print(f\"HF Dataset contains {len(ds)} rows\")\n",
        "\n",
        "\n",
        "# 1) overwrite re_val_ds\n",
        "re_val_ds = ds\n"
      ],
      "metadata": {
        "colab": {
          "base_uri": "https://localhost:8080/"
        },
        "id": "R7LZyGD8mdsM",
        "outputId": "fab6a754-0510-4b27-a96c-4159fe38834e"
      },
      "execution_count": 20,
      "outputs": [
        {
          "output_type": "stream",
          "name": "stderr",
          "text": [
            "[nltk_data] Downloading package punkt to /root/nltk_data...\n",
            "[nltk_data]   Unzipping tokenizers/punkt.zip.\n",
            "[nltk_data] Downloading package punkt_tab to /root/nltk_data...\n",
            "[nltk_data]   Unzipping tokenizers/punkt_tab.zip.\n"
          ]
        },
        {
          "output_type": "stream",
          "name": "stdout",
          "text": [
            "Built 2011 candidate pairs\n",
            "HF Dataset contains 2011 rows\n"
          ]
        }
      ]
    },
    {
      "cell_type": "markdown",
      "source": [
        "## Trainer option"
      ],
      "metadata": {
        "id": "E5zamdf_LC0a"
      }
    },
    {
      "cell_type": "code",
      "source": [
        "\n",
        "\n",
        "# 2) load RE model & tokenizer (baseline vs. trained)\n",
        "re_tokenizer = AutoTokenizer.from_pretrained(re_model_name)\n",
        "if re_model_name == baseline_re_name:\n",
        "    cfg = AutoConfig.from_pretrained(\n",
        "        re_model_name,\n",
        "        num_labels=len(label2id),\n",
        "        label2id=label2id,\n",
        "        id2label=id2label\n",
        "    )\n",
        "    re_model = AutoModelForSequenceClassification.from_pretrained(\n",
        "        re_model_name, config=cfg\n",
        "    )\n",
        "else:\n",
        "    re_model = AutoModelForSequenceClassification.from_pretrained(re_model_name)\n",
        "\n",
        "# 3) tokenize\n",
        "def tokenize_fn(batch):\n",
        "    return re_tokenizer(batch['text'],\n",
        "                        padding='max_length',\n",
        "                        truncation=True,\n",
        "                        max_length=256)\n",
        "tokenized_val = re_val_ds.map(tokenize_fn, batched=True)\n",
        "\n",
        "# 4) setup Trainer without metrics\n",
        "from transformers import Trainer, TrainingArguments\n",
        "eval_args = TrainingArguments(\n",
        "    output_dir='/content/re_predict_output',\n",
        "    per_device_eval_batch_size=32,\n",
        "    do_train=False,\n",
        "    do_eval=False,       # ← no evaluation\n",
        "    logging_dir='/content/logs',\n",
        "    report_to='wandb'\n",
        ")\n",
        "trainer = Trainer(\n",
        "    model=re_model,\n",
        "    args=eval_args,\n",
        "    tokenizer=re_tokenizer\n",
        ")\n",
        "\n",
        "# 5) predict\n",
        "preds_output = trainer.predict(tokenized_val)\n",
        "logits = preds_output.predictions    # shape [N, num_labels]\n",
        "pred_ids = logits.argmax(axis=-1)\n",
        "\n",
        "# pick id2label mapping\n",
        "if hasattr(re_model.config, 'id2label') and re_model.config.id2label:\n",
        "    pred_id2label = {int(k):v for k,v in re_model.config.id2label.items()}\n",
        "else:\n",
        "    pred_id2label = id2label\n",
        "\n",
        "# 6) save predictions\n",
        "import json, os\n",
        "safe = os.path.basename(re_model_name.rstrip('/'))\n",
        "out_path = f'/content/re_{safe}_candidates_with_preds.json'\n",
        "outputs = []\n",
        "for ex, pid in zip(re_val_ds, pred_ids):\n",
        "    outputs.append({\n",
        "      'text':               ex['text'],\n",
        "      'entity1_label':      ex['entity1_label'],\n",
        "      'entity2_label':      ex['entity2_label'],\n",
        "      'predicted_relation': pred_id2label.get(int(pid), 'UNKNOWN')\n",
        "    })\n",
        "with open(out_path, 'w') as f:\n",
        "    json.dump(outputs, f, indent=2)\n",
        "print(f\"Wrote {len(outputs)} predictions to {out_path}\")\n"
      ],
      "metadata": {
        "colab": {
          "base_uri": "https://localhost:8080/",
          "height": 137,
          "referenced_widgets": [
            "cfab9eb0de9a4ec5988badcf0bc39cbc",
            "a574199cd038468b9ae4f40c29798d90",
            "acf3f02c45364be2bd615750c51289ac",
            "a756214e8625427d97be7b52c06d1aa4",
            "bdd70b80c8524229819ba2074786bcdc",
            "04c7d7665cd04f52b7dbfa4a46c775d8",
            "bc3458b8d0f74a59ba668f1a0b3b2720",
            "aad8933353254c2ebd030d2a47841581",
            "806af57a47f547f6952ad62c786f6695",
            "1baaa40f26e6468585cc06bd1b78d99e",
            "63bff718b975494ba3b6f6a07f1299d1"
          ]
        },
        "id": "jkcuuyERo1Ae",
        "outputId": "574d6efb-a32d-4582-f771-94477f9e0eeb"
      },
      "execution_count": 21,
      "outputs": [
        {
          "output_type": "display_data",
          "data": {
            "text/plain": [
              "Map:   0%|          | 0/2011 [00:00<?, ? examples/s]"
            ],
            "application/vnd.jupyter.widget-view+json": {
              "version_major": 2,
              "version_minor": 0,
              "model_id": "cfab9eb0de9a4ec5988badcf0bc39cbc"
            }
          },
          "metadata": {}
        },
        {
          "output_type": "stream",
          "name": "stderr",
          "text": [
            "<ipython-input-21-28bd44f7f5e1>:34: FutureWarning: `tokenizer` is deprecated and will be removed in version 5.0.0 for `Trainer.__init__`. Use `processing_class` instead.\n",
            "  trainer = Trainer(\n"
          ]
        },
        {
          "output_type": "display_data",
          "data": {
            "text/plain": [
              "<IPython.core.display.HTML object>"
            ],
            "text/html": []
          },
          "metadata": {}
        },
        {
          "output_type": "stream",
          "name": "stderr",
          "text": [
            "\u001b[34m\u001b[1mwandb\u001b[0m: \u001b[33mWARNING\u001b[0m The `run_name` is currently set to the same value as `TrainingArguments.output_dir`. If this was not intended, please specify a different run name by setting the `TrainingArguments.run_name` parameter.\n"
          ]
        },
        {
          "output_type": "stream",
          "name": "stdout",
          "text": [
            "Wrote 2011 predictions to /content/re_checkpoint-306_candidates_with_preds.json\n"
          ]
        }
      ]
    },
    {
      "cell_type": "markdown",
      "source": [
        "## Pipeline option"
      ],
      "metadata": {
        "id": "wZaCjxABLFdh"
      }
    },
    {
      "cell_type": "code",
      "source": [
        "import os\n",
        "import json\n",
        "import torch\n",
        "from transformers import (\n",
        "    AutoConfig,\n",
        "    AutoModelForSequenceClassification,\n",
        "    AutoTokenizer,\n",
        "    pipeline\n",
        ")\n",
        "\n",
        "# 1) Load RE model & tokenizer (baseline vs. trained)\n",
        "re_tokenizer = AutoTokenizer.from_pretrained(re_model_name)\n",
        "if re_model_name == baseline_re_name:\n",
        "    cfg = AutoConfig.from_pretrained(\n",
        "        re_model_name,\n",
        "        num_labels=len(label2id),\n",
        "        label2id=label2id,\n",
        "        id2label=id2label\n",
        "    )\n",
        "    re_model = AutoModelForSequenceClassification.from_pretrained(\n",
        "        re_model_name, config=cfg\n",
        "    )\n",
        "    print(f\"> Loaded baseline RE model '{re_model_name}' with head size {re_model.config.num_labels}\")\n",
        "else:\n",
        "    re_model = AutoModelForSequenceClassification.from_pretrained(re_model_name)\n",
        "    print(f\"> Loaded trained RE model '{re_model_name}' with head size {re_model.config.num_labels}\")\n",
        "\n",
        "# 2) Build a pipeline\n",
        "device = 0 if torch.cuda.is_available() else -1\n",
        "re_pipe = pipeline(\n",
        "    \"text-classification\",\n",
        "    model=re_model,\n",
        "    tokenizer=re_tokenizer,\n",
        "    device=device,\n",
        "    return_all_scores=False,  # just top label+score\n",
        ")\n",
        "\n",
        "# 3) Run predictions\n",
        "outputs = []\n",
        "for ex in re_val_ds:\n",
        "    # pipeline will automatically truncate/pad\n",
        "    pred = re_pipe(ex[\"text\"])[0]\n",
        "    outputs.append({\n",
        "        \"text\":               ex[\"text\"],\n",
        "        \"entity1_label\":      ex[\"entity1_label\"],\n",
        "        \"entity2_label\":      ex[\"entity2_label\"],\n",
        "        \"predicted_relation\": pred[\"label\"],\n",
        "        \"score\":              pred[\"score\"],\n",
        "    })\n",
        "\n",
        "# 4) Save to disk\n",
        "safe = os.path.basename(re_model_name.rstrip(\"/\"))\n",
        "out_path = f\"/content/re_{safe}_candidates_with_preds.json\"\n",
        "with open(out_path, \"w\") as f:\n",
        "    json.dump(outputs, f, indent=2)\n",
        "\n",
        "print(f\"Wrote {len(outputs)} predictions to {out_path}\")\n"
      ],
      "metadata": {
        "id": "pP9EnaXmJdcE",
        "outputId": "80d1d354-0638-4a5e-9f7b-2733dbc6f082",
        "colab": {
          "base_uri": "https://localhost:8080/"
        }
      },
      "execution_count": 24,
      "outputs": [
        {
          "output_type": "stream",
          "name": "stderr",
          "text": [
            "Device set to use cuda:0\n"
          ]
        },
        {
          "output_type": "stream",
          "name": "stdout",
          "text": [
            "> Loaded trained RE model 'drive/MyDrive/NLP_project_data/Model_checkpoints/checkpoint-306' with head size 87\n"
          ]
        },
        {
          "output_type": "stream",
          "name": "stderr",
          "text": [
            "/usr/local/lib/python3.11/dist-packages/transformers/pipelines/text_classification.py:106: UserWarning: `return_all_scores` is now deprecated,  if want a similar functionality use `top_k=None` instead of `return_all_scores=True` or `top_k=1` instead of `return_all_scores=False`.\n",
            "  warnings.warn(\n",
            "You seem to be using the pipelines sequentially on GPU. In order to maximize efficiency please use a dataset\n"
          ]
        },
        {
          "output_type": "stream",
          "name": "stdout",
          "text": [
            "Wrote 2011 predictions to /content/re_checkpoint-306_candidates_with_preds.json\n"
          ]
        }
      ]
    },
    {
      "cell_type": "code",
      "source": [
        "import json\n",
        "from sklearn.metrics import classification_report, precision_recall_fscore_support\n",
        "\n",
        "# — assume mapping_challenge_to_docred is already defined above —\n",
        "# — and `dataset` is your HF Dataset built from Final_eval.json —\n",
        "\n",
        "# 1) Build a lookup from (head, tail) → mapped_docred_label\n",
        "gold_map = {}\n",
        "for meta in dataset:\n",
        "    for t in meta.get(\"triples\", []):\n",
        "        h = t[\"head\"].strip().lower()\n",
        "        te = t[\"tail\"].strip().lower()\n",
        "        mapped = mapping_challenge_to_docred.get(t[\"relation\"])\n",
        "        if not mapped:\n",
        "            continue\n",
        "        # record both orders so swapped predictions still match\n",
        "        gold_map[(h, te)] = mapped\n",
        "        gold_map[(te, h)] = mapped\n",
        "\n",
        "# 2) Load your model’s predictions JSON\n",
        "predictions_path = out_path  # ← adjust path\n",
        "with open(predictions_path, \"r\") as f:\n",
        "    preds_list = json.load(f)\n",
        "\n",
        "gold_labels = []\n",
        "pred_labels = []\n",
        "\n",
        "for ex in preds_list:\n",
        "    e1 = ex[\"entity1_label\"].strip().lower()\n",
        "    e2 = ex[\"entity2_label\"].strip().lower()\n",
        "    # if that pair appears in gold_map, grab it; otherwise \"no_relation\"\n",
        "    gold = gold_map.get((e1, e2), \"no_relation\")\n",
        "    gold_labels.append(gold)\n",
        "    pred_labels.append(ex[\"predicted_relation\"])\n",
        "\n",
        "# 3) Print per‐class P/R/F₁\n",
        "all_labels = sorted(set(gold_labels) | set(pred_labels))\n",
        "print(classification_report(\n",
        "    gold_labels,\n",
        "    pred_labels,\n",
        "    labels=all_labels,\n",
        "    target_names=all_labels,\n",
        "    zero_division=0\n",
        "))\n",
        "\n",
        "# 4) And the micro-averaged P/R/F₁\n",
        "p, r, f1, _ = precision_recall_fscore_support(\n",
        "    gold_labels, pred_labels, average=\"micro\", zero_division=0\n",
        ")\n",
        "print(f\"→ micro precision={p:.4f}   recall={r:.4f}   f1={f1:.4f}\")\n",
        "\n",
        "import json\n",
        "\n",
        "# 1) assume preds_list, gold_labels, pred_labels are already defined\n",
        "detailed = []\n",
        "for ex, gold, pred in zip(preds_list, gold_labels, pred_labels):\n",
        "    detailed.append({\n",
        "        \"text\":             ex[\"text\"],\n",
        "        \"entity1_label\":    ex[\"entity1_label\"],\n",
        "        \"entity2_label\":    ex[\"entity2_label\"],\n",
        "        \"gold_relation\":    gold,\n",
        "        \"predicted_relation\": pred\n",
        "    })\n",
        "\n",
        "# 2) write it out\n",
        "out_detail_path = \"/content/detailed_re_predictions.json\"\n",
        "with open(out_detail_path, \"w\") as f:\n",
        "    json.dump(detailed, f, indent=2)\n",
        "\n",
        "print(f\"Wrote {len(detailed)} detailed examples to {out_detail_path}\")\n"
      ],
      "metadata": {
        "colab": {
          "base_uri": "https://localhost:8080/"
        },
        "id": "25l7-Zjsu7Db",
        "outputId": "635f55fe-3732-4921-ea31-0d81496833cf"
      },
      "execution_count": 26,
      "outputs": [
        {
          "output_type": "stream",
          "name": "stdout",
          "text": [
            "                                                  precision    recall  f1-score   support\n",
            "\n",
            "                       ContributedToCreativeWork       0.00      0.00      0.00       3.0\n",
            "                                       HasEffect       0.00      0.00      0.00       2.0\n",
            "                                         HasPart       0.00      0.00      0.00       2.0\n",
            "                                     PublishedIn       0.00      0.00      0.00       3.0\n",
            "                               SaidToBeTheSameAs       0.00      0.00      0.00       1.0\n",
            "                                          UsedBy       0.00      0.00      0.00       2.0\n",
            "                         applies to jurisdiction       0.00      0.00      0.00       0.0\n",
            "                                          author       0.00      0.00      0.00       0.0\n",
            "                                  award received       0.00      0.00      0.00       0.0\n",
            "                                     chairperson       0.00      0.00      0.00       0.0\n",
            "                                        composer       0.00      0.00      0.00       0.0\n",
            "                                        conflict       0.00      0.00      0.00       0.0\n",
            "                                         country       0.00      0.00      0.00       1.0\n",
            "                               country of origin       0.00      0.00      0.00       0.0\n",
            "                                         creator       0.00      0.00      0.00       0.0\n",
            "                                       developer       0.00      0.00      0.00       0.0\n",
            "                                     educated at       0.00      0.00      0.00       0.0\n",
            "                                        employer       0.00      0.00      0.00       0.0\n",
            "                                    ethnic group       0.00      0.00      0.00       0.0\n",
            "                                     followed by       0.00      0.00      0.00       1.0\n",
            "                                         founded       0.00      0.00      0.00       2.0\n",
            "                                           genre       0.00      0.00      0.00       0.0\n",
            "                                        has part       0.00      0.00      0.00       0.0\n",
            "                                   head of state       0.00      0.00      0.00       0.0\n",
            "                           headquarters location       0.00      0.00      0.00       0.0\n",
            "                                     instance of       0.00      0.00      0.00       0.0\n",
            "                                legislative body       0.00      0.00      0.00       0.0\n",
            "located in the administrative territorial entity       0.00      0.00      0.00       1.0\n",
            "                      located on terrain feature       0.00      0.00      0.00       0.0\n",
            "                           location of formation       0.00      0.00      0.00       0.0\n",
            "                                       lyrics by       0.00      0.00      0.00       0.0\n",
            "                                    manufacturer       0.00      0.00      0.00       0.0\n",
            "                                       member of       0.00      0.00      0.00       8.0\n",
            "                           member of sports team       0.00      0.00      0.00       0.0\n",
            "                                 military branch       0.00      0.00      0.00       0.0\n",
            "                                     no_relation       0.00      0.00      0.00    1985.0\n",
            "                                    notable work       0.00      0.00      0.00       0.0\n",
            "                               official language       0.00      0.00      0.00       0.0\n",
            "                                        operator       0.00      0.00      0.00       0.0\n",
            "                       original language of work       0.00      0.00      0.00       0.0\n",
            "                                original network       0.00      0.00      0.00       0.0\n",
            "                                        owned by       0.00      0.00      0.00       0.0\n",
            "                             parent organization       0.00      0.00      0.00       0.0\n",
            "                                    parent taxon       0.00      0.00      0.00       0.0\n",
            "                                         part of       0.00      0.00      0.00       0.0\n",
            "                                     participant       0.00      0.00      0.00       0.0\n",
            "                                  participant of       0.00      0.00      0.00       0.0\n",
            "                                  place of birth       0.00      0.00      0.00       0.0\n",
            "                                  place of death       0.00      0.00      0.00       0.0\n",
            "                                        platform       0.00      0.00      0.00       0.0\n",
            "                                   position held       0.00      0.00      0.00       0.0\n",
            "                                 present in work       0.00      0.00      0.00       0.0\n",
            "                                       publisher       0.00      0.00      0.00       0.0\n",
            "                                    record label       0.00      0.00      0.00       0.0\n",
            "                                        religion       0.00      0.00      0.00       0.0\n",
            "                                     replaced by       0.00      0.00      0.00       0.0\n",
            "                                       residence       0.00      0.00      0.00       0.0\n",
            "                                    screenwriter       0.00      0.00      0.00       0.0\n",
            "                                  separated from       0.00      0.00      0.00       0.0\n",
            "                                          series       0.00      0.00      0.00       0.0\n",
            "                                         sibling       0.00      0.00      0.00       0.0\n",
            "                                     subclass of       0.00      0.00      0.00       0.0\n",
            "                                      subsidiary       0.00      0.00      0.00       0.0\n",
            "                            territory claimed by       0.00      0.00      0.00       0.0\n",
            "\n",
            "                                        accuracy                           0.00    2011.0\n",
            "                                       macro avg       0.00      0.00      0.00    2011.0\n",
            "                                    weighted avg       0.00      0.00      0.00    2011.0\n",
            "\n",
            "→ micro precision=0.0000   recall=0.0000   f1=0.0000\n",
            "Wrote 2011 detailed examples to /content/detailed_re_predictions.json\n"
          ]
        }
      ]
    },
    {
      "cell_type": "code",
      "source": [
        "from sklearn.metrics import classification_report, precision_recall_fscore_support\n",
        "import wandb\n",
        "\n",
        "# — assume you already have:\n",
        "#    gold_labels  : List[str]  # e.g. [\"HasPart\",\"no_relation\",…]\n",
        "#    pred_labels  : List[str]  # e.g. [\"HasPart\",\"part of\",…]\n",
        "#    prec_ner,rec_ner,f1_ner    # from your NER eval earlier\n",
        "\n",
        "# 1) pick only the labels that actually occur\n",
        "unique_labels = sorted(set(gold_labels) | set(pred_labels))\n",
        "\n",
        "# 2) build and log the detailed classification report\n",
        "report = classification_report(\n",
        "    gold_labels,\n",
        "    pred_labels,\n",
        "    labels=unique_labels,\n",
        "    target_names=unique_labels,\n",
        "    output_dict=True,\n",
        "    zero_division=0\n",
        ")\n",
        "wandb.log({\"classification_report\": report})\n",
        "\n",
        "# 3) compute & log the micro-averaged RE precision/recall/f1\n",
        "prec_re, rec_re, f1_re, _ = precision_recall_fscore_support(\n",
        "    gold_labels,\n",
        "    pred_labels,\n",
        "    labels=unique_labels,\n",
        "    average=\"micro\",\n",
        "    zero_division=0\n",
        ")\n",
        "wandb.log({\n",
        "    \"re/precision\": prec_re,\n",
        "    \"re/recall\":    rec_re,\n",
        "    \"re/f1\":        f1_re,\n",
        "})\n",
        "\n",
        "# 4) finally log your summary table combining NER+RE\n",
        "summary = wandb.Table(\n",
        "    columns=[\n",
        "      \"ner_precision\",\"ner_recall\",\"ner_f1\",\n",
        "      \"re_precision\",  \"re_recall\",  \"re_f1\"\n",
        "    ],\n",
        "    data=[[prec_ner, rec_ner, f1_ner, prec_re, rec_re, f1_re]]\n",
        ")\n",
        "wandb.log({\"metrics_summary\": summary})\n",
        "\n",
        "# 5) print out the summary metrics\n",
        "print(f\"NER   → precision: {prec_ner:.4f}, recall: {rec_ner:.4f}, f1: {f1_ner:.4f}\")\n",
        "print(f\"RE    → precision: {prec_re:.4f}, recall: {rec_re:.4f}, f1: {f1_re:.4f}\")\n",
        "\n"
      ],
      "metadata": {
        "colab": {
          "base_uri": "https://localhost:8080/"
        },
        "id": "UC8Ep5z7znTv",
        "outputId": "56b3a332-71a3-45b6-d387-86300cf3d435"
      },
      "execution_count": 23,
      "outputs": [
        {
          "output_type": "stream",
          "name": "stdout",
          "text": [
            "NER   → precision: 0.4379, recall: 0.2287, f1: 0.3005\n",
            "RE    → precision: 0.0000, recall: 0.0000, f1: 0.0000\n"
          ]
        }
      ]
    },
    {
      "cell_type": "markdown",
      "source": [
        "# Exclude no relation\n",
        "Since the RE model was only trained on docred labels and not no relation"
      ],
      "metadata": {
        "id": "QE5D-3uUQQ8B"
      }
    },
    {
      "cell_type": "code",
      "source": [
        "import json\n",
        "from sklearn.metrics import classification_report, precision_recall_fscore_support\n",
        "\n",
        "# 1) load your detailed preds (with gold mapped labels)\n",
        "with open(\"/content/detailed_re_predictions.json\", \"r\") as f:\n",
        "    detailed = json.load(f)\n",
        "\n",
        "# 2) filter out all no_relation\n",
        "filtered = [ex for ex in detailed if ex[\"gold_relation\"] != \"no_relation\"]\n",
        "\n",
        "gold_filt = [ex[\"gold_relation\"]      for ex in filtered]\n",
        "pred_filt = [ex[\"predicted_relation\"] for ex in filtered]\n",
        "\n",
        "print(f\"→ {len(filtered)} positive examples (out of {len(detailed)})\\n\")\n",
        "\n",
        "# 3) per-class P/R/F₁ (excluding no_relation automatically, since we filtered it out)\n",
        "labels = sorted(set(gold_filt) | set(pred_filt))\n",
        "print(classification_report(\n",
        "    gold_filt,\n",
        "    pred_filt,\n",
        "    labels=labels,\n",
        "    target_names=labels,\n",
        "    zero_division=0\n",
        "))\n",
        "\n",
        "# 4) micro-averaged over all non-no_relation examples\n",
        "p, r, f1, _ = precision_recall_fscore_support(\n",
        "    gold_filt,\n",
        "    pred_filt,\n",
        "    average=\"micro\",\n",
        "    zero_division=0\n",
        ")\n",
        "print(f\"→ POSITIVE-only micro precision={p:.4f}   recall={r:.4f}   f1={f1:.4f}\")\n",
        "# 2) write it out\n",
        "out_detail_positive_only_path = \"/content/detailed_re_predictions_positive_only.json\"\n",
        "with open(out_detail_positive_only_path, \"w\") as f:\n",
        "    json.dump(detailed, f, indent=2)\n",
        "\n",
        "print(f\"Wrote {len(detailed)} detailed examples to {out_detail_path}\")\n",
        "\n"
      ],
      "metadata": {
        "id": "R0XbOT5bQWwN",
        "outputId": "1f312735-2a18-4db0-8d76-cc7eb0547bff",
        "colab": {
          "base_uri": "https://localhost:8080/"
        }
      },
      "execution_count": 28,
      "outputs": [
        {
          "output_type": "stream",
          "name": "stdout",
          "text": [
            "→ 26 positive examples (out of 2011)\n",
            "Wrote positive-only evaluation (and examples) to /content/re_positive_only_eval.json\n",
            "Micro precision=0.0000, recall=0.0000, f1=0.0000\n"
          ]
        }
      ]
    },
    {
      "cell_type": "markdown",
      "source": [
        "#Old do not use"
      ],
      "metadata": {
        "id": "d8-ve0Bipe1F"
      }
    },
    {
      "cell_type": "code",
      "execution_count": 101,
      "metadata": {
        "id": "kJLZBSNIWK3n",
        "colab": {
          "base_uri": "https://localhost:8080/",
          "height": 305,
          "referenced_widgets": [
            "f94772e52cf74b859c7257511b5c934b",
            "ab846ef2000b47f9a61b55035f119dc3",
            "07d32961ba5944bc881b18d7896ee99f",
            "ae8358c59f7f4adfadd16afdfe838894",
            "a0a1a9266866465abbfd67e9f2a26d67",
            "4ef580ad14d4483bb2a07686f0a6c26b",
            "ebd3d98100a645429c4c6ef0f1f3038a",
            "a0c70d35dd64485d8e979298fdaf6b2d",
            "4f83741bb2c4499399fe9604e5c65bd8",
            "93f1f52255bd4f83a03c77369b6093c3",
            "d9eada8b0d994b1f9bdea790803e6679",
            "a5b6432dfbcf41488ab14fc582c8f631",
            "a4842cbef16b42a4b4fede33db12f8d3",
            "326742b9037e4d2880321f046ff95836",
            "c265986b8841445cbaf66f87768441b0",
            "992542b5311543219420623477fa2743",
            "75361039839f499a82d5b7bf81f6701f",
            "38fe2f74db464ce28bc351d819c1ee7e",
            "b8bc2b166bb242c6b12e64ab37ac3b86",
            "6c37d118d3bb42f8a7625b1aaf0188ba",
            "533cd6f3c28042d0b6665c2b4b232ff9",
            "222dce4e70b44cacad850d15ef20d2b3"
          ]
        },
        "outputId": "8f44e9b5-a067-49dd-ece2-6dd2a405517e"
      },
      "outputs": [
        {
          "output_type": "stream",
          "name": "stdout",
          "text": [
            "Using fixed RE labels (len=59): {'ApprovedBy': 0, 'BasedOn': 1, 'Causes': 2, 'ContributedToCreativeWork': 3, 'DifferentFrom': 4, 'FieldOfWork': 5, 'HasCause': 6, 'HasEffect': 7, 'HasPart': 8, 'HasWorksInTheCollection': 9, 'IssuedBy': 10, 'NamedBy': 11, 'PublishedIn': 12, 'SaidToBeTheSameAs': 13, 'Studies': 14, 'UsedBy': 15, 'Uses': 16, 'applies to jurisdiction': 17, 'author': 18, 'award received': 19, 'capital': 20, 'conflict': 21, 'contains administrative territorial entity': 22, 'continent': 23, 'country': 24, 'country of citizenship': 25, 'creator': 26, 'developer': 27, 'director': 28, 'educated at': 29, 'employer': 30, 'followed by': 31, 'follows': 32, 'founded': 33, 'founded by': 34, 'genre': 35, 'head of government': 36, 'influenced by': 37, 'languages spoken, written or signed': 38, 'located in the administrative territorial entity': 39, 'location': 40, 'member of': 41, 'nominated for': 42, 'official language': 43, 'original language of work': 44, 'owned by': 45, 'owner of': 46, 'parent organization': 47, 'part of': 48, 'partner': 49, 'place of birth': 50, 'platform': 51, 'position held': 52, 'present in work': 53, 'replaces': 54, 'separated from': 55, 'shares border with': 56, 'sister city': 57, 'work location': 58}\n",
            "Loaded trained RE model 'drive/MyDrive/NLP_project_data/Model_checkpoints/checkpoint-306' with head size num_labels=87\n",
            "Built 1 RE examples across 23 docs\n",
            "Columns before mapping: ['RE_sentence', 'entity1_label', 'entity2_label', 'relation_label']\n"
          ]
        },
        {
          "output_type": "stream",
          "name": "stderr",
          "text": [
            "[nltk_data] Downloading package punkt to /root/nltk_data...\n",
            "[nltk_data]   Package punkt is already up-to-date!\n",
            "[nltk_data] Downloading package punkt_tab to /root/nltk_data...\n",
            "[nltk_data]   Package punkt_tab is already up-to-date!\n"
          ]
        },
        {
          "output_type": "display_data",
          "data": {
            "text/plain": [
              "Map:   0%|          | 0/1 [00:00<?, ? examples/s]"
            ],
            "application/vnd.jupyter.widget-view+json": {
              "version_major": 2,
              "version_minor": 0,
              "model_id": "f94772e52cf74b859c7257511b5c934b"
            }
          },
          "metadata": {}
        },
        {
          "output_type": "display_data",
          "data": {
            "text/plain": [
              "Map:   0%|          | 0/1 [00:00<?, ? examples/s]"
            ],
            "application/vnd.jupyter.widget-view+json": {
              "version_major": 2,
              "version_minor": 0,
              "model_id": "a5b6432dfbcf41488ab14fc582c8f631"
            }
          },
          "metadata": {}
        },
        {
          "output_type": "stream",
          "name": "stdout",
          "text": [
            "→ Prepared RE validation set: Dataset({\n",
            "    features: ['entity1_label', 'entity2_label', 'relation_label', 'text', 'labels'],\n",
            "    num_rows: 1\n",
            "})\n"
          ]
        }
      ],
      "source": [
        "#Old do not use\n",
        "\n",
        "\n",
        "import json\n",
        "import re\n",
        "from collections import defaultdict\n",
        "from datasets import Dataset\n",
        "import numpy as np\n",
        "from transformers import (\n",
        "    Trainer,\n",
        "    TrainingArguments,\n",
        "    AutoConfig,\n",
        "    AutoModelForSequenceClassification,\n",
        "    AutoTokenizer\n",
        ")\n",
        "from sklearn.metrics import precision_recall_fscore_support, accuracy_score\n",
        "\n",
        "# === 0) Define fixed relation label mapping ===\n",
        "target_labels = sorted(set(mapping_challenge_to_docred.values()))\n",
        "label2id = {lbl: idx for idx, lbl in enumerate(target_labels)}\n",
        "id2label = {idx: lbl for lbl, idx in label2id.items()}\n",
        "print(f\"Using fixed RE labels (len={len(label2id)}): {label2id}\")\n",
        "\n",
        "# === 1) Load RE model & tokenizer with conditional head sizing ===\n",
        "def load_re_model(name_or_path, baseline_name):\n",
        "    # shared tokenizer across models\n",
        "    tokenizer = AutoTokenizer.from_pretrained(name_or_path)\n",
        "    if name_or_path == baseline_name:\n",
        "        cfg = AutoConfig.from_pretrained(\n",
        "            name_or_path,\n",
        "            num_labels=len(label2id),\n",
        "            label2id=label2id,\n",
        "            id2label=id2label\n",
        "        )\n",
        "        model = AutoModelForSequenceClassification.from_pretrained(\n",
        "            name_or_path,\n",
        "            config=cfg\n",
        "        )\n",
        "        print(f\"Loaded baseline RE model '{name_or_path}' with overridden head size num_labels={model.config.num_labels}\")\n",
        "    else:\n",
        "        model = AutoModelForSequenceClassification.from_pretrained(name_or_path)\n",
        "        print(f\"Loaded trained RE model '{name_or_path}' with head size num_labels={model.config.num_labels}\")\n",
        "    return model, tokenizer\n",
        "\n",
        "re_model, re_tokenizer = load_re_model(re_model_name, baseline_re_name)\n",
        "\n",
        "# ensure NLTK sentence tokenizer is available\n",
        "import nltk\n",
        "nltk.download('punkt')\n",
        "nltk.download('punkt_tab')\n",
        "\n",
        "# === 2) Index gold triples by normalized document title ===\n",
        "gold_by_doc = defaultdict(list)\n",
        "for meta in dataset:\n",
        "    key = meta[\"title\"].strip().lower()\n",
        "    for t in meta.get(\"triples\", []):\n",
        "        gold_by_doc[key].append(t)\n",
        "\n",
        "# === Helpers to split text into sentences and extract containing sentence ===\n",
        "from nltk.tokenize import sent_tokenize\n",
        "\n",
        "def split_sentences(text):\n",
        "    return sent_tokenize(text)\n",
        "\n",
        "def get_sentence(text, a, b):\n",
        "    for sent in split_sentences(text):\n",
        "        idx = text.find(sent)\n",
        "        if idx <= a < idx + len(sent) and idx <= b < idx + len(sent):\n",
        "            return sent\n",
        "    # no single sentence contains both spans → skip example\n",
        "    return None\n",
        "\n",
        "# === 3) Build positive-only RE examples from NER outputs + gold triples ===\n",
        "examples = []\n",
        "for doc in ner_val_results:\n",
        "    title = doc['doc_title'].strip().lower()\n",
        "    text  = doc.get('doc', '')\n",
        "    spans = defaultdict(list)\n",
        "    for ent in doc.get('entities', []):\n",
        "        key = ent.get('word', '').strip().lower()\n",
        "        spans[key].append((ent['start'], ent['end']))\n",
        "    for head, rel, tail in [(t['head'], t['relation'], t['tail']) for t in gold_by_doc.get(title, [])]:\n",
        "        mapped = mapping_challenge_to_docred.get(rel)\n",
        "        if mapped is None:\n",
        "            continue\n",
        "        hsp = spans.get(head.lower().strip(), [])\n",
        "        tsp = spans.get(tail.lower().strip(), [])\n",
        "        if not (hsp and tsp):\n",
        "            continue\n",
        "        sent = get_sentence(text, hsp[0][0], tsp[0][0])\n",
        "        if sent is None:\n",
        "            continue\n",
        "        examples.append({\n",
        "            'RE_sentence':    sent,\n",
        "            'entity1_label':  head,\n",
        "            'entity2_label':  tail,\n",
        "            'relation_label': mapped\n",
        "        })\n",
        "print(f\"Built {len(examples)} RE examples across {len(gold_by_doc)} docs\")\n",
        "if not examples:\n",
        "    raise RuntimeError(\"No RE examples built; check your mapping and NER outputs.\")\n",
        "\n",
        "# === 4) Define transforms for HF Dataset ===\n",
        "def make_example(ex):\n",
        "    sent, e1, e2 = ex['RE_sentence'], ex['entity1_label'], ex['entity2_label']\n",
        "    # only wrap the single sentence containing both entities\n",
        "    text = sent.replace(e1, f\"[E1]{e1}[/E1]\").replace(e2, f\"[E2]{e2}[/E2]\")\n",
        "    return {\n",
        "        'text': text,\n",
        "        'entity1_label': e1,\n",
        "        'entity2_label': e2,\n",
        "        'relation_label': ex['relation_label'],\n",
        "    }\n",
        "\n",
        "def add_label_ids(ex):\n",
        "    return {'labels': label2id[ex['relation_label']]}\n",
        "\n",
        "# === 5) Build HF Dataset and apply transforms ===\n",
        "re_val_ds = Dataset.from_list(examples)\n",
        "print(\"Columns before mapping:\", re_val_ds.column_names)\n",
        "re_val_ds = re_val_ds.map(make_example, remove_columns=['RE_sentence'])\n",
        "re_val_ds = re_val_ds.map(add_label_ids)\n",
        "print(\"→ Prepared RE validation set:\", re_val_ds)\n",
        "\n"
      ]
    },
    {
      "cell_type": "markdown",
      "metadata": {
        "id": "x6PL9C2O2kNY"
      },
      "source": [
        "### Build RE validation examples"
      ]
    },
    {
      "cell_type": "markdown",
      "metadata": {
        "id": "GHCm2DcupBrX"
      },
      "source": [
        "### Create HF Dataset"
      ]
    },
    {
      "cell_type": "code",
      "execution_count": 102,
      "metadata": {
        "id": "HvqazyZtbAJH",
        "colab": {
          "base_uri": "https://localhost:8080/",
          "height": 290,
          "referenced_widgets": [
            "a358aa2fb4ca4c96836efdaaa0c46e31",
            "c6f605297b984bddada575008cb1700d",
            "b832015fa3b94bce88fe0d01d117b9ba",
            "bf49e1d17c694d9dab0ea51dd2f28a97",
            "8a3bd320b5df4b90ba58d7d66dfa17ce",
            "7919289471fe47b3b8eee1abd6644f02",
            "3795719122af42e898b9aaeffb4af6ee",
            "244a2a02a6544803a9a46b9175f2cfc0",
            "13ab4c792d8245f1b0ce5764927cd722",
            "1054d6674af9444a92b14f1ae80c54da",
            "2bb82848503843d1b0c51107f3c4e0ef"
          ]
        },
        "outputId": "f8fd4e86-5b47-4f09-e2af-fc06594403f5"
      },
      "outputs": [
        {
          "output_type": "stream",
          "name": "stdout",
          "text": [
            "Loaded trained RE model 'drive/MyDrive/NLP_project_data/Model_checkpoints/checkpoint-306' with head size num_labels=87\n"
          ]
        },
        {
          "output_type": "display_data",
          "data": {
            "text/plain": [
              "Map:   0%|          | 0/1 [00:00<?, ? examples/s]"
            ],
            "application/vnd.jupyter.widget-view+json": {
              "version_major": 2,
              "version_minor": 0,
              "model_id": "a358aa2fb4ca4c96836efdaaa0c46e31"
            }
          },
          "metadata": {}
        },
        {
          "output_type": "stream",
          "name": "stderr",
          "text": [
            "<ipython-input-102-91699a56e8ec>:50: FutureWarning: `tokenizer` is deprecated and will be removed in version 5.0.0 for `Trainer.__init__`. Use `processing_class` instead.\n",
            "  trainer = Trainer(\n"
          ]
        },
        {
          "output_type": "display_data",
          "data": {
            "text/plain": [
              "<IPython.core.display.HTML object>"
            ],
            "text/html": []
          },
          "metadata": {}
        },
        {
          "output_type": "stream",
          "name": "stdout",
          "text": [
            "🔍 RE Validation Results: {'eval_loss': 4.553816318511963, 'eval_model_preparation_time': 0.0061, 'eval_accuracy': 0.0, 'eval_precision': 0.0, 'eval_recall': 0.0, 'eval_f1': 0.0, 'eval_runtime': 0.091, 'eval_samples_per_second': 10.988, 'eval_steps_per_second': 10.988}\n"
          ]
        },
        {
          "output_type": "stream",
          "name": "stderr",
          "text": [
            "/usr/local/lib/python3.11/dist-packages/sklearn/metrics/_classification.py:1565: UndefinedMetricWarning: Precision is ill-defined and being set to 0.0 in labels with no predicted samples. Use `zero_division` parameter to control this behavior.\n",
            "  _warn_prf(average, modifier, f\"{metric.capitalize()} is\", len(result))\n",
            "/usr/local/lib/python3.11/dist-packages/sklearn/metrics/_classification.py:1565: UndefinedMetricWarning: Recall is ill-defined and being set to 0.0 in labels with no true samples. Use `zero_division` parameter to control this behavior.\n",
            "  _warn_prf(average, modifier, f\"{metric.capitalize()} is\", len(result))\n",
            "/usr/local/lib/python3.11/dist-packages/sklearn/metrics/_classification.py:1565: UndefinedMetricWarning: Precision is ill-defined and being set to 0.0 in labels with no predicted samples. Use `zero_division` parameter to control this behavior.\n",
            "  _warn_prf(average, modifier, f\"{metric.capitalize()} is\", len(result))\n",
            "/usr/local/lib/python3.11/dist-packages/sklearn/metrics/_classification.py:1565: UndefinedMetricWarning: Recall is ill-defined and being set to 0.0 in labels with no true samples. Use `zero_division` parameter to control this behavior.\n",
            "  _warn_prf(average, modifier, f\"{metric.capitalize()} is\", len(result))\n"
          ]
        },
        {
          "output_type": "stream",
          "name": "stdout",
          "text": [
            "Wrote predictions to /content/re_checkpoint-306_predictions.json\n"
          ]
        }
      ],
      "source": [
        "# First, load the correct RE model & tokenizer (baseline vs. trained)\n",
        "re_tokenizer  = AutoTokenizer.from_pretrained(re_model_name)\n",
        "if re_model_name == baseline_re_name:\n",
        "    # baseline: override classification head to fixed number of labels\n",
        "    cfg = AutoConfig.from_pretrained(\n",
        "        re_model_name,\n",
        "        num_labels=len(label2id),\n",
        "        label2id=label2id,\n",
        "        id2label=id2label\n",
        "    )\n",
        "    re_model = AutoModelForSequenceClassification.from_pretrained(\n",
        "        re_model_name,\n",
        "        config=cfg\n",
        "    )\n",
        "    print(f\"Loaded baseline RE model '{re_model_name}' with overridden head size num_labels={re_model.config.num_labels}\")\n",
        "else:\n",
        "    # trained: load checkpoint head as-is\n",
        "    re_model = AutoModelForSequenceClassification.from_pretrained(re_model_name)\n",
        "    print(f\"Loaded trained RE model '{re_model_name}' with head size num_labels={re_model.config.num_labels}\")\n",
        "\n",
        "# 7) Tokenization function using the newly loaded tokenizer\n",
        "def tokenize_fn(batch):\n",
        "    return re_tokenizer(\n",
        "        batch['text'],\n",
        "        padding='max_length',\n",
        "        truncation=True,\n",
        "        max_length=256\n",
        "    )\n",
        "\n",
        "# Apply tokenization to your validation dataset\n",
        "tokenized_val = re_val_ds.map(tokenize_fn, batched=True)\n",
        "\n",
        "# 8) Define evaluation metrics\n",
        "def compute_metrics(eval_pred):\n",
        "    logits, labels = eval_pred\n",
        "    preds = np.argmax(logits, axis=-1)\n",
        "    p, r, f1, _ = precision_recall_fscore_support(labels, preds, average='weighted')\n",
        "    acc = accuracy_score(labels, preds)\n",
        "    return {'accuracy': acc, 'precision': p, 'recall': r, 'f1': f1}\n",
        "\n",
        "# 9) Set up Trainer for evaluation\n",
        "eval_args = TrainingArguments(\n",
        "    output_dir='/content/re_eval_output',\n",
        "    per_device_eval_batch_size=32,\n",
        "    do_train=False,\n",
        "    do_eval=True,\n",
        "    logging_dir='/content/logs',\n",
        "    report_to='wandb'\n",
        ")\n",
        "trainer = Trainer(\n",
        "    model=re_model,\n",
        "    args=eval_args,\n",
        "    tokenizer=re_tokenizer,\n",
        "    compute_metrics=compute_metrics\n",
        ")\n",
        "\n",
        "# 10) Run evaluation\n",
        "eval_result = trainer.evaluate(eval_dataset=tokenized_val)\n",
        "print(\"🔍 RE Validation Results:\", eval_result)\n",
        "\n",
        "# 11) Generate and save predictions as before\n",
        "preds_output = trainer.predict(tokenized_val)\n",
        "pred_ids = np.argmax(preds_output.predictions, axis=-1)\n",
        "\n",
        "# Determine id2label mapping to use for predictions\n",
        "# If model config defines id2label, prefer that (e.g., for trained model with 87 classes)\n",
        "if hasattr(re_model.config, 'id2label') and re_model.config.id2label:\n",
        "    pred_id2label = re_model.config.id2label\n",
        "else:\n",
        "    pred_id2label = id2label\n",
        "\n",
        "# sanitize filename & write out JSON\n",
        "import os\n",
        "safe_model_name = os.path.basename(re_model_name.rstrip('/'))\n",
        "output_path = f'/content/re_{safe_model_name}_predictions.json'\n",
        "\n",
        "outputs = []\n",
        "for ex, pred in zip(re_val_ds, pred_ids):\n",
        "    # guard against out-of-range predictions\n",
        "    pred_label = pred_id2label.get(pred, 'UNKNOWN')\n",
        "    outputs.append({\n",
        "        'text': ex['text'],\n",
        "        'entity1_label': ex['entity1_label'],\n",
        "        'entity2_label': ex['entity2_label'],\n",
        "        'gold_relation': ex['relation_label'],\n",
        "        'predicted_relation': pred_label\n",
        "    })\n",
        "with open(output_path, 'w') as f:\n",
        "    json.dump(outputs, f, indent=2)\n",
        "print(f\"Wrote predictions to {output_path}\")"
      ]
    },
    {
      "cell_type": "markdown",
      "metadata": {
        "id": "-LLxXxc_0iXU"
      },
      "source": [
        "### Tokenize Validation Examples"
      ]
    },
    {
      "cell_type": "markdown",
      "metadata": {
        "id": "zIM4suAG07MK"
      },
      "source": [
        "### Classification report"
      ]
    },
    {
      "cell_type": "code",
      "execution_count": 103,
      "metadata": {
        "id": "2mdkf-sM07jD"
      },
      "outputs": [],
      "source": [
        "from sklearn.metrics import classification_report\n",
        "\n",
        "# true / pred IDs\n",
        "true_ids = re_val_ds['labels']\n",
        "pred_ids = pred_ids   # from trainer.predict()\n",
        "\n",
        "# pick the right id→label map\n",
        "if hasattr(re_model.config, 'id2label') and re_model.config.id2label:\n",
        "    # HF stores them as strings, so cast keys back to ints:\n",
        "    model_id2label = { int(k):v for k,v in re_model.config.id2label.items() }\n",
        "else:\n",
        "    model_id2label = id2label  # your 0–58 fixed mapping\n",
        "\n",
        "# only include the classes we actually see\n",
        "unique_labels = sorted(set(true_ids) | set(pred_ids))\n",
        "target_names   = [ model_id2label[l] for l in unique_labels ]\n",
        "\n",
        "# build and log the report\n",
        "report = classification_report(\n",
        "    true_ids,\n",
        "    pred_ids,\n",
        "    labels=unique_labels,\n",
        "    target_names=target_names,\n",
        "    output_dict=True,\n",
        "    zero_division=0\n",
        ")\n",
        "wandb.log({\"classification_report\": report})\n",
        "\n",
        "# micro-average metrics\n",
        "prec_re, rec_re, f1_re, _ = precision_recall_fscore_support(\n",
        "    true_ids,\n",
        "    pred_ids,\n",
        "    labels=unique_labels,\n",
        "    average='micro'\n",
        ")\n",
        "wandb.log({\n",
        "    \"re/precision\": prec_re,\n",
        "    \"re/recall\":    rec_re,\n",
        "    \"re/f1\":        f1_re,\n",
        "})\n",
        "\n",
        "# finally, your summary table (assuming prec_ner etc.)\n",
        "summary_table = wandb.Table(\n",
        "    columns=[\n",
        "      \"ner_precision\",\"ner_recall\",\"ner_f1\",\n",
        "      \"re_precision\", \"re_recall\", \"re_f1\"\n",
        "    ],\n",
        "    data=[[prec_ner, rec_ner, f1_ner, prec_re, rec_re, f1_re]]\n",
        ")\n",
        "wandb.log({\"metrics_summary\": summary_table})\n"
      ]
    },
    {
      "cell_type": "code",
      "execution_count": 104,
      "metadata": {
        "id": "pdg2E9LmHEoN",
        "colab": {
          "base_uri": "https://localhost:8080/"
        },
        "outputId": "9815f930-59a5-4e7a-d65f-8c72ad307c0d"
      },
      "outputs": [
        {
          "output_type": "stream",
          "name": "stdout",
          "text": [
            "1.0\n",
            "1.0\n",
            "1.0\n"
          ]
        }
      ],
      "source": [
        "from sklearn.metrics import classification_report, precision_recall_fscore_support\n",
        "\n",
        "# 1) Build an equivalence map to collapse synonyms\n",
        "equiv = {\n",
        "    \"HasPart\": \"HasPart\",\n",
        "    \"part of\": \"HasPart\",\n",
        "    # ── add any other pairs you want to collapse ──\n",
        "    \"BasedOn\":      \"BasedOn\",\n",
        "    \"HasEffect\":    \"HasEffect\",\n",
        "    \"Causes\":       \"Causes\",\n",
        "    \"influenced by\":\"InfluencedBy\",\n",
        "    \"InfluencedBy\": \"InfluencedBy\",\n",
        "    # …\n",
        "}\n",
        "\n",
        "# 2) Pull out the *string* gold & predicted labels\n",
        "gold_str = re_val_ds[\"relation_label\"]         # e.g. [\"HasPart\",\"HasPart\",…]\n",
        "pred_str = [ pred_id2label.get(p, \"UNKNOWN\")   # your pred_id2label from earlier\n",
        "             for p in pred_ids ]\n",
        "\n",
        "# 3) Normalize both through the equivalence map\n",
        "gold_norm = [ equiv[g] if g in equiv else g for g in gold_str ]\n",
        "pred_norm = [ equiv[p] if p in equiv else p for p in pred_str ]\n",
        "\n",
        "# 4) Compute unique *string* labels actually present\n",
        "unique_labels_str = sorted(set(gold_norm) | set(pred_norm))\n",
        "\n",
        "# 5) Run classification_report on strings directly\n",
        "report = classification_report(\n",
        "    gold_norm,\n",
        "    pred_norm,\n",
        "    labels=unique_labels_str,\n",
        "    target_names=unique_labels_str,\n",
        "    output_dict=True,\n",
        "    zero_division=0\n",
        ")\n",
        "wandb.log({\"classification_report\": report})\n",
        "\n",
        "# 6) And micro‐averaged PRF on the strings as well:\n",
        "prec_re, rec_re, f1_re, _ = precision_recall_fscore_support(\n",
        "    gold_norm,\n",
        "    pred_norm,\n",
        "    labels=unique_labels_str,\n",
        "    average='micro'\n",
        ")\n",
        "wandb.log({\n",
        "    \"re/precision\": prec_re,\n",
        "    \"re/recall\":    rec_re,\n",
        "    \"re/f1\":        f1_re,\n",
        "})\n",
        "\n",
        "print(prec_re)\n",
        "print(rec_re)\n",
        "print(f1_re)\n"
      ]
    },
    {
      "cell_type": "markdown",
      "metadata": {
        "id": "m4yVOJzh_vwb"
      },
      "source": [
        "Wrap Up\n"
      ]
    },
    {
      "cell_type": "code",
      "execution_count": 29,
      "metadata": {
        "id": "0J8TqQZE_xCM",
        "colab": {
          "base_uri": "https://localhost:8080/",
          "height": 734
        },
        "outputId": "973a28a5-6de9-40c8-fce2-8a7fa08d4bdb"
      },
      "outputs": [
        {
          "output_type": "display_data",
          "data": {
            "text/plain": [
              "<IPython.core.display.HTML object>"
            ],
            "text/html": []
          },
          "metadata": {}
        },
        {
          "output_type": "display_data",
          "data": {
            "text/plain": [
              "<IPython.core.display.HTML object>"
            ],
            "text/html": [
              "<br>    <style><br>        .wandb-row {<br>            display: flex;<br>            flex-direction: row;<br>            flex-wrap: wrap;<br>            justify-content: flex-start;<br>            width: 100%;<br>        }<br>        .wandb-col {<br>            display: flex;<br>            flex-direction: column;<br>            flex-basis: 100%;<br>            flex: 1;<br>            padding: 10px;<br>        }<br>    </style><br><div class=\"wandb-row\"><div class=\"wandb-col\"><h3>Run history:</h3><br/><table class=\"wandb\"><tr><td>ner/f1</td><td>▁</td></tr><tr><td>ner/precision</td><td>▁</td></tr><tr><td>ner/recall</td><td>▁</td></tr><tr><td>re/f1</td><td>▁▁▁</td></tr><tr><td>re/precision</td><td>▁▁▁</td></tr><tr><td>re/recall</td><td>▁▁▁</td></tr><tr><td>test/model_preparation_time</td><td>▁</td></tr><tr><td>test/runtime</td><td>▁</td></tr><tr><td>test/samples_per_second</td><td>▁</td></tr><tr><td>test/steps_per_second</td><td>▁</td></tr><tr><td>train/global_step</td><td>▁▁▁▁▁▁▁▁▁▁</td></tr></table><br/></div><div class=\"wandb-col\"><h3>Run summary:</h3><br/><table class=\"wandb\"><tr><td>ner/f1</td><td>0</td></tr><tr><td>ner/precision</td><td>0</td></tr><tr><td>ner/recall</td><td>0</td></tr><tr><td>re/f1</td><td>0</td></tr><tr><td>re/precision</td><td>0</td></tr><tr><td>re/recall</td><td>0</td></tr><tr><td>test/model_preparation_time</td><td>0.0058</td></tr><tr><td>test/runtime</td><td>178.9593</td></tr><tr><td>test/samples_per_second</td><td>100.749</td></tr><tr><td>test/steps_per_second</td><td>3.152</td></tr><tr><td>train/global_step</td><td>0</td></tr></table><br/></div></div>"
            ]
          },
          "metadata": {}
        },
        {
          "output_type": "display_data",
          "data": {
            "text/plain": [
              "<IPython.core.display.HTML object>"
            ],
            "text/html": [
              " View run <strong style=\"color:#cdcd00\">eval_longformer-base-4096_checkpoint-306</strong> at: <a href='https://wandb.ai/ninakrebs1-university-of-st-gallen-student-union-shsg/model-eval/runs/vi8i6rzq' target=\"_blank\">https://wandb.ai/ninakrebs1-university-of-st-gallen-student-union-shsg/model-eval/runs/vi8i6rzq</a><br> View project at: <a href='https://wandb.ai/ninakrebs1-university-of-st-gallen-student-union-shsg/model-eval' target=\"_blank\">https://wandb.ai/ninakrebs1-university-of-st-gallen-student-union-shsg/model-eval</a><br>Synced 5 W&B file(s), 3 media file(s), 2 artifact file(s) and 0 other file(s)"
            ]
          },
          "metadata": {}
        },
        {
          "output_type": "display_data",
          "data": {
            "text/plain": [
              "<IPython.core.display.HTML object>"
            ],
            "text/html": [
              "Find logs at: <code>./wandb/run-20250518_182937-vi8i6rzq/logs</code>"
            ]
          },
          "metadata": {}
        }
      ],
      "source": [
        "wandb.finish()"
      ]
    }
  ],
  "metadata": {
    "accelerator": "GPU",
    "colab": {
      "gpuType": "A100",
      "provenance": [],
      "machine_shape": "hm",
      "include_colab_link": true
    },
    "kernelspec": {
      "display_name": "Python 3",
      "name": "python3"
    },
    "language_info": {
      "codemirror_mode": {
        "name": "ipython",
        "version": 3
      },
      "file_extension": ".py",
      "mimetype": "text/x-python",
      "name": "python",
      "nbconvert_exporter": "python",
      "pygments_lexer": "ipython3",
      "version": "3.11.11"
    },
    "widgets": {
      "application/vnd.jupyter.widget-state+json": {
        "69b046000110408ea48ee1902b33e6c4": {
          "model_module": "@jupyter-widgets/controls",
          "model_name": "HBoxModel",
          "model_module_version": "1.5.0",
          "state": {
            "_dom_classes": [],
            "_model_module": "@jupyter-widgets/controls",
            "_model_module_version": "1.5.0",
            "_model_name": "HBoxModel",
            "_view_count": null,
            "_view_module": "@jupyter-widgets/controls",
            "_view_module_version": "1.5.0",
            "_view_name": "HBoxView",
            "box_style": "",
            "children": [
              "IPY_MODEL_8a1796371427433b85db5aac674e8b9c",
              "IPY_MODEL_cbcd1e1178b9405d8d116d33dec90def",
              "IPY_MODEL_4fc7619eaaa6408fabe99e8f2cd427e8"
            ],
            "layout": "IPY_MODEL_1fda866d98cd47678221dc9f3a2f8f63"
          }
        },
        "8a1796371427433b85db5aac674e8b9c": {
          "model_module": "@jupyter-widgets/controls",
          "model_name": "HTMLModel",
          "model_module_version": "1.5.0",
          "state": {
            "_dom_classes": [],
            "_model_module": "@jupyter-widgets/controls",
            "_model_module_version": "1.5.0",
            "_model_name": "HTMLModel",
            "_view_count": null,
            "_view_module": "@jupyter-widgets/controls",
            "_view_module_version": "1.5.0",
            "_view_name": "HTMLView",
            "description": "",
            "description_tooltip": null,
            "layout": "IPY_MODEL_2893b4d83b394363aa440bfaf2e74594",
            "placeholder": "​",
            "style": "IPY_MODEL_51f8424fa5444b2bbcee5f2690bf4783",
            "value": "vocab.json: 100%"
          }
        },
        "cbcd1e1178b9405d8d116d33dec90def": {
          "model_module": "@jupyter-widgets/controls",
          "model_name": "FloatProgressModel",
          "model_module_version": "1.5.0",
          "state": {
            "_dom_classes": [],
            "_model_module": "@jupyter-widgets/controls",
            "_model_module_version": "1.5.0",
            "_model_name": "FloatProgressModel",
            "_view_count": null,
            "_view_module": "@jupyter-widgets/controls",
            "_view_module_version": "1.5.0",
            "_view_name": "ProgressView",
            "bar_style": "success",
            "description": "",
            "description_tooltip": null,
            "layout": "IPY_MODEL_1daecad81bf54aaa8e1e65252ebf7821",
            "max": 898823,
            "min": 0,
            "orientation": "horizontal",
            "style": "IPY_MODEL_e415f3bc23b74e0a87b4a6cbe6507fa8",
            "value": 898823
          }
        },
        "4fc7619eaaa6408fabe99e8f2cd427e8": {
          "model_module": "@jupyter-widgets/controls",
          "model_name": "HTMLModel",
          "model_module_version": "1.5.0",
          "state": {
            "_dom_classes": [],
            "_model_module": "@jupyter-widgets/controls",
            "_model_module_version": "1.5.0",
            "_model_name": "HTMLModel",
            "_view_count": null,
            "_view_module": "@jupyter-widgets/controls",
            "_view_module_version": "1.5.0",
            "_view_name": "HTMLView",
            "description": "",
            "description_tooltip": null,
            "layout": "IPY_MODEL_5767b23fda5b407eb56784600f4ec536",
            "placeholder": "​",
            "style": "IPY_MODEL_62e0d04d06334165b3f50bcb7664b91a",
            "value": " 899k/899k [00:00&lt;00:00, 14.8MB/s]"
          }
        },
        "1fda866d98cd47678221dc9f3a2f8f63": {
          "model_module": "@jupyter-widgets/base",
          "model_name": "LayoutModel",
          "model_module_version": "1.2.0",
          "state": {
            "_model_module": "@jupyter-widgets/base",
            "_model_module_version": "1.2.0",
            "_model_name": "LayoutModel",
            "_view_count": null,
            "_view_module": "@jupyter-widgets/base",
            "_view_module_version": "1.2.0",
            "_view_name": "LayoutView",
            "align_content": null,
            "align_items": null,
            "align_self": null,
            "border": null,
            "bottom": null,
            "display": null,
            "flex": null,
            "flex_flow": null,
            "grid_area": null,
            "grid_auto_columns": null,
            "grid_auto_flow": null,
            "grid_auto_rows": null,
            "grid_column": null,
            "grid_gap": null,
            "grid_row": null,
            "grid_template_areas": null,
            "grid_template_columns": null,
            "grid_template_rows": null,
            "height": null,
            "justify_content": null,
            "justify_items": null,
            "left": null,
            "margin": null,
            "max_height": null,
            "max_width": null,
            "min_height": null,
            "min_width": null,
            "object_fit": null,
            "object_position": null,
            "order": null,
            "overflow": null,
            "overflow_x": null,
            "overflow_y": null,
            "padding": null,
            "right": null,
            "top": null,
            "visibility": null,
            "width": null
          }
        },
        "2893b4d83b394363aa440bfaf2e74594": {
          "model_module": "@jupyter-widgets/base",
          "model_name": "LayoutModel",
          "model_module_version": "1.2.0",
          "state": {
            "_model_module": "@jupyter-widgets/base",
            "_model_module_version": "1.2.0",
            "_model_name": "LayoutModel",
            "_view_count": null,
            "_view_module": "@jupyter-widgets/base",
            "_view_module_version": "1.2.0",
            "_view_name": "LayoutView",
            "align_content": null,
            "align_items": null,
            "align_self": null,
            "border": null,
            "bottom": null,
            "display": null,
            "flex": null,
            "flex_flow": null,
            "grid_area": null,
            "grid_auto_columns": null,
            "grid_auto_flow": null,
            "grid_auto_rows": null,
            "grid_column": null,
            "grid_gap": null,
            "grid_row": null,
            "grid_template_areas": null,
            "grid_template_columns": null,
            "grid_template_rows": null,
            "height": null,
            "justify_content": null,
            "justify_items": null,
            "left": null,
            "margin": null,
            "max_height": null,
            "max_width": null,
            "min_height": null,
            "min_width": null,
            "object_fit": null,
            "object_position": null,
            "order": null,
            "overflow": null,
            "overflow_x": null,
            "overflow_y": null,
            "padding": null,
            "right": null,
            "top": null,
            "visibility": null,
            "width": null
          }
        },
        "51f8424fa5444b2bbcee5f2690bf4783": {
          "model_module": "@jupyter-widgets/controls",
          "model_name": "DescriptionStyleModel",
          "model_module_version": "1.5.0",
          "state": {
            "_model_module": "@jupyter-widgets/controls",
            "_model_module_version": "1.5.0",
            "_model_name": "DescriptionStyleModel",
            "_view_count": null,
            "_view_module": "@jupyter-widgets/base",
            "_view_module_version": "1.2.0",
            "_view_name": "StyleView",
            "description_width": ""
          }
        },
        "1daecad81bf54aaa8e1e65252ebf7821": {
          "model_module": "@jupyter-widgets/base",
          "model_name": "LayoutModel",
          "model_module_version": "1.2.0",
          "state": {
            "_model_module": "@jupyter-widgets/base",
            "_model_module_version": "1.2.0",
            "_model_name": "LayoutModel",
            "_view_count": null,
            "_view_module": "@jupyter-widgets/base",
            "_view_module_version": "1.2.0",
            "_view_name": "LayoutView",
            "align_content": null,
            "align_items": null,
            "align_self": null,
            "border": null,
            "bottom": null,
            "display": null,
            "flex": null,
            "flex_flow": null,
            "grid_area": null,
            "grid_auto_columns": null,
            "grid_auto_flow": null,
            "grid_auto_rows": null,
            "grid_column": null,
            "grid_gap": null,
            "grid_row": null,
            "grid_template_areas": null,
            "grid_template_columns": null,
            "grid_template_rows": null,
            "height": null,
            "justify_content": null,
            "justify_items": null,
            "left": null,
            "margin": null,
            "max_height": null,
            "max_width": null,
            "min_height": null,
            "min_width": null,
            "object_fit": null,
            "object_position": null,
            "order": null,
            "overflow": null,
            "overflow_x": null,
            "overflow_y": null,
            "padding": null,
            "right": null,
            "top": null,
            "visibility": null,
            "width": null
          }
        },
        "e415f3bc23b74e0a87b4a6cbe6507fa8": {
          "model_module": "@jupyter-widgets/controls",
          "model_name": "ProgressStyleModel",
          "model_module_version": "1.5.0",
          "state": {
            "_model_module": "@jupyter-widgets/controls",
            "_model_module_version": "1.5.0",
            "_model_name": "ProgressStyleModel",
            "_view_count": null,
            "_view_module": "@jupyter-widgets/base",
            "_view_module_version": "1.2.0",
            "_view_name": "StyleView",
            "bar_color": null,
            "description_width": ""
          }
        },
        "5767b23fda5b407eb56784600f4ec536": {
          "model_module": "@jupyter-widgets/base",
          "model_name": "LayoutModel",
          "model_module_version": "1.2.0",
          "state": {
            "_model_module": "@jupyter-widgets/base",
            "_model_module_version": "1.2.0",
            "_model_name": "LayoutModel",
            "_view_count": null,
            "_view_module": "@jupyter-widgets/base",
            "_view_module_version": "1.2.0",
            "_view_name": "LayoutView",
            "align_content": null,
            "align_items": null,
            "align_self": null,
            "border": null,
            "bottom": null,
            "display": null,
            "flex": null,
            "flex_flow": null,
            "grid_area": null,
            "grid_auto_columns": null,
            "grid_auto_flow": null,
            "grid_auto_rows": null,
            "grid_column": null,
            "grid_gap": null,
            "grid_row": null,
            "grid_template_areas": null,
            "grid_template_columns": null,
            "grid_template_rows": null,
            "height": null,
            "justify_content": null,
            "justify_items": null,
            "left": null,
            "margin": null,
            "max_height": null,
            "max_width": null,
            "min_height": null,
            "min_width": null,
            "object_fit": null,
            "object_position": null,
            "order": null,
            "overflow": null,
            "overflow_x": null,
            "overflow_y": null,
            "padding": null,
            "right": null,
            "top": null,
            "visibility": null,
            "width": null
          }
        },
        "62e0d04d06334165b3f50bcb7664b91a": {
          "model_module": "@jupyter-widgets/controls",
          "model_name": "DescriptionStyleModel",
          "model_module_version": "1.5.0",
          "state": {
            "_model_module": "@jupyter-widgets/controls",
            "_model_module_version": "1.5.0",
            "_model_name": "DescriptionStyleModel",
            "_view_count": null,
            "_view_module": "@jupyter-widgets/base",
            "_view_module_version": "1.2.0",
            "_view_name": "StyleView",
            "description_width": ""
          }
        },
        "2b017f4b5d044411b026f9359cf47f51": {
          "model_module": "@jupyter-widgets/controls",
          "model_name": "HBoxModel",
          "model_module_version": "1.5.0",
          "state": {
            "_dom_classes": [],
            "_model_module": "@jupyter-widgets/controls",
            "_model_module_version": "1.5.0",
            "_model_name": "HBoxModel",
            "_view_count": null,
            "_view_module": "@jupyter-widgets/controls",
            "_view_module_version": "1.5.0",
            "_view_name": "HBoxView",
            "box_style": "",
            "children": [
              "IPY_MODEL_7014dfef6e004f3590073f0c2a6423b5",
              "IPY_MODEL_2edbcf034588477b9b5b9eb79d9105bf",
              "IPY_MODEL_50d1a5e808424cfb85d908264636341e"
            ],
            "layout": "IPY_MODEL_c0ba23aa35054eaaa89087debb88bf57"
          }
        },
        "7014dfef6e004f3590073f0c2a6423b5": {
          "model_module": "@jupyter-widgets/controls",
          "model_name": "HTMLModel",
          "model_module_version": "1.5.0",
          "state": {
            "_dom_classes": [],
            "_model_module": "@jupyter-widgets/controls",
            "_model_module_version": "1.5.0",
            "_model_name": "HTMLModel",
            "_view_count": null,
            "_view_module": "@jupyter-widgets/controls",
            "_view_module_version": "1.5.0",
            "_view_name": "HTMLView",
            "description": "",
            "description_tooltip": null,
            "layout": "IPY_MODEL_4d5560311e8f4f94a5f6b84d5af537fe",
            "placeholder": "​",
            "style": "IPY_MODEL_94128dcd1d6e428481285ac91f081499",
            "value": "merges.txt: 100%"
          }
        },
        "2edbcf034588477b9b5b9eb79d9105bf": {
          "model_module": "@jupyter-widgets/controls",
          "model_name": "FloatProgressModel",
          "model_module_version": "1.5.0",
          "state": {
            "_dom_classes": [],
            "_model_module": "@jupyter-widgets/controls",
            "_model_module_version": "1.5.0",
            "_model_name": "FloatProgressModel",
            "_view_count": null,
            "_view_module": "@jupyter-widgets/controls",
            "_view_module_version": "1.5.0",
            "_view_name": "ProgressView",
            "bar_style": "success",
            "description": "",
            "description_tooltip": null,
            "layout": "IPY_MODEL_f1a94962ce074cf4be0a23e6d8bf0ea4",
            "max": 456318,
            "min": 0,
            "orientation": "horizontal",
            "style": "IPY_MODEL_7d21a628c0a34c1cbdfe1e036d068db6",
            "value": 456318
          }
        },
        "50d1a5e808424cfb85d908264636341e": {
          "model_module": "@jupyter-widgets/controls",
          "model_name": "HTMLModel",
          "model_module_version": "1.5.0",
          "state": {
            "_dom_classes": [],
            "_model_module": "@jupyter-widgets/controls",
            "_model_module_version": "1.5.0",
            "_model_name": "HTMLModel",
            "_view_count": null,
            "_view_module": "@jupyter-widgets/controls",
            "_view_module_version": "1.5.0",
            "_view_name": "HTMLView",
            "description": "",
            "description_tooltip": null,
            "layout": "IPY_MODEL_865b9cfe73344ef9815d3849b3fc3047",
            "placeholder": "​",
            "style": "IPY_MODEL_c2e37615ef2744429214ec196920644e",
            "value": " 456k/456k [00:00&lt;00:00, 13.2MB/s]"
          }
        },
        "c0ba23aa35054eaaa89087debb88bf57": {
          "model_module": "@jupyter-widgets/base",
          "model_name": "LayoutModel",
          "model_module_version": "1.2.0",
          "state": {
            "_model_module": "@jupyter-widgets/base",
            "_model_module_version": "1.2.0",
            "_model_name": "LayoutModel",
            "_view_count": null,
            "_view_module": "@jupyter-widgets/base",
            "_view_module_version": "1.2.0",
            "_view_name": "LayoutView",
            "align_content": null,
            "align_items": null,
            "align_self": null,
            "border": null,
            "bottom": null,
            "display": null,
            "flex": null,
            "flex_flow": null,
            "grid_area": null,
            "grid_auto_columns": null,
            "grid_auto_flow": null,
            "grid_auto_rows": null,
            "grid_column": null,
            "grid_gap": null,
            "grid_row": null,
            "grid_template_areas": null,
            "grid_template_columns": null,
            "grid_template_rows": null,
            "height": null,
            "justify_content": null,
            "justify_items": null,
            "left": null,
            "margin": null,
            "max_height": null,
            "max_width": null,
            "min_height": null,
            "min_width": null,
            "object_fit": null,
            "object_position": null,
            "order": null,
            "overflow": null,
            "overflow_x": null,
            "overflow_y": null,
            "padding": null,
            "right": null,
            "top": null,
            "visibility": null,
            "width": null
          }
        },
        "4d5560311e8f4f94a5f6b84d5af537fe": {
          "model_module": "@jupyter-widgets/base",
          "model_name": "LayoutModel",
          "model_module_version": "1.2.0",
          "state": {
            "_model_module": "@jupyter-widgets/base",
            "_model_module_version": "1.2.0",
            "_model_name": "LayoutModel",
            "_view_count": null,
            "_view_module": "@jupyter-widgets/base",
            "_view_module_version": "1.2.0",
            "_view_name": "LayoutView",
            "align_content": null,
            "align_items": null,
            "align_self": null,
            "border": null,
            "bottom": null,
            "display": null,
            "flex": null,
            "flex_flow": null,
            "grid_area": null,
            "grid_auto_columns": null,
            "grid_auto_flow": null,
            "grid_auto_rows": null,
            "grid_column": null,
            "grid_gap": null,
            "grid_row": null,
            "grid_template_areas": null,
            "grid_template_columns": null,
            "grid_template_rows": null,
            "height": null,
            "justify_content": null,
            "justify_items": null,
            "left": null,
            "margin": null,
            "max_height": null,
            "max_width": null,
            "min_height": null,
            "min_width": null,
            "object_fit": null,
            "object_position": null,
            "order": null,
            "overflow": null,
            "overflow_x": null,
            "overflow_y": null,
            "padding": null,
            "right": null,
            "top": null,
            "visibility": null,
            "width": null
          }
        },
        "94128dcd1d6e428481285ac91f081499": {
          "model_module": "@jupyter-widgets/controls",
          "model_name": "DescriptionStyleModel",
          "model_module_version": "1.5.0",
          "state": {
            "_model_module": "@jupyter-widgets/controls",
            "_model_module_version": "1.5.0",
            "_model_name": "DescriptionStyleModel",
            "_view_count": null,
            "_view_module": "@jupyter-widgets/base",
            "_view_module_version": "1.2.0",
            "_view_name": "StyleView",
            "description_width": ""
          }
        },
        "f1a94962ce074cf4be0a23e6d8bf0ea4": {
          "model_module": "@jupyter-widgets/base",
          "model_name": "LayoutModel",
          "model_module_version": "1.2.0",
          "state": {
            "_model_module": "@jupyter-widgets/base",
            "_model_module_version": "1.2.0",
            "_model_name": "LayoutModel",
            "_view_count": null,
            "_view_module": "@jupyter-widgets/base",
            "_view_module_version": "1.2.0",
            "_view_name": "LayoutView",
            "align_content": null,
            "align_items": null,
            "align_self": null,
            "border": null,
            "bottom": null,
            "display": null,
            "flex": null,
            "flex_flow": null,
            "grid_area": null,
            "grid_auto_columns": null,
            "grid_auto_flow": null,
            "grid_auto_rows": null,
            "grid_column": null,
            "grid_gap": null,
            "grid_row": null,
            "grid_template_areas": null,
            "grid_template_columns": null,
            "grid_template_rows": null,
            "height": null,
            "justify_content": null,
            "justify_items": null,
            "left": null,
            "margin": null,
            "max_height": null,
            "max_width": null,
            "min_height": null,
            "min_width": null,
            "object_fit": null,
            "object_position": null,
            "order": null,
            "overflow": null,
            "overflow_x": null,
            "overflow_y": null,
            "padding": null,
            "right": null,
            "top": null,
            "visibility": null,
            "width": null
          }
        },
        "7d21a628c0a34c1cbdfe1e036d068db6": {
          "model_module": "@jupyter-widgets/controls",
          "model_name": "ProgressStyleModel",
          "model_module_version": "1.5.0",
          "state": {
            "_model_module": "@jupyter-widgets/controls",
            "_model_module_version": "1.5.0",
            "_model_name": "ProgressStyleModel",
            "_view_count": null,
            "_view_module": "@jupyter-widgets/base",
            "_view_module_version": "1.2.0",
            "_view_name": "StyleView",
            "bar_color": null,
            "description_width": ""
          }
        },
        "865b9cfe73344ef9815d3849b3fc3047": {
          "model_module": "@jupyter-widgets/base",
          "model_name": "LayoutModel",
          "model_module_version": "1.2.0",
          "state": {
            "_model_module": "@jupyter-widgets/base",
            "_model_module_version": "1.2.0",
            "_model_name": "LayoutModel",
            "_view_count": null,
            "_view_module": "@jupyter-widgets/base",
            "_view_module_version": "1.2.0",
            "_view_name": "LayoutView",
            "align_content": null,
            "align_items": null,
            "align_self": null,
            "border": null,
            "bottom": null,
            "display": null,
            "flex": null,
            "flex_flow": null,
            "grid_area": null,
            "grid_auto_columns": null,
            "grid_auto_flow": null,
            "grid_auto_rows": null,
            "grid_column": null,
            "grid_gap": null,
            "grid_row": null,
            "grid_template_areas": null,
            "grid_template_columns": null,
            "grid_template_rows": null,
            "height": null,
            "justify_content": null,
            "justify_items": null,
            "left": null,
            "margin": null,
            "max_height": null,
            "max_width": null,
            "min_height": null,
            "min_width": null,
            "object_fit": null,
            "object_position": null,
            "order": null,
            "overflow": null,
            "overflow_x": null,
            "overflow_y": null,
            "padding": null,
            "right": null,
            "top": null,
            "visibility": null,
            "width": null
          }
        },
        "c2e37615ef2744429214ec196920644e": {
          "model_module": "@jupyter-widgets/controls",
          "model_name": "DescriptionStyleModel",
          "model_module_version": "1.5.0",
          "state": {
            "_model_module": "@jupyter-widgets/controls",
            "_model_module_version": "1.5.0",
            "_model_name": "DescriptionStyleModel",
            "_view_count": null,
            "_view_module": "@jupyter-widgets/base",
            "_view_module_version": "1.2.0",
            "_view_name": "StyleView",
            "description_width": ""
          }
        },
        "3a9b9d86fb2344f19b16e097580277bb": {
          "model_module": "@jupyter-widgets/controls",
          "model_name": "HBoxModel",
          "model_module_version": "1.5.0",
          "state": {
            "_dom_classes": [],
            "_model_module": "@jupyter-widgets/controls",
            "_model_module_version": "1.5.0",
            "_model_name": "HBoxModel",
            "_view_count": null,
            "_view_module": "@jupyter-widgets/controls",
            "_view_module_version": "1.5.0",
            "_view_name": "HBoxView",
            "box_style": "",
            "children": [
              "IPY_MODEL_3281afbb95574e11b4d256edb55714f3",
              "IPY_MODEL_b725d0877648400584287da9eacc1c6e",
              "IPY_MODEL_0fa84bc759114dae8378891317e814fa"
            ],
            "layout": "IPY_MODEL_665551d2ea5049c098479d8b17e1eec7"
          }
        },
        "3281afbb95574e11b4d256edb55714f3": {
          "model_module": "@jupyter-widgets/controls",
          "model_name": "HTMLModel",
          "model_module_version": "1.5.0",
          "state": {
            "_dom_classes": [],
            "_model_module": "@jupyter-widgets/controls",
            "_model_module_version": "1.5.0",
            "_model_name": "HTMLModel",
            "_view_count": null,
            "_view_module": "@jupyter-widgets/controls",
            "_view_module_version": "1.5.0",
            "_view_name": "HTMLView",
            "description": "",
            "description_tooltip": null,
            "layout": "IPY_MODEL_5ffb27bc88b341afba49df2afc9272a9",
            "placeholder": "​",
            "style": "IPY_MODEL_ad514cca1f4f4fc9831430aa406917e0",
            "value": "tokenizer.json: 100%"
          }
        },
        "b725d0877648400584287da9eacc1c6e": {
          "model_module": "@jupyter-widgets/controls",
          "model_name": "FloatProgressModel",
          "model_module_version": "1.5.0",
          "state": {
            "_dom_classes": [],
            "_model_module": "@jupyter-widgets/controls",
            "_model_module_version": "1.5.0",
            "_model_name": "FloatProgressModel",
            "_view_count": null,
            "_view_module": "@jupyter-widgets/controls",
            "_view_module_version": "1.5.0",
            "_view_name": "ProgressView",
            "bar_style": "success",
            "description": "",
            "description_tooltip": null,
            "layout": "IPY_MODEL_971892825891401d8e98076fe57d8fb5",
            "max": 1355863,
            "min": 0,
            "orientation": "horizontal",
            "style": "IPY_MODEL_85984574845d46b09d570f0c307ee3ce",
            "value": 1355863
          }
        },
        "0fa84bc759114dae8378891317e814fa": {
          "model_module": "@jupyter-widgets/controls",
          "model_name": "HTMLModel",
          "model_module_version": "1.5.0",
          "state": {
            "_dom_classes": [],
            "_model_module": "@jupyter-widgets/controls",
            "_model_module_version": "1.5.0",
            "_model_name": "HTMLModel",
            "_view_count": null,
            "_view_module": "@jupyter-widgets/controls",
            "_view_module_version": "1.5.0",
            "_view_name": "HTMLView",
            "description": "",
            "description_tooltip": null,
            "layout": "IPY_MODEL_44fa03c90a924439b564d83bf9e927a4",
            "placeholder": "​",
            "style": "IPY_MODEL_3b8d73b678e246ff83feba6132ff8165",
            "value": " 1.36M/1.36M [00:00&lt;00:00, 11.3MB/s]"
          }
        },
        "665551d2ea5049c098479d8b17e1eec7": {
          "model_module": "@jupyter-widgets/base",
          "model_name": "LayoutModel",
          "model_module_version": "1.2.0",
          "state": {
            "_model_module": "@jupyter-widgets/base",
            "_model_module_version": "1.2.0",
            "_model_name": "LayoutModel",
            "_view_count": null,
            "_view_module": "@jupyter-widgets/base",
            "_view_module_version": "1.2.0",
            "_view_name": "LayoutView",
            "align_content": null,
            "align_items": null,
            "align_self": null,
            "border": null,
            "bottom": null,
            "display": null,
            "flex": null,
            "flex_flow": null,
            "grid_area": null,
            "grid_auto_columns": null,
            "grid_auto_flow": null,
            "grid_auto_rows": null,
            "grid_column": null,
            "grid_gap": null,
            "grid_row": null,
            "grid_template_areas": null,
            "grid_template_columns": null,
            "grid_template_rows": null,
            "height": null,
            "justify_content": null,
            "justify_items": null,
            "left": null,
            "margin": null,
            "max_height": null,
            "max_width": null,
            "min_height": null,
            "min_width": null,
            "object_fit": null,
            "object_position": null,
            "order": null,
            "overflow": null,
            "overflow_x": null,
            "overflow_y": null,
            "padding": null,
            "right": null,
            "top": null,
            "visibility": null,
            "width": null
          }
        },
        "5ffb27bc88b341afba49df2afc9272a9": {
          "model_module": "@jupyter-widgets/base",
          "model_name": "LayoutModel",
          "model_module_version": "1.2.0",
          "state": {
            "_model_module": "@jupyter-widgets/base",
            "_model_module_version": "1.2.0",
            "_model_name": "LayoutModel",
            "_view_count": null,
            "_view_module": "@jupyter-widgets/base",
            "_view_module_version": "1.2.0",
            "_view_name": "LayoutView",
            "align_content": null,
            "align_items": null,
            "align_self": null,
            "border": null,
            "bottom": null,
            "display": null,
            "flex": null,
            "flex_flow": null,
            "grid_area": null,
            "grid_auto_columns": null,
            "grid_auto_flow": null,
            "grid_auto_rows": null,
            "grid_column": null,
            "grid_gap": null,
            "grid_row": null,
            "grid_template_areas": null,
            "grid_template_columns": null,
            "grid_template_rows": null,
            "height": null,
            "justify_content": null,
            "justify_items": null,
            "left": null,
            "margin": null,
            "max_height": null,
            "max_width": null,
            "min_height": null,
            "min_width": null,
            "object_fit": null,
            "object_position": null,
            "order": null,
            "overflow": null,
            "overflow_x": null,
            "overflow_y": null,
            "padding": null,
            "right": null,
            "top": null,
            "visibility": null,
            "width": null
          }
        },
        "ad514cca1f4f4fc9831430aa406917e0": {
          "model_module": "@jupyter-widgets/controls",
          "model_name": "DescriptionStyleModel",
          "model_module_version": "1.5.0",
          "state": {
            "_model_module": "@jupyter-widgets/controls",
            "_model_module_version": "1.5.0",
            "_model_name": "DescriptionStyleModel",
            "_view_count": null,
            "_view_module": "@jupyter-widgets/base",
            "_view_module_version": "1.2.0",
            "_view_name": "StyleView",
            "description_width": ""
          }
        },
        "971892825891401d8e98076fe57d8fb5": {
          "model_module": "@jupyter-widgets/base",
          "model_name": "LayoutModel",
          "model_module_version": "1.2.0",
          "state": {
            "_model_module": "@jupyter-widgets/base",
            "_model_module_version": "1.2.0",
            "_model_name": "LayoutModel",
            "_view_count": null,
            "_view_module": "@jupyter-widgets/base",
            "_view_module_version": "1.2.0",
            "_view_name": "LayoutView",
            "align_content": null,
            "align_items": null,
            "align_self": null,
            "border": null,
            "bottom": null,
            "display": null,
            "flex": null,
            "flex_flow": null,
            "grid_area": null,
            "grid_auto_columns": null,
            "grid_auto_flow": null,
            "grid_auto_rows": null,
            "grid_column": null,
            "grid_gap": null,
            "grid_row": null,
            "grid_template_areas": null,
            "grid_template_columns": null,
            "grid_template_rows": null,
            "height": null,
            "justify_content": null,
            "justify_items": null,
            "left": null,
            "margin": null,
            "max_height": null,
            "max_width": null,
            "min_height": null,
            "min_width": null,
            "object_fit": null,
            "object_position": null,
            "order": null,
            "overflow": null,
            "overflow_x": null,
            "overflow_y": null,
            "padding": null,
            "right": null,
            "top": null,
            "visibility": null,
            "width": null
          }
        },
        "85984574845d46b09d570f0c307ee3ce": {
          "model_module": "@jupyter-widgets/controls",
          "model_name": "ProgressStyleModel",
          "model_module_version": "1.5.0",
          "state": {
            "_model_module": "@jupyter-widgets/controls",
            "_model_module_version": "1.5.0",
            "_model_name": "ProgressStyleModel",
            "_view_count": null,
            "_view_module": "@jupyter-widgets/base",
            "_view_module_version": "1.2.0",
            "_view_name": "StyleView",
            "bar_color": null,
            "description_width": ""
          }
        },
        "44fa03c90a924439b564d83bf9e927a4": {
          "model_module": "@jupyter-widgets/base",
          "model_name": "LayoutModel",
          "model_module_version": "1.2.0",
          "state": {
            "_model_module": "@jupyter-widgets/base",
            "_model_module_version": "1.2.0",
            "_model_name": "LayoutModel",
            "_view_count": null,
            "_view_module": "@jupyter-widgets/base",
            "_view_module_version": "1.2.0",
            "_view_name": "LayoutView",
            "align_content": null,
            "align_items": null,
            "align_self": null,
            "border": null,
            "bottom": null,
            "display": null,
            "flex": null,
            "flex_flow": null,
            "grid_area": null,
            "grid_auto_columns": null,
            "grid_auto_flow": null,
            "grid_auto_rows": null,
            "grid_column": null,
            "grid_gap": null,
            "grid_row": null,
            "grid_template_areas": null,
            "grid_template_columns": null,
            "grid_template_rows": null,
            "height": null,
            "justify_content": null,
            "justify_items": null,
            "left": null,
            "margin": null,
            "max_height": null,
            "max_width": null,
            "min_height": null,
            "min_width": null,
            "object_fit": null,
            "object_position": null,
            "order": null,
            "overflow": null,
            "overflow_x": null,
            "overflow_y": null,
            "padding": null,
            "right": null,
            "top": null,
            "visibility": null,
            "width": null
          }
        },
        "3b8d73b678e246ff83feba6132ff8165": {
          "model_module": "@jupyter-widgets/controls",
          "model_name": "DescriptionStyleModel",
          "model_module_version": "1.5.0",
          "state": {
            "_model_module": "@jupyter-widgets/controls",
            "_model_module_version": "1.5.0",
            "_model_name": "DescriptionStyleModel",
            "_view_count": null,
            "_view_module": "@jupyter-widgets/base",
            "_view_module_version": "1.2.0",
            "_view_name": "StyleView",
            "description_width": ""
          }
        },
        "e86a1d6ee17f43fc86afd365e351d707": {
          "model_module": "@jupyter-widgets/controls",
          "model_name": "HBoxModel",
          "model_module_version": "1.5.0",
          "state": {
            "_dom_classes": [],
            "_model_module": "@jupyter-widgets/controls",
            "_model_module_version": "1.5.0",
            "_model_name": "HBoxModel",
            "_view_count": null,
            "_view_module": "@jupyter-widgets/controls",
            "_view_module_version": "1.5.0",
            "_view_name": "HBoxView",
            "box_style": "",
            "children": [
              "IPY_MODEL_452399eade1240cbb99ac1ee13334e27",
              "IPY_MODEL_03d7da1fce814fdbaf4b64527c48cce1",
              "IPY_MODEL_0a7bd96f049a4fba8464cf1fe3de0803"
            ],
            "layout": "IPY_MODEL_f3bc8de060484e879fc0852776f55a9d"
          }
        },
        "452399eade1240cbb99ac1ee13334e27": {
          "model_module": "@jupyter-widgets/controls",
          "model_name": "HTMLModel",
          "model_module_version": "1.5.0",
          "state": {
            "_dom_classes": [],
            "_model_module": "@jupyter-widgets/controls",
            "_model_module_version": "1.5.0",
            "_model_name": "HTMLModel",
            "_view_count": null,
            "_view_module": "@jupyter-widgets/controls",
            "_view_module_version": "1.5.0",
            "_view_name": "HTMLView",
            "description": "",
            "description_tooltip": null,
            "layout": "IPY_MODEL_6ad5f47892e64578910e2f780b34a9ce",
            "placeholder": "​",
            "style": "IPY_MODEL_b0e68e9e3222462d9bc9cbf3d70fb88a",
            "value": "config.json: 100%"
          }
        },
        "03d7da1fce814fdbaf4b64527c48cce1": {
          "model_module": "@jupyter-widgets/controls",
          "model_name": "FloatProgressModel",
          "model_module_version": "1.5.0",
          "state": {
            "_dom_classes": [],
            "_model_module": "@jupyter-widgets/controls",
            "_model_module_version": "1.5.0",
            "_model_name": "FloatProgressModel",
            "_view_count": null,
            "_view_module": "@jupyter-widgets/controls",
            "_view_module_version": "1.5.0",
            "_view_name": "ProgressView",
            "bar_style": "success",
            "description": "",
            "description_tooltip": null,
            "layout": "IPY_MODEL_8e05d3e5f18f4f30a2a0a2a53b441f82",
            "max": 694,
            "min": 0,
            "orientation": "horizontal",
            "style": "IPY_MODEL_60b1fdd2562042e79d7c9c262f4837ac",
            "value": 694
          }
        },
        "0a7bd96f049a4fba8464cf1fe3de0803": {
          "model_module": "@jupyter-widgets/controls",
          "model_name": "HTMLModel",
          "model_module_version": "1.5.0",
          "state": {
            "_dom_classes": [],
            "_model_module": "@jupyter-widgets/controls",
            "_model_module_version": "1.5.0",
            "_model_name": "HTMLModel",
            "_view_count": null,
            "_view_module": "@jupyter-widgets/controls",
            "_view_module_version": "1.5.0",
            "_view_name": "HTMLView",
            "description": "",
            "description_tooltip": null,
            "layout": "IPY_MODEL_eaa77af357024145bf5b73f6ca049bcb",
            "placeholder": "​",
            "style": "IPY_MODEL_8f562a77bc5b4b9c85c6521409cdd6b9",
            "value": " 694/694 [00:00&lt;00:00, 87.9kB/s]"
          }
        },
        "f3bc8de060484e879fc0852776f55a9d": {
          "model_module": "@jupyter-widgets/base",
          "model_name": "LayoutModel",
          "model_module_version": "1.2.0",
          "state": {
            "_model_module": "@jupyter-widgets/base",
            "_model_module_version": "1.2.0",
            "_model_name": "LayoutModel",
            "_view_count": null,
            "_view_module": "@jupyter-widgets/base",
            "_view_module_version": "1.2.0",
            "_view_name": "LayoutView",
            "align_content": null,
            "align_items": null,
            "align_self": null,
            "border": null,
            "bottom": null,
            "display": null,
            "flex": null,
            "flex_flow": null,
            "grid_area": null,
            "grid_auto_columns": null,
            "grid_auto_flow": null,
            "grid_auto_rows": null,
            "grid_column": null,
            "grid_gap": null,
            "grid_row": null,
            "grid_template_areas": null,
            "grid_template_columns": null,
            "grid_template_rows": null,
            "height": null,
            "justify_content": null,
            "justify_items": null,
            "left": null,
            "margin": null,
            "max_height": null,
            "max_width": null,
            "min_height": null,
            "min_width": null,
            "object_fit": null,
            "object_position": null,
            "order": null,
            "overflow": null,
            "overflow_x": null,
            "overflow_y": null,
            "padding": null,
            "right": null,
            "top": null,
            "visibility": null,
            "width": null
          }
        },
        "6ad5f47892e64578910e2f780b34a9ce": {
          "model_module": "@jupyter-widgets/base",
          "model_name": "LayoutModel",
          "model_module_version": "1.2.0",
          "state": {
            "_model_module": "@jupyter-widgets/base",
            "_model_module_version": "1.2.0",
            "_model_name": "LayoutModel",
            "_view_count": null,
            "_view_module": "@jupyter-widgets/base",
            "_view_module_version": "1.2.0",
            "_view_name": "LayoutView",
            "align_content": null,
            "align_items": null,
            "align_self": null,
            "border": null,
            "bottom": null,
            "display": null,
            "flex": null,
            "flex_flow": null,
            "grid_area": null,
            "grid_auto_columns": null,
            "grid_auto_flow": null,
            "grid_auto_rows": null,
            "grid_column": null,
            "grid_gap": null,
            "grid_row": null,
            "grid_template_areas": null,
            "grid_template_columns": null,
            "grid_template_rows": null,
            "height": null,
            "justify_content": null,
            "justify_items": null,
            "left": null,
            "margin": null,
            "max_height": null,
            "max_width": null,
            "min_height": null,
            "min_width": null,
            "object_fit": null,
            "object_position": null,
            "order": null,
            "overflow": null,
            "overflow_x": null,
            "overflow_y": null,
            "padding": null,
            "right": null,
            "top": null,
            "visibility": null,
            "width": null
          }
        },
        "b0e68e9e3222462d9bc9cbf3d70fb88a": {
          "model_module": "@jupyter-widgets/controls",
          "model_name": "DescriptionStyleModel",
          "model_module_version": "1.5.0",
          "state": {
            "_model_module": "@jupyter-widgets/controls",
            "_model_module_version": "1.5.0",
            "_model_name": "DescriptionStyleModel",
            "_view_count": null,
            "_view_module": "@jupyter-widgets/base",
            "_view_module_version": "1.2.0",
            "_view_name": "StyleView",
            "description_width": ""
          }
        },
        "8e05d3e5f18f4f30a2a0a2a53b441f82": {
          "model_module": "@jupyter-widgets/base",
          "model_name": "LayoutModel",
          "model_module_version": "1.2.0",
          "state": {
            "_model_module": "@jupyter-widgets/base",
            "_model_module_version": "1.2.0",
            "_model_name": "LayoutModel",
            "_view_count": null,
            "_view_module": "@jupyter-widgets/base",
            "_view_module_version": "1.2.0",
            "_view_name": "LayoutView",
            "align_content": null,
            "align_items": null,
            "align_self": null,
            "border": null,
            "bottom": null,
            "display": null,
            "flex": null,
            "flex_flow": null,
            "grid_area": null,
            "grid_auto_columns": null,
            "grid_auto_flow": null,
            "grid_auto_rows": null,
            "grid_column": null,
            "grid_gap": null,
            "grid_row": null,
            "grid_template_areas": null,
            "grid_template_columns": null,
            "grid_template_rows": null,
            "height": null,
            "justify_content": null,
            "justify_items": null,
            "left": null,
            "margin": null,
            "max_height": null,
            "max_width": null,
            "min_height": null,
            "min_width": null,
            "object_fit": null,
            "object_position": null,
            "order": null,
            "overflow": null,
            "overflow_x": null,
            "overflow_y": null,
            "padding": null,
            "right": null,
            "top": null,
            "visibility": null,
            "width": null
          }
        },
        "60b1fdd2562042e79d7c9c262f4837ac": {
          "model_module": "@jupyter-widgets/controls",
          "model_name": "ProgressStyleModel",
          "model_module_version": "1.5.0",
          "state": {
            "_model_module": "@jupyter-widgets/controls",
            "_model_module_version": "1.5.0",
            "_model_name": "ProgressStyleModel",
            "_view_count": null,
            "_view_module": "@jupyter-widgets/base",
            "_view_module_version": "1.2.0",
            "_view_name": "StyleView",
            "bar_color": null,
            "description_width": ""
          }
        },
        "eaa77af357024145bf5b73f6ca049bcb": {
          "model_module": "@jupyter-widgets/base",
          "model_name": "LayoutModel",
          "model_module_version": "1.2.0",
          "state": {
            "_model_module": "@jupyter-widgets/base",
            "_model_module_version": "1.2.0",
            "_model_name": "LayoutModel",
            "_view_count": null,
            "_view_module": "@jupyter-widgets/base",
            "_view_module_version": "1.2.0",
            "_view_name": "LayoutView",
            "align_content": null,
            "align_items": null,
            "align_self": null,
            "border": null,
            "bottom": null,
            "display": null,
            "flex": null,
            "flex_flow": null,
            "grid_area": null,
            "grid_auto_columns": null,
            "grid_auto_flow": null,
            "grid_auto_rows": null,
            "grid_column": null,
            "grid_gap": null,
            "grid_row": null,
            "grid_template_areas": null,
            "grid_template_columns": null,
            "grid_template_rows": null,
            "height": null,
            "justify_content": null,
            "justify_items": null,
            "left": null,
            "margin": null,
            "max_height": null,
            "max_width": null,
            "min_height": null,
            "min_width": null,
            "object_fit": null,
            "object_position": null,
            "order": null,
            "overflow": null,
            "overflow_x": null,
            "overflow_y": null,
            "padding": null,
            "right": null,
            "top": null,
            "visibility": null,
            "width": null
          }
        },
        "8f562a77bc5b4b9c85c6521409cdd6b9": {
          "model_module": "@jupyter-widgets/controls",
          "model_name": "DescriptionStyleModel",
          "model_module_version": "1.5.0",
          "state": {
            "_model_module": "@jupyter-widgets/controls",
            "_model_module_version": "1.5.0",
            "_model_name": "DescriptionStyleModel",
            "_view_count": null,
            "_view_module": "@jupyter-widgets/base",
            "_view_module_version": "1.2.0",
            "_view_name": "StyleView",
            "description_width": ""
          }
        },
        "cfab9eb0de9a4ec5988badcf0bc39cbc": {
          "model_module": "@jupyter-widgets/controls",
          "model_name": "HBoxModel",
          "model_module_version": "1.5.0",
          "state": {
            "_dom_classes": [],
            "_model_module": "@jupyter-widgets/controls",
            "_model_module_version": "1.5.0",
            "_model_name": "HBoxModel",
            "_view_count": null,
            "_view_module": "@jupyter-widgets/controls",
            "_view_module_version": "1.5.0",
            "_view_name": "HBoxView",
            "box_style": "",
            "children": [
              "IPY_MODEL_a574199cd038468b9ae4f40c29798d90",
              "IPY_MODEL_acf3f02c45364be2bd615750c51289ac",
              "IPY_MODEL_a756214e8625427d97be7b52c06d1aa4"
            ],
            "layout": "IPY_MODEL_bdd70b80c8524229819ba2074786bcdc"
          }
        },
        "a574199cd038468b9ae4f40c29798d90": {
          "model_module": "@jupyter-widgets/controls",
          "model_name": "HTMLModel",
          "model_module_version": "1.5.0",
          "state": {
            "_dom_classes": [],
            "_model_module": "@jupyter-widgets/controls",
            "_model_module_version": "1.5.0",
            "_model_name": "HTMLModel",
            "_view_count": null,
            "_view_module": "@jupyter-widgets/controls",
            "_view_module_version": "1.5.0",
            "_view_name": "HTMLView",
            "description": "",
            "description_tooltip": null,
            "layout": "IPY_MODEL_04c7d7665cd04f52b7dbfa4a46c775d8",
            "placeholder": "​",
            "style": "IPY_MODEL_bc3458b8d0f74a59ba668f1a0b3b2720",
            "value": "Map: 100%"
          }
        },
        "acf3f02c45364be2bd615750c51289ac": {
          "model_module": "@jupyter-widgets/controls",
          "model_name": "FloatProgressModel",
          "model_module_version": "1.5.0",
          "state": {
            "_dom_classes": [],
            "_model_module": "@jupyter-widgets/controls",
            "_model_module_version": "1.5.0",
            "_model_name": "FloatProgressModel",
            "_view_count": null,
            "_view_module": "@jupyter-widgets/controls",
            "_view_module_version": "1.5.0",
            "_view_name": "ProgressView",
            "bar_style": "success",
            "description": "",
            "description_tooltip": null,
            "layout": "IPY_MODEL_aad8933353254c2ebd030d2a47841581",
            "max": 2011,
            "min": 0,
            "orientation": "horizontal",
            "style": "IPY_MODEL_806af57a47f547f6952ad62c786f6695",
            "value": 2011
          }
        },
        "a756214e8625427d97be7b52c06d1aa4": {
          "model_module": "@jupyter-widgets/controls",
          "model_name": "HTMLModel",
          "model_module_version": "1.5.0",
          "state": {
            "_dom_classes": [],
            "_model_module": "@jupyter-widgets/controls",
            "_model_module_version": "1.5.0",
            "_model_name": "HTMLModel",
            "_view_count": null,
            "_view_module": "@jupyter-widgets/controls",
            "_view_module_version": "1.5.0",
            "_view_name": "HTMLView",
            "description": "",
            "description_tooltip": null,
            "layout": "IPY_MODEL_1baaa40f26e6468585cc06bd1b78d99e",
            "placeholder": "​",
            "style": "IPY_MODEL_63bff718b975494ba3b6f6a07f1299d1",
            "value": " 2011/2011 [00:00&lt;00:00, 2701.32 examples/s]"
          }
        },
        "bdd70b80c8524229819ba2074786bcdc": {
          "model_module": "@jupyter-widgets/base",
          "model_name": "LayoutModel",
          "model_module_version": "1.2.0",
          "state": {
            "_model_module": "@jupyter-widgets/base",
            "_model_module_version": "1.2.0",
            "_model_name": "LayoutModel",
            "_view_count": null,
            "_view_module": "@jupyter-widgets/base",
            "_view_module_version": "1.2.0",
            "_view_name": "LayoutView",
            "align_content": null,
            "align_items": null,
            "align_self": null,
            "border": null,
            "bottom": null,
            "display": null,
            "flex": null,
            "flex_flow": null,
            "grid_area": null,
            "grid_auto_columns": null,
            "grid_auto_flow": null,
            "grid_auto_rows": null,
            "grid_column": null,
            "grid_gap": null,
            "grid_row": null,
            "grid_template_areas": null,
            "grid_template_columns": null,
            "grid_template_rows": null,
            "height": null,
            "justify_content": null,
            "justify_items": null,
            "left": null,
            "margin": null,
            "max_height": null,
            "max_width": null,
            "min_height": null,
            "min_width": null,
            "object_fit": null,
            "object_position": null,
            "order": null,
            "overflow": null,
            "overflow_x": null,
            "overflow_y": null,
            "padding": null,
            "right": null,
            "top": null,
            "visibility": null,
            "width": null
          }
        },
        "04c7d7665cd04f52b7dbfa4a46c775d8": {
          "model_module": "@jupyter-widgets/base",
          "model_name": "LayoutModel",
          "model_module_version": "1.2.0",
          "state": {
            "_model_module": "@jupyter-widgets/base",
            "_model_module_version": "1.2.0",
            "_model_name": "LayoutModel",
            "_view_count": null,
            "_view_module": "@jupyter-widgets/base",
            "_view_module_version": "1.2.0",
            "_view_name": "LayoutView",
            "align_content": null,
            "align_items": null,
            "align_self": null,
            "border": null,
            "bottom": null,
            "display": null,
            "flex": null,
            "flex_flow": null,
            "grid_area": null,
            "grid_auto_columns": null,
            "grid_auto_flow": null,
            "grid_auto_rows": null,
            "grid_column": null,
            "grid_gap": null,
            "grid_row": null,
            "grid_template_areas": null,
            "grid_template_columns": null,
            "grid_template_rows": null,
            "height": null,
            "justify_content": null,
            "justify_items": null,
            "left": null,
            "margin": null,
            "max_height": null,
            "max_width": null,
            "min_height": null,
            "min_width": null,
            "object_fit": null,
            "object_position": null,
            "order": null,
            "overflow": null,
            "overflow_x": null,
            "overflow_y": null,
            "padding": null,
            "right": null,
            "top": null,
            "visibility": null,
            "width": null
          }
        },
        "bc3458b8d0f74a59ba668f1a0b3b2720": {
          "model_module": "@jupyter-widgets/controls",
          "model_name": "DescriptionStyleModel",
          "model_module_version": "1.5.0",
          "state": {
            "_model_module": "@jupyter-widgets/controls",
            "_model_module_version": "1.5.0",
            "_model_name": "DescriptionStyleModel",
            "_view_count": null,
            "_view_module": "@jupyter-widgets/base",
            "_view_module_version": "1.2.0",
            "_view_name": "StyleView",
            "description_width": ""
          }
        },
        "aad8933353254c2ebd030d2a47841581": {
          "model_module": "@jupyter-widgets/base",
          "model_name": "LayoutModel",
          "model_module_version": "1.2.0",
          "state": {
            "_model_module": "@jupyter-widgets/base",
            "_model_module_version": "1.2.0",
            "_model_name": "LayoutModel",
            "_view_count": null,
            "_view_module": "@jupyter-widgets/base",
            "_view_module_version": "1.2.0",
            "_view_name": "LayoutView",
            "align_content": null,
            "align_items": null,
            "align_self": null,
            "border": null,
            "bottom": null,
            "display": null,
            "flex": null,
            "flex_flow": null,
            "grid_area": null,
            "grid_auto_columns": null,
            "grid_auto_flow": null,
            "grid_auto_rows": null,
            "grid_column": null,
            "grid_gap": null,
            "grid_row": null,
            "grid_template_areas": null,
            "grid_template_columns": null,
            "grid_template_rows": null,
            "height": null,
            "justify_content": null,
            "justify_items": null,
            "left": null,
            "margin": null,
            "max_height": null,
            "max_width": null,
            "min_height": null,
            "min_width": null,
            "object_fit": null,
            "object_position": null,
            "order": null,
            "overflow": null,
            "overflow_x": null,
            "overflow_y": null,
            "padding": null,
            "right": null,
            "top": null,
            "visibility": null,
            "width": null
          }
        },
        "806af57a47f547f6952ad62c786f6695": {
          "model_module": "@jupyter-widgets/controls",
          "model_name": "ProgressStyleModel",
          "model_module_version": "1.5.0",
          "state": {
            "_model_module": "@jupyter-widgets/controls",
            "_model_module_version": "1.5.0",
            "_model_name": "ProgressStyleModel",
            "_view_count": null,
            "_view_module": "@jupyter-widgets/base",
            "_view_module_version": "1.2.0",
            "_view_name": "StyleView",
            "bar_color": null,
            "description_width": ""
          }
        },
        "1baaa40f26e6468585cc06bd1b78d99e": {
          "model_module": "@jupyter-widgets/base",
          "model_name": "LayoutModel",
          "model_module_version": "1.2.0",
          "state": {
            "_model_module": "@jupyter-widgets/base",
            "_model_module_version": "1.2.0",
            "_model_name": "LayoutModel",
            "_view_count": null,
            "_view_module": "@jupyter-widgets/base",
            "_view_module_version": "1.2.0",
            "_view_name": "LayoutView",
            "align_content": null,
            "align_items": null,
            "align_self": null,
            "border": null,
            "bottom": null,
            "display": null,
            "flex": null,
            "flex_flow": null,
            "grid_area": null,
            "grid_auto_columns": null,
            "grid_auto_flow": null,
            "grid_auto_rows": null,
            "grid_column": null,
            "grid_gap": null,
            "grid_row": null,
            "grid_template_areas": null,
            "grid_template_columns": null,
            "grid_template_rows": null,
            "height": null,
            "justify_content": null,
            "justify_items": null,
            "left": null,
            "margin": null,
            "max_height": null,
            "max_width": null,
            "min_height": null,
            "min_width": null,
            "object_fit": null,
            "object_position": null,
            "order": null,
            "overflow": null,
            "overflow_x": null,
            "overflow_y": null,
            "padding": null,
            "right": null,
            "top": null,
            "visibility": null,
            "width": null
          }
        },
        "63bff718b975494ba3b6f6a07f1299d1": {
          "model_module": "@jupyter-widgets/controls",
          "model_name": "DescriptionStyleModel",
          "model_module_version": "1.5.0",
          "state": {
            "_model_module": "@jupyter-widgets/controls",
            "_model_module_version": "1.5.0",
            "_model_name": "DescriptionStyleModel",
            "_view_count": null,
            "_view_module": "@jupyter-widgets/base",
            "_view_module_version": "1.2.0",
            "_view_name": "StyleView",
            "description_width": ""
          }
        },
        "f94772e52cf74b859c7257511b5c934b": {
          "model_module": "@jupyter-widgets/controls",
          "model_name": "HBoxModel",
          "model_module_version": "1.5.0",
          "state": {
            "_dom_classes": [],
            "_model_module": "@jupyter-widgets/controls",
            "_model_module_version": "1.5.0",
            "_model_name": "HBoxModel",
            "_view_count": null,
            "_view_module": "@jupyter-widgets/controls",
            "_view_module_version": "1.5.0",
            "_view_name": "HBoxView",
            "box_style": "",
            "children": [
              "IPY_MODEL_ab846ef2000b47f9a61b55035f119dc3",
              "IPY_MODEL_07d32961ba5944bc881b18d7896ee99f",
              "IPY_MODEL_ae8358c59f7f4adfadd16afdfe838894"
            ],
            "layout": "IPY_MODEL_a0a1a9266866465abbfd67e9f2a26d67"
          }
        },
        "ab846ef2000b47f9a61b55035f119dc3": {
          "model_module": "@jupyter-widgets/controls",
          "model_name": "HTMLModel",
          "model_module_version": "1.5.0",
          "state": {
            "_dom_classes": [],
            "_model_module": "@jupyter-widgets/controls",
            "_model_module_version": "1.5.0",
            "_model_name": "HTMLModel",
            "_view_count": null,
            "_view_module": "@jupyter-widgets/controls",
            "_view_module_version": "1.5.0",
            "_view_name": "HTMLView",
            "description": "",
            "description_tooltip": null,
            "layout": "IPY_MODEL_4ef580ad14d4483bb2a07686f0a6c26b",
            "placeholder": "​",
            "style": "IPY_MODEL_ebd3d98100a645429c4c6ef0f1f3038a",
            "value": "Map: 100%"
          }
        },
        "07d32961ba5944bc881b18d7896ee99f": {
          "model_module": "@jupyter-widgets/controls",
          "model_name": "FloatProgressModel",
          "model_module_version": "1.5.0",
          "state": {
            "_dom_classes": [],
            "_model_module": "@jupyter-widgets/controls",
            "_model_module_version": "1.5.0",
            "_model_name": "FloatProgressModel",
            "_view_count": null,
            "_view_module": "@jupyter-widgets/controls",
            "_view_module_version": "1.5.0",
            "_view_name": "ProgressView",
            "bar_style": "success",
            "description": "",
            "description_tooltip": null,
            "layout": "IPY_MODEL_a0c70d35dd64485d8e979298fdaf6b2d",
            "max": 1,
            "min": 0,
            "orientation": "horizontal",
            "style": "IPY_MODEL_4f83741bb2c4499399fe9604e5c65bd8",
            "value": 1
          }
        },
        "ae8358c59f7f4adfadd16afdfe838894": {
          "model_module": "@jupyter-widgets/controls",
          "model_name": "HTMLModel",
          "model_module_version": "1.5.0",
          "state": {
            "_dom_classes": [],
            "_model_module": "@jupyter-widgets/controls",
            "_model_module_version": "1.5.0",
            "_model_name": "HTMLModel",
            "_view_count": null,
            "_view_module": "@jupyter-widgets/controls",
            "_view_module_version": "1.5.0",
            "_view_name": "HTMLView",
            "description": "",
            "description_tooltip": null,
            "layout": "IPY_MODEL_93f1f52255bd4f83a03c77369b6093c3",
            "placeholder": "​",
            "style": "IPY_MODEL_d9eada8b0d994b1f9bdea790803e6679",
            "value": " 1/1 [00:00&lt;00:00, 67.46 examples/s]"
          }
        },
        "a0a1a9266866465abbfd67e9f2a26d67": {
          "model_module": "@jupyter-widgets/base",
          "model_name": "LayoutModel",
          "model_module_version": "1.2.0",
          "state": {
            "_model_module": "@jupyter-widgets/base",
            "_model_module_version": "1.2.0",
            "_model_name": "LayoutModel",
            "_view_count": null,
            "_view_module": "@jupyter-widgets/base",
            "_view_module_version": "1.2.0",
            "_view_name": "LayoutView",
            "align_content": null,
            "align_items": null,
            "align_self": null,
            "border": null,
            "bottom": null,
            "display": null,
            "flex": null,
            "flex_flow": null,
            "grid_area": null,
            "grid_auto_columns": null,
            "grid_auto_flow": null,
            "grid_auto_rows": null,
            "grid_column": null,
            "grid_gap": null,
            "grid_row": null,
            "grid_template_areas": null,
            "grid_template_columns": null,
            "grid_template_rows": null,
            "height": null,
            "justify_content": null,
            "justify_items": null,
            "left": null,
            "margin": null,
            "max_height": null,
            "max_width": null,
            "min_height": null,
            "min_width": null,
            "object_fit": null,
            "object_position": null,
            "order": null,
            "overflow": null,
            "overflow_x": null,
            "overflow_y": null,
            "padding": null,
            "right": null,
            "top": null,
            "visibility": null,
            "width": null
          }
        },
        "4ef580ad14d4483bb2a07686f0a6c26b": {
          "model_module": "@jupyter-widgets/base",
          "model_name": "LayoutModel",
          "model_module_version": "1.2.0",
          "state": {
            "_model_module": "@jupyter-widgets/base",
            "_model_module_version": "1.2.0",
            "_model_name": "LayoutModel",
            "_view_count": null,
            "_view_module": "@jupyter-widgets/base",
            "_view_module_version": "1.2.0",
            "_view_name": "LayoutView",
            "align_content": null,
            "align_items": null,
            "align_self": null,
            "border": null,
            "bottom": null,
            "display": null,
            "flex": null,
            "flex_flow": null,
            "grid_area": null,
            "grid_auto_columns": null,
            "grid_auto_flow": null,
            "grid_auto_rows": null,
            "grid_column": null,
            "grid_gap": null,
            "grid_row": null,
            "grid_template_areas": null,
            "grid_template_columns": null,
            "grid_template_rows": null,
            "height": null,
            "justify_content": null,
            "justify_items": null,
            "left": null,
            "margin": null,
            "max_height": null,
            "max_width": null,
            "min_height": null,
            "min_width": null,
            "object_fit": null,
            "object_position": null,
            "order": null,
            "overflow": null,
            "overflow_x": null,
            "overflow_y": null,
            "padding": null,
            "right": null,
            "top": null,
            "visibility": null,
            "width": null
          }
        },
        "ebd3d98100a645429c4c6ef0f1f3038a": {
          "model_module": "@jupyter-widgets/controls",
          "model_name": "DescriptionStyleModel",
          "model_module_version": "1.5.0",
          "state": {
            "_model_module": "@jupyter-widgets/controls",
            "_model_module_version": "1.5.0",
            "_model_name": "DescriptionStyleModel",
            "_view_count": null,
            "_view_module": "@jupyter-widgets/base",
            "_view_module_version": "1.2.0",
            "_view_name": "StyleView",
            "description_width": ""
          }
        },
        "a0c70d35dd64485d8e979298fdaf6b2d": {
          "model_module": "@jupyter-widgets/base",
          "model_name": "LayoutModel",
          "model_module_version": "1.2.0",
          "state": {
            "_model_module": "@jupyter-widgets/base",
            "_model_module_version": "1.2.0",
            "_model_name": "LayoutModel",
            "_view_count": null,
            "_view_module": "@jupyter-widgets/base",
            "_view_module_version": "1.2.0",
            "_view_name": "LayoutView",
            "align_content": null,
            "align_items": null,
            "align_self": null,
            "border": null,
            "bottom": null,
            "display": null,
            "flex": null,
            "flex_flow": null,
            "grid_area": null,
            "grid_auto_columns": null,
            "grid_auto_flow": null,
            "grid_auto_rows": null,
            "grid_column": null,
            "grid_gap": null,
            "grid_row": null,
            "grid_template_areas": null,
            "grid_template_columns": null,
            "grid_template_rows": null,
            "height": null,
            "justify_content": null,
            "justify_items": null,
            "left": null,
            "margin": null,
            "max_height": null,
            "max_width": null,
            "min_height": null,
            "min_width": null,
            "object_fit": null,
            "object_position": null,
            "order": null,
            "overflow": null,
            "overflow_x": null,
            "overflow_y": null,
            "padding": null,
            "right": null,
            "top": null,
            "visibility": null,
            "width": null
          }
        },
        "4f83741bb2c4499399fe9604e5c65bd8": {
          "model_module": "@jupyter-widgets/controls",
          "model_name": "ProgressStyleModel",
          "model_module_version": "1.5.0",
          "state": {
            "_model_module": "@jupyter-widgets/controls",
            "_model_module_version": "1.5.0",
            "_model_name": "ProgressStyleModel",
            "_view_count": null,
            "_view_module": "@jupyter-widgets/base",
            "_view_module_version": "1.2.0",
            "_view_name": "StyleView",
            "bar_color": null,
            "description_width": ""
          }
        },
        "93f1f52255bd4f83a03c77369b6093c3": {
          "model_module": "@jupyter-widgets/base",
          "model_name": "LayoutModel",
          "model_module_version": "1.2.0",
          "state": {
            "_model_module": "@jupyter-widgets/base",
            "_model_module_version": "1.2.0",
            "_model_name": "LayoutModel",
            "_view_count": null,
            "_view_module": "@jupyter-widgets/base",
            "_view_module_version": "1.2.0",
            "_view_name": "LayoutView",
            "align_content": null,
            "align_items": null,
            "align_self": null,
            "border": null,
            "bottom": null,
            "display": null,
            "flex": null,
            "flex_flow": null,
            "grid_area": null,
            "grid_auto_columns": null,
            "grid_auto_flow": null,
            "grid_auto_rows": null,
            "grid_column": null,
            "grid_gap": null,
            "grid_row": null,
            "grid_template_areas": null,
            "grid_template_columns": null,
            "grid_template_rows": null,
            "height": null,
            "justify_content": null,
            "justify_items": null,
            "left": null,
            "margin": null,
            "max_height": null,
            "max_width": null,
            "min_height": null,
            "min_width": null,
            "object_fit": null,
            "object_position": null,
            "order": null,
            "overflow": null,
            "overflow_x": null,
            "overflow_y": null,
            "padding": null,
            "right": null,
            "top": null,
            "visibility": null,
            "width": null
          }
        },
        "d9eada8b0d994b1f9bdea790803e6679": {
          "model_module": "@jupyter-widgets/controls",
          "model_name": "DescriptionStyleModel",
          "model_module_version": "1.5.0",
          "state": {
            "_model_module": "@jupyter-widgets/controls",
            "_model_module_version": "1.5.0",
            "_model_name": "DescriptionStyleModel",
            "_view_count": null,
            "_view_module": "@jupyter-widgets/base",
            "_view_module_version": "1.2.0",
            "_view_name": "StyleView",
            "description_width": ""
          }
        },
        "a5b6432dfbcf41488ab14fc582c8f631": {
          "model_module": "@jupyter-widgets/controls",
          "model_name": "HBoxModel",
          "model_module_version": "1.5.0",
          "state": {
            "_dom_classes": [],
            "_model_module": "@jupyter-widgets/controls",
            "_model_module_version": "1.5.0",
            "_model_name": "HBoxModel",
            "_view_count": null,
            "_view_module": "@jupyter-widgets/controls",
            "_view_module_version": "1.5.0",
            "_view_name": "HBoxView",
            "box_style": "",
            "children": [
              "IPY_MODEL_a4842cbef16b42a4b4fede33db12f8d3",
              "IPY_MODEL_326742b9037e4d2880321f046ff95836",
              "IPY_MODEL_c265986b8841445cbaf66f87768441b0"
            ],
            "layout": "IPY_MODEL_992542b5311543219420623477fa2743"
          }
        },
        "a4842cbef16b42a4b4fede33db12f8d3": {
          "model_module": "@jupyter-widgets/controls",
          "model_name": "HTMLModel",
          "model_module_version": "1.5.0",
          "state": {
            "_dom_classes": [],
            "_model_module": "@jupyter-widgets/controls",
            "_model_module_version": "1.5.0",
            "_model_name": "HTMLModel",
            "_view_count": null,
            "_view_module": "@jupyter-widgets/controls",
            "_view_module_version": "1.5.0",
            "_view_name": "HTMLView",
            "description": "",
            "description_tooltip": null,
            "layout": "IPY_MODEL_75361039839f499a82d5b7bf81f6701f",
            "placeholder": "​",
            "style": "IPY_MODEL_38fe2f74db464ce28bc351d819c1ee7e",
            "value": "Map: 100%"
          }
        },
        "326742b9037e4d2880321f046ff95836": {
          "model_module": "@jupyter-widgets/controls",
          "model_name": "FloatProgressModel",
          "model_module_version": "1.5.0",
          "state": {
            "_dom_classes": [],
            "_model_module": "@jupyter-widgets/controls",
            "_model_module_version": "1.5.0",
            "_model_name": "FloatProgressModel",
            "_view_count": null,
            "_view_module": "@jupyter-widgets/controls",
            "_view_module_version": "1.5.0",
            "_view_name": "ProgressView",
            "bar_style": "success",
            "description": "",
            "description_tooltip": null,
            "layout": "IPY_MODEL_b8bc2b166bb242c6b12e64ab37ac3b86",
            "max": 1,
            "min": 0,
            "orientation": "horizontal",
            "style": "IPY_MODEL_6c37d118d3bb42f8a7625b1aaf0188ba",
            "value": 1
          }
        },
        "c265986b8841445cbaf66f87768441b0": {
          "model_module": "@jupyter-widgets/controls",
          "model_name": "HTMLModel",
          "model_module_version": "1.5.0",
          "state": {
            "_dom_classes": [],
            "_model_module": "@jupyter-widgets/controls",
            "_model_module_version": "1.5.0",
            "_model_name": "HTMLModel",
            "_view_count": null,
            "_view_module": "@jupyter-widgets/controls",
            "_view_module_version": "1.5.0",
            "_view_name": "HTMLView",
            "description": "",
            "description_tooltip": null,
            "layout": "IPY_MODEL_533cd6f3c28042d0b6665c2b4b232ff9",
            "placeholder": "​",
            "style": "IPY_MODEL_222dce4e70b44cacad850d15ef20d2b3",
            "value": " 1/1 [00:00&lt;00:00, 26.75 examples/s]"
          }
        },
        "992542b5311543219420623477fa2743": {
          "model_module": "@jupyter-widgets/base",
          "model_name": "LayoutModel",
          "model_module_version": "1.2.0",
          "state": {
            "_model_module": "@jupyter-widgets/base",
            "_model_module_version": "1.2.0",
            "_model_name": "LayoutModel",
            "_view_count": null,
            "_view_module": "@jupyter-widgets/base",
            "_view_module_version": "1.2.0",
            "_view_name": "LayoutView",
            "align_content": null,
            "align_items": null,
            "align_self": null,
            "border": null,
            "bottom": null,
            "display": null,
            "flex": null,
            "flex_flow": null,
            "grid_area": null,
            "grid_auto_columns": null,
            "grid_auto_flow": null,
            "grid_auto_rows": null,
            "grid_column": null,
            "grid_gap": null,
            "grid_row": null,
            "grid_template_areas": null,
            "grid_template_columns": null,
            "grid_template_rows": null,
            "height": null,
            "justify_content": null,
            "justify_items": null,
            "left": null,
            "margin": null,
            "max_height": null,
            "max_width": null,
            "min_height": null,
            "min_width": null,
            "object_fit": null,
            "object_position": null,
            "order": null,
            "overflow": null,
            "overflow_x": null,
            "overflow_y": null,
            "padding": null,
            "right": null,
            "top": null,
            "visibility": null,
            "width": null
          }
        },
        "75361039839f499a82d5b7bf81f6701f": {
          "model_module": "@jupyter-widgets/base",
          "model_name": "LayoutModel",
          "model_module_version": "1.2.0",
          "state": {
            "_model_module": "@jupyter-widgets/base",
            "_model_module_version": "1.2.0",
            "_model_name": "LayoutModel",
            "_view_count": null,
            "_view_module": "@jupyter-widgets/base",
            "_view_module_version": "1.2.0",
            "_view_name": "LayoutView",
            "align_content": null,
            "align_items": null,
            "align_self": null,
            "border": null,
            "bottom": null,
            "display": null,
            "flex": null,
            "flex_flow": null,
            "grid_area": null,
            "grid_auto_columns": null,
            "grid_auto_flow": null,
            "grid_auto_rows": null,
            "grid_column": null,
            "grid_gap": null,
            "grid_row": null,
            "grid_template_areas": null,
            "grid_template_columns": null,
            "grid_template_rows": null,
            "height": null,
            "justify_content": null,
            "justify_items": null,
            "left": null,
            "margin": null,
            "max_height": null,
            "max_width": null,
            "min_height": null,
            "min_width": null,
            "object_fit": null,
            "object_position": null,
            "order": null,
            "overflow": null,
            "overflow_x": null,
            "overflow_y": null,
            "padding": null,
            "right": null,
            "top": null,
            "visibility": null,
            "width": null
          }
        },
        "38fe2f74db464ce28bc351d819c1ee7e": {
          "model_module": "@jupyter-widgets/controls",
          "model_name": "DescriptionStyleModel",
          "model_module_version": "1.5.0",
          "state": {
            "_model_module": "@jupyter-widgets/controls",
            "_model_module_version": "1.5.0",
            "_model_name": "DescriptionStyleModel",
            "_view_count": null,
            "_view_module": "@jupyter-widgets/base",
            "_view_module_version": "1.2.0",
            "_view_name": "StyleView",
            "description_width": ""
          }
        },
        "b8bc2b166bb242c6b12e64ab37ac3b86": {
          "model_module": "@jupyter-widgets/base",
          "model_name": "LayoutModel",
          "model_module_version": "1.2.0",
          "state": {
            "_model_module": "@jupyter-widgets/base",
            "_model_module_version": "1.2.0",
            "_model_name": "LayoutModel",
            "_view_count": null,
            "_view_module": "@jupyter-widgets/base",
            "_view_module_version": "1.2.0",
            "_view_name": "LayoutView",
            "align_content": null,
            "align_items": null,
            "align_self": null,
            "border": null,
            "bottom": null,
            "display": null,
            "flex": null,
            "flex_flow": null,
            "grid_area": null,
            "grid_auto_columns": null,
            "grid_auto_flow": null,
            "grid_auto_rows": null,
            "grid_column": null,
            "grid_gap": null,
            "grid_row": null,
            "grid_template_areas": null,
            "grid_template_columns": null,
            "grid_template_rows": null,
            "height": null,
            "justify_content": null,
            "justify_items": null,
            "left": null,
            "margin": null,
            "max_height": null,
            "max_width": null,
            "min_height": null,
            "min_width": null,
            "object_fit": null,
            "object_position": null,
            "order": null,
            "overflow": null,
            "overflow_x": null,
            "overflow_y": null,
            "padding": null,
            "right": null,
            "top": null,
            "visibility": null,
            "width": null
          }
        },
        "6c37d118d3bb42f8a7625b1aaf0188ba": {
          "model_module": "@jupyter-widgets/controls",
          "model_name": "ProgressStyleModel",
          "model_module_version": "1.5.0",
          "state": {
            "_model_module": "@jupyter-widgets/controls",
            "_model_module_version": "1.5.0",
            "_model_name": "ProgressStyleModel",
            "_view_count": null,
            "_view_module": "@jupyter-widgets/base",
            "_view_module_version": "1.2.0",
            "_view_name": "StyleView",
            "bar_color": null,
            "description_width": ""
          }
        },
        "533cd6f3c28042d0b6665c2b4b232ff9": {
          "model_module": "@jupyter-widgets/base",
          "model_name": "LayoutModel",
          "model_module_version": "1.2.0",
          "state": {
            "_model_module": "@jupyter-widgets/base",
            "_model_module_version": "1.2.0",
            "_model_name": "LayoutModel",
            "_view_count": null,
            "_view_module": "@jupyter-widgets/base",
            "_view_module_version": "1.2.0",
            "_view_name": "LayoutView",
            "align_content": null,
            "align_items": null,
            "align_self": null,
            "border": null,
            "bottom": null,
            "display": null,
            "flex": null,
            "flex_flow": null,
            "grid_area": null,
            "grid_auto_columns": null,
            "grid_auto_flow": null,
            "grid_auto_rows": null,
            "grid_column": null,
            "grid_gap": null,
            "grid_row": null,
            "grid_template_areas": null,
            "grid_template_columns": null,
            "grid_template_rows": null,
            "height": null,
            "justify_content": null,
            "justify_items": null,
            "left": null,
            "margin": null,
            "max_height": null,
            "max_width": null,
            "min_height": null,
            "min_width": null,
            "object_fit": null,
            "object_position": null,
            "order": null,
            "overflow": null,
            "overflow_x": null,
            "overflow_y": null,
            "padding": null,
            "right": null,
            "top": null,
            "visibility": null,
            "width": null
          }
        },
        "222dce4e70b44cacad850d15ef20d2b3": {
          "model_module": "@jupyter-widgets/controls",
          "model_name": "DescriptionStyleModel",
          "model_module_version": "1.5.0",
          "state": {
            "_model_module": "@jupyter-widgets/controls",
            "_model_module_version": "1.5.0",
            "_model_name": "DescriptionStyleModel",
            "_view_count": null,
            "_view_module": "@jupyter-widgets/base",
            "_view_module_version": "1.2.0",
            "_view_name": "StyleView",
            "description_width": ""
          }
        },
        "a358aa2fb4ca4c96836efdaaa0c46e31": {
          "model_module": "@jupyter-widgets/controls",
          "model_name": "HBoxModel",
          "model_module_version": "1.5.0",
          "state": {
            "_dom_classes": [],
            "_model_module": "@jupyter-widgets/controls",
            "_model_module_version": "1.5.0",
            "_model_name": "HBoxModel",
            "_view_count": null,
            "_view_module": "@jupyter-widgets/controls",
            "_view_module_version": "1.5.0",
            "_view_name": "HBoxView",
            "box_style": "",
            "children": [
              "IPY_MODEL_c6f605297b984bddada575008cb1700d",
              "IPY_MODEL_b832015fa3b94bce88fe0d01d117b9ba",
              "IPY_MODEL_bf49e1d17c694d9dab0ea51dd2f28a97"
            ],
            "layout": "IPY_MODEL_8a3bd320b5df4b90ba58d7d66dfa17ce"
          }
        },
        "c6f605297b984bddada575008cb1700d": {
          "model_module": "@jupyter-widgets/controls",
          "model_name": "HTMLModel",
          "model_module_version": "1.5.0",
          "state": {
            "_dom_classes": [],
            "_model_module": "@jupyter-widgets/controls",
            "_model_module_version": "1.5.0",
            "_model_name": "HTMLModel",
            "_view_count": null,
            "_view_module": "@jupyter-widgets/controls",
            "_view_module_version": "1.5.0",
            "_view_name": "HTMLView",
            "description": "",
            "description_tooltip": null,
            "layout": "IPY_MODEL_7919289471fe47b3b8eee1abd6644f02",
            "placeholder": "​",
            "style": "IPY_MODEL_3795719122af42e898b9aaeffb4af6ee",
            "value": "Map: 100%"
          }
        },
        "b832015fa3b94bce88fe0d01d117b9ba": {
          "model_module": "@jupyter-widgets/controls",
          "model_name": "FloatProgressModel",
          "model_module_version": "1.5.0",
          "state": {
            "_dom_classes": [],
            "_model_module": "@jupyter-widgets/controls",
            "_model_module_version": "1.5.0",
            "_model_name": "FloatProgressModel",
            "_view_count": null,
            "_view_module": "@jupyter-widgets/controls",
            "_view_module_version": "1.5.0",
            "_view_name": "ProgressView",
            "bar_style": "success",
            "description": "",
            "description_tooltip": null,
            "layout": "IPY_MODEL_244a2a02a6544803a9a46b9175f2cfc0",
            "max": 1,
            "min": 0,
            "orientation": "horizontal",
            "style": "IPY_MODEL_13ab4c792d8245f1b0ce5764927cd722",
            "value": 1
          }
        },
        "bf49e1d17c694d9dab0ea51dd2f28a97": {
          "model_module": "@jupyter-widgets/controls",
          "model_name": "HTMLModel",
          "model_module_version": "1.5.0",
          "state": {
            "_dom_classes": [],
            "_model_module": "@jupyter-widgets/controls",
            "_model_module_version": "1.5.0",
            "_model_name": "HTMLModel",
            "_view_count": null,
            "_view_module": "@jupyter-widgets/controls",
            "_view_module_version": "1.5.0",
            "_view_name": "HTMLView",
            "description": "",
            "description_tooltip": null,
            "layout": "IPY_MODEL_1054d6674af9444a92b14f1ae80c54da",
            "placeholder": "​",
            "style": "IPY_MODEL_2bb82848503843d1b0c51107f3c4e0ef",
            "value": " 1/1 [00:00&lt;00:00, 46.69 examples/s]"
          }
        },
        "8a3bd320b5df4b90ba58d7d66dfa17ce": {
          "model_module": "@jupyter-widgets/base",
          "model_name": "LayoutModel",
          "model_module_version": "1.2.0",
          "state": {
            "_model_module": "@jupyter-widgets/base",
            "_model_module_version": "1.2.0",
            "_model_name": "LayoutModel",
            "_view_count": null,
            "_view_module": "@jupyter-widgets/base",
            "_view_module_version": "1.2.0",
            "_view_name": "LayoutView",
            "align_content": null,
            "align_items": null,
            "align_self": null,
            "border": null,
            "bottom": null,
            "display": null,
            "flex": null,
            "flex_flow": null,
            "grid_area": null,
            "grid_auto_columns": null,
            "grid_auto_flow": null,
            "grid_auto_rows": null,
            "grid_column": null,
            "grid_gap": null,
            "grid_row": null,
            "grid_template_areas": null,
            "grid_template_columns": null,
            "grid_template_rows": null,
            "height": null,
            "justify_content": null,
            "justify_items": null,
            "left": null,
            "margin": null,
            "max_height": null,
            "max_width": null,
            "min_height": null,
            "min_width": null,
            "object_fit": null,
            "object_position": null,
            "order": null,
            "overflow": null,
            "overflow_x": null,
            "overflow_y": null,
            "padding": null,
            "right": null,
            "top": null,
            "visibility": null,
            "width": null
          }
        },
        "7919289471fe47b3b8eee1abd6644f02": {
          "model_module": "@jupyter-widgets/base",
          "model_name": "LayoutModel",
          "model_module_version": "1.2.0",
          "state": {
            "_model_module": "@jupyter-widgets/base",
            "_model_module_version": "1.2.0",
            "_model_name": "LayoutModel",
            "_view_count": null,
            "_view_module": "@jupyter-widgets/base",
            "_view_module_version": "1.2.0",
            "_view_name": "LayoutView",
            "align_content": null,
            "align_items": null,
            "align_self": null,
            "border": null,
            "bottom": null,
            "display": null,
            "flex": null,
            "flex_flow": null,
            "grid_area": null,
            "grid_auto_columns": null,
            "grid_auto_flow": null,
            "grid_auto_rows": null,
            "grid_column": null,
            "grid_gap": null,
            "grid_row": null,
            "grid_template_areas": null,
            "grid_template_columns": null,
            "grid_template_rows": null,
            "height": null,
            "justify_content": null,
            "justify_items": null,
            "left": null,
            "margin": null,
            "max_height": null,
            "max_width": null,
            "min_height": null,
            "min_width": null,
            "object_fit": null,
            "object_position": null,
            "order": null,
            "overflow": null,
            "overflow_x": null,
            "overflow_y": null,
            "padding": null,
            "right": null,
            "top": null,
            "visibility": null,
            "width": null
          }
        },
        "3795719122af42e898b9aaeffb4af6ee": {
          "model_module": "@jupyter-widgets/controls",
          "model_name": "DescriptionStyleModel",
          "model_module_version": "1.5.0",
          "state": {
            "_model_module": "@jupyter-widgets/controls",
            "_model_module_version": "1.5.0",
            "_model_name": "DescriptionStyleModel",
            "_view_count": null,
            "_view_module": "@jupyter-widgets/base",
            "_view_module_version": "1.2.0",
            "_view_name": "StyleView",
            "description_width": ""
          }
        },
        "244a2a02a6544803a9a46b9175f2cfc0": {
          "model_module": "@jupyter-widgets/base",
          "model_name": "LayoutModel",
          "model_module_version": "1.2.0",
          "state": {
            "_model_module": "@jupyter-widgets/base",
            "_model_module_version": "1.2.0",
            "_model_name": "LayoutModel",
            "_view_count": null,
            "_view_module": "@jupyter-widgets/base",
            "_view_module_version": "1.2.0",
            "_view_name": "LayoutView",
            "align_content": null,
            "align_items": null,
            "align_self": null,
            "border": null,
            "bottom": null,
            "display": null,
            "flex": null,
            "flex_flow": null,
            "grid_area": null,
            "grid_auto_columns": null,
            "grid_auto_flow": null,
            "grid_auto_rows": null,
            "grid_column": null,
            "grid_gap": null,
            "grid_row": null,
            "grid_template_areas": null,
            "grid_template_columns": null,
            "grid_template_rows": null,
            "height": null,
            "justify_content": null,
            "justify_items": null,
            "left": null,
            "margin": null,
            "max_height": null,
            "max_width": null,
            "min_height": null,
            "min_width": null,
            "object_fit": null,
            "object_position": null,
            "order": null,
            "overflow": null,
            "overflow_x": null,
            "overflow_y": null,
            "padding": null,
            "right": null,
            "top": null,
            "visibility": null,
            "width": null
          }
        },
        "13ab4c792d8245f1b0ce5764927cd722": {
          "model_module": "@jupyter-widgets/controls",
          "model_name": "ProgressStyleModel",
          "model_module_version": "1.5.0",
          "state": {
            "_model_module": "@jupyter-widgets/controls",
            "_model_module_version": "1.5.0",
            "_model_name": "ProgressStyleModel",
            "_view_count": null,
            "_view_module": "@jupyter-widgets/base",
            "_view_module_version": "1.2.0",
            "_view_name": "StyleView",
            "bar_color": null,
            "description_width": ""
          }
        },
        "1054d6674af9444a92b14f1ae80c54da": {
          "model_module": "@jupyter-widgets/base",
          "model_name": "LayoutModel",
          "model_module_version": "1.2.0",
          "state": {
            "_model_module": "@jupyter-widgets/base",
            "_model_module_version": "1.2.0",
            "_model_name": "LayoutModel",
            "_view_count": null,
            "_view_module": "@jupyter-widgets/base",
            "_view_module_version": "1.2.0",
            "_view_name": "LayoutView",
            "align_content": null,
            "align_items": null,
            "align_self": null,
            "border": null,
            "bottom": null,
            "display": null,
            "flex": null,
            "flex_flow": null,
            "grid_area": null,
            "grid_auto_columns": null,
            "grid_auto_flow": null,
            "grid_auto_rows": null,
            "grid_column": null,
            "grid_gap": null,
            "grid_row": null,
            "grid_template_areas": null,
            "grid_template_columns": null,
            "grid_template_rows": null,
            "height": null,
            "justify_content": null,
            "justify_items": null,
            "left": null,
            "margin": null,
            "max_height": null,
            "max_width": null,
            "min_height": null,
            "min_width": null,
            "object_fit": null,
            "object_position": null,
            "order": null,
            "overflow": null,
            "overflow_x": null,
            "overflow_y": null,
            "padding": null,
            "right": null,
            "top": null,
            "visibility": null,
            "width": null
          }
        },
        "2bb82848503843d1b0c51107f3c4e0ef": {
          "model_module": "@jupyter-widgets/controls",
          "model_name": "DescriptionStyleModel",
          "model_module_version": "1.5.0",
          "state": {
            "_model_module": "@jupyter-widgets/controls",
            "_model_module_version": "1.5.0",
            "_model_name": "DescriptionStyleModel",
            "_view_count": null,
            "_view_module": "@jupyter-widgets/base",
            "_view_module_version": "1.2.0",
            "_view_name": "StyleView",
            "description_width": ""
          }
        }
      }
    }
  },
  "nbformat": 4,
  "nbformat_minor": 0
}