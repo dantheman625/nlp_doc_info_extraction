{
  "cells": [
    {
      "cell_type": "markdown",
      "metadata": {
        "id": "view-in-github",
        "colab_type": "text"
      },
      "source": [
        "<a href=\"https://colab.research.google.com/github/dantheman625/nlp_doc_info_extraction/blob/complete_pipe/complete_pipeline.ipynb\" target=\"_parent\"><img src=\"https://colab.research.google.com/assets/colab-badge.svg\" alt=\"Open In Colab\"/></a>"
      ]
    },
    {
      "cell_type": "markdown",
      "metadata": {
        "id": "wB-78NmTAxDn"
      },
      "source": [
        "# Imports"
      ]
    },
    {
      "cell_type": "code",
      "execution_count": null,
      "metadata": {
        "id": "pJgrjPQwCqbh"
      },
      "outputs": [],
      "source": [
        "!pip install seqeval scikit-learn datasets wandb"
      ]
    },
    {
      "cell_type": "code",
      "execution_count": null,
      "metadata": {
        "id": "ayfPLr3R_zLO"
      },
      "outputs": [],
      "source": [
        "print(\"hello world\")"
      ]
    },
    {
      "cell_type": "code",
      "execution_count": null,
      "metadata": {
        "id": "ldcCU7mJPVll"
      },
      "outputs": [],
      "source": [
        "import torch\n",
        "from transformers import (\n",
        "    AutoTokenizer,\n",
        "    AutoModelForTokenClassification,\n",
        "    AutoModelForSequenceClassification,\n",
        "    LongformerTokenizerFast,\n",
        "    pipeline\n",
        ")\n",
        "from datasets import Dataset\n",
        "import numpy as np\n",
        "import os\n",
        "import json"
      ]
    },
    {
      "cell_type": "markdown",
      "metadata": {
        "id": "E3DTsURh-79i"
      },
      "source": [
        "## Wandb login"
      ]
    },
    {
      "cell_type": "code",
      "execution_count": null,
      "metadata": {
        "id": "8cu4-vLz_fT5"
      },
      "outputs": [],
      "source": [
        "import wandb\n",
        "wandb.login()"
      ]
    },
    {
      "cell_type": "markdown",
      "metadata": {
        "id": "rT9cEecqA9pj"
      },
      "source": [
        "# Datasets\n",
        "\n",
        "Import Challenge data set (Final_eval.json)\n"
      ]
    },
    {
      "cell_type": "markdown",
      "metadata": {
        "id": "GCnzzC7f3NLs"
      },
      "source": [
        "## Mount Drive"
      ]
    },
    {
      "cell_type": "code",
      "execution_count": null,
      "metadata": {
        "id": "ejY9V79h3JUb"
      },
      "outputs": [],
      "source": [
        "from google.colab import drive   # only in Colab; skip if you’re on a different setup\n",
        "import os\n",
        "import json\n",
        "\n",
        "#drive.mount('/content/drive', force_remount=True)\n",
        "drive.mount('/content/drive')"
      ]
    },
    {
      "cell_type": "markdown",
      "metadata": {
        "id": "EkCwny0seKjj"
      },
      "source": [
        "## Set Project folder in Google Drive"
      ]
    },
    {
      "cell_type": "code",
      "execution_count": null,
      "metadata": {
        "id": "TqXgjBvS3T5h"
      },
      "outputs": [],
      "source": [
        "drive_folder = \"NLP_project_data\"\n"
      ]
    },
    {
      "cell_type": "markdown",
      "metadata": {
        "id": "aog3WRix3YZC"
      },
      "source": [
        "## Load file"
      ]
    },
    {
      "cell_type": "code",
      "execution_count": null,
      "metadata": {
        "id": "nShjsVxM3X4E"
      },
      "outputs": [],
      "source": [
        "base_path   = os.path.join('drive/MyDrive/', drive_folder)\n",
        "eval_path   = os.path.join(base_path, 'Final_eval.json')\n",
        "\n",
        "eval_data = []\n",
        "folder_path = f'{base_path}/raw/dev'\n",
        "\n",
        "print(folder_path)\n",
        "\n",
        "# loop through all files in the given folder\n",
        "for root, dirs, files in os.walk(folder_path):\n",
        "    for file_name in files:\n",
        "        with open(f\"{folder_path}/{file_name}\", \"r\") as f:\n",
        "            data = json.load(f)\n",
        "\n",
        "        for d in data:\n",
        "          eval_data.append(d)\n",
        "\n",
        "dataset = Dataset.from_list(eval_data)\n",
        "print(\"Sample example:\")\n",
        "print(dataset[0])"
      ]
    },
    {
      "cell_type": "code",
      "execution_count": null,
      "metadata": {
        "id": "9PjxtL22yv4t"
      },
      "outputs": [],
      "source": [
        "entity_labels = dataset[0]['entity_label_set']  # list of entity types\n",
        "label_list = ['O'] + [f\"B-{l}\" for l in entity_labels] + [f\"I-{l}\" for l in entity_labels]\n",
        "label2id = {l: i for i, l in enumerate(label_list)}\n",
        "id2label = {i: l for l, i in label2id.items()}"
      ]
    },
    {
      "cell_type": "markdown",
      "metadata": {
        "id": "zm53dfjvAz-B"
      },
      "source": [
        "# Define models"
      ]
    },
    {
      "cell_type": "markdown",
      "metadata": {
        "id": "ti1frmdMPYUz"
      },
      "source": [
        "# Baseline models\n",
        "Define which model you used as a baseline model for the specific task"
      ]
    },
    {
      "cell_type": "code",
      "execution_count": null,
      "metadata": {
        "id": "UNJb31CMPda7"
      },
      "outputs": [],
      "source": [
        "baseline_ner_name = \"allenai/longformer-base-4096\"\n",
        "baseline_re_name = \"SpanBERT/spanbert-large-cased\"\n"
      ]
    },
    {
      "cell_type": "markdown",
      "metadata": {
        "id": "_KhLAFzTA13R"
      },
      "source": [
        "# Trained models\n",
        "\n",
        "Define your trained model for the specific task"
      ]
    },
    {
      "cell_type": "code",
      "execution_count": null,
      "metadata": {
        "id": "A8IAyiZ1RhEO"
      },
      "outputs": [],
      "source": [
        "trained_ner_name = f\"{base_path}/models/longformer/1/\"\n",
        "trained_re_name = f\"{base_path}/Model_checkpoints/checkpoint-306\""
      ]
    },
    {
      "cell_type": "markdown",
      "metadata": {
        "id": "N_5UIxiOA3dF"
      },
      "source": [
        "# Model selection\n",
        "\n",
        "Which model for NER, which for RE? -> Combination untrained/ untrained, trained/ trained, untrained/ trained, trained/ untrained"
      ]
    },
    {
      "cell_type": "markdown",
      "metadata": {
        "id": "ysRNjlYDRBBl"
      },
      "source": [
        "## Both baseline"
      ]
    },
    {
      "cell_type": "code",
      "execution_count": null,
      "metadata": {
        "id": "dM-hBYn1Q1EV"
      },
      "outputs": [],
      "source": [
        "ner_model_name = baseline_ner_name\n",
        "re_model_name  = baseline_re_name"
      ]
    },
    {
      "cell_type": "markdown",
      "metadata": {
        "id": "Tjl7gqUZRD64"
      },
      "source": [
        "## Both trained"
      ]
    },
    {
      "cell_type": "code",
      "execution_count": null,
      "metadata": {
        "id": "1wQL6dNbRWgd"
      },
      "outputs": [],
      "source": [
        "ner_model_name = trained_ner_name\n",
        "re_model_name  = trained_re_name"
      ]
    },
    {
      "cell_type": "markdown",
      "metadata": {
        "id": "8jWBBmYNRHGC"
      },
      "source": [
        "## NER: trained, RE: baseline"
      ]
    },
    {
      "cell_type": "code",
      "execution_count": null,
      "metadata": {
        "id": "AOqWb9yHRS_c"
      },
      "outputs": [],
      "source": [
        "ner_model_name = trained_ner_name\n",
        "re_model_name  = baseline_re_name"
      ]
    },
    {
      "cell_type": "markdown",
      "metadata": {
        "id": "Hs8GFyxCRKS1"
      },
      "source": [
        "## NER: baseline, RE: trained"
      ]
    },
    {
      "cell_type": "code",
      "execution_count": null,
      "metadata": {
        "id": "GqCg5zyaRZ3a"
      },
      "outputs": [],
      "source": [
        "ner_model_name = baseline_ner_name\n",
        "re_model_name  = trained_re_name"
      ]
    },
    {
      "cell_type": "markdown",
      "metadata": {
        "id": "sV83Si0vUPvB"
      },
      "source": [
        "# Load Models and Tokenizer"
      ]
    },
    {
      "cell_type": "markdown",
      "metadata": {
        "id": "4RHQ1PzcUTJJ"
      },
      "source": [
        "## NER"
      ]
    },
    {
      "cell_type": "code",
      "execution_count": null,
      "metadata": {
        "id": "PZe36BXf1GIQ"
      },
      "outputs": [],
      "source": [
        "print(ner_model_name)"
      ]
    },
    {
      "cell_type": "code",
      "execution_count": null,
      "metadata": {
        "id": "HuPIe9-9UVUk"
      },
      "outputs": [],
      "source": [
        "## Update once Daniel has finished setup\n",
        "ner_tokenizer = LongformerTokenizerFast.from_pretrained(baseline_ner_name)\n",
        "ner_model     = AutoModelForTokenClassification.from_pretrained(\n",
        "    ner_model_name,\n",
        "    num_labels=len(label_list),\n",
        "    id2label=id2label,\n",
        "    label2id=label2id\n",
        ")\n",
        "\n",
        "ner_pipe = pipeline(\n",
        "    'ner',\n",
        "    model=ner_model,\n",
        "    tokenizer=ner_tokenizer,\n",
        "    device=-1,\n",
        "    aggregation_strategy='simple'\n",
        ")\n"
      ]
    },
    {
      "cell_type": "markdown",
      "metadata": {
        "id": "rnvQ9uhbUXnt"
      },
      "source": [
        "## RE"
      ]
    },
    {
      "cell_type": "code",
      "execution_count": null,
      "metadata": {
        "id": "OlLQJe-CUSKx"
      },
      "outputs": [],
      "source": [
        "re_tokenizer  = AutoTokenizer.from_pretrained(re_model_name)\n",
        "if re_model_name == baseline_re_name:\n",
        "    # baseline: override classification head to fixed number of labels\n",
        "    cfg = AutoConfig.from_pretrained(\n",
        "        re_model_name,\n",
        "        num_labels=len(label2id),\n",
        "        label2id=label2id,\n",
        "        id2label=id2label\n",
        "    )\n",
        "    re_model = AutoModelForSequenceClassification.from_pretrained(\n",
        "        re_model_name,\n",
        "        config=cfg\n",
        "    )\n",
        "    print(f\"Loaded baseline RE model '{re_model_name}' with overridden head size num_labels={re_model.config.num_labels}\")\n",
        "else:\n",
        "    # trained: load checkpoint head as-is\n",
        "    re_model = AutoModelForSequenceClassification.from_pretrained(re_model_name)\n",
        "    print(f\"Loaded trained RE model '{re_model_name}' with head size num_labels={re_model.config.num_labels}\")\n"
      ]
    },
    {
      "cell_type": "markdown",
      "metadata": {
        "id": "91WtT1p3-bm9"
      },
      "source": [
        "#Initialize Wandb"
      ]
    },
    {
      "cell_type": "code",
      "execution_count": null,
      "metadata": {
        "id": "WsgYrS88-fkj"
      },
      "outputs": [],
      "source": [
        "wandb.init(\n",
        "    project=\"model-eval\",\n",
        "    name=f\"eval_{ner_model_name.split('/')[-1]}_{re_model_name.split('/')[-1]}\",\n",
        "    config={\n",
        "        \"ner_model\": ner_model_name,\n",
        "        \"re_model\": re_model_name,\n",
        "        \"dataset\": \"Final_eval.json\",\n",
        "        \"batch_size\": 32,\n",
        "        \"max_length\": 256,\n",
        "        \"seed\": 42,\n",
        "    }\n",
        ")"
      ]
    },
    {
      "cell_type": "markdown",
      "metadata": {
        "id": "1jf36s9hA7SY"
      },
      "source": [
        "# NER Eval\n",
        "\n",
        "Output: Entity file -> content"
      ]
    },
    {
      "cell_type": "code",
      "execution_count": null,
      "metadata": {
        "id": "fM1Ifo4Pyv4z"
      },
      "outputs": [],
      "source": [
        "ner_val_results = []\n",
        "for idx, example in enumerate(eval_data):\n",
        "    preds = ner_pipe(example['doc'])\n",
        "    ner_val_results.append({\n",
        "        'domain': example.get('domain'),\n",
        "        'doc_title': example.get('title', f'doc_{idx}'),\n",
        "        'entities': preds,\n",
        "        'doc': example.get('doc')\n",
        "    })\n",
        "\n",
        "print(ner_val_results[0])"
      ]
    },
    {
      "cell_type": "markdown",
      "source": [
        "Print NER Output for Nina to check"
      ],
      "metadata": {
        "id": "w0KaOyyVq1nI"
      }
    },
    {
      "cell_type": "code",
      "source": [
        "import json\n",
        "import numpy as np\n",
        "\n",
        "with open('/content/ner_val_results.json','w') as f:\n",
        "    json.dump(\n",
        "        ner_val_results,\n",
        "        f,\n",
        "        default=lambda o: o.item() if isinstance(o, np.generic) else o\n",
        "    )\n"
      ],
      "metadata": {
        "id": "wGBCYBJCq3hW"
      },
      "execution_count": null,
      "outputs": []
    },
    {
      "cell_type": "code",
      "execution_count": null,
      "metadata": {
        "id": "WaorJn5gDiot"
      },
      "outputs": [],
      "source": [
        "# placeholder\n",
        "true_ner_labels = [[\"O\", \"O\"]]\n",
        "pred_ner_labels = [[\"O\", \"O\"]]"
      ]
    },
    {
      "cell_type": "markdown",
      "metadata": {
        "id": "E_g6H9G--tRp"
      },
      "source": [
        "## Log Metrics in Wandb"
      ]
    },
    {
      "cell_type": "code",
      "execution_count": null,
      "metadata": {
        "id": "HcVR516C-piY"
      },
      "outputs": [],
      "source": [
        "from seqeval.metrics import precision_score as ner_prec, recall_score as ner_rec, f1_score as ner_f1\n",
        "prec_ner = ner_prec(true_ner_labels, pred_ner_labels)\n",
        "rec_ner  = ner_rec(true_ner_labels, pred_ner_labels)\n",
        "f1_ner   = ner_f1(true_ner_labels, pred_ner_labels)\n",
        "\n",
        "wandb.log({\n",
        "    \"ner/precision\": prec_ner,\n",
        "    \"ner/recall\":    rec_ner,\n",
        "    \"ner/f1\":        f1_ner,\n",
        "})\n"
      ]
    },
    {
      "cell_type": "markdown",
      "metadata": {
        "id": "1HxNSKq-A8by"
      },
      "source": [
        "# RE Eval\n",
        "\n",
        "Input: Entity file, original challenge test file -> matching of entities to sentences (siehe wa) -> Liste mit dict"
      ]
    },
    {
      "cell_type": "markdown",
      "source": [
        "## Preprocessing"
      ],
      "metadata": {
        "id": "TCXERBrXzR5x"
      }
    },
    {
      "cell_type": "code",
      "source": [
        "# Mapping: challenge labels (Set 2) → docred labels (Set 1)\n",
        "mapping_challenge_to_docred = {\n",
        "    # ── Direct one-to-ones ───────────────────────────────────────────────────────\n",
        "    \"Affiliation\":                         \"member of\",\n",
        "    \"ApprovedBy\":                          \"ApprovedBy\",\n",
        "    \"Author\":                              \"author\",\n",
        "    \"AwardReceived\":                       \"award received\",\n",
        "    \"BasedOn\":                             \"BasedOn\",\n",
        "    \"Capital\":                             \"capital\",\n",
        "    \"Causes\":                              \"Causes\",\n",
        "    \"Continent\":                           \"continent\",\n",
        "    \"ContributedToCreativeWork\":           \"ContributedToCreativeWork\",\n",
        "    \"Country\":                             \"country\",\n",
        "    \"CountryOfCitizenship\":                \"country of citizenship\",\n",
        "    \"Creator\":                             \"creator\",\n",
        "    \"Developer\":                           \"developer\",\n",
        "    \"DifferentFrom\":                       \"DifferentFrom\",\n",
        "    \"Director\":                            \"director\",\n",
        "    \"EducatedAt\":                          \"educated at\",\n",
        "    \"Employer\":                            \"employer\",\n",
        "    \"FieldOfWork\":                         \"FieldOfWork\",\n",
        "    \"FollowedBy\":                          \"followed by\",\n",
        "    \"Follows\":                             \"follows\",\n",
        "    \"Founded\":                             \"founded\",\n",
        "    \"FoundedBy\":                           \"founded by\",\n",
        "    \"HasCause\":                            \"HasCause\",\n",
        "    \"HasEffect\":                           \"HasEffect\",\n",
        "    \"HasPart\":                             \"HasPart\",\n",
        "    \"HasWorksInTheCollection\":             \"HasWorksInTheCollection\",\n",
        "    \"InfluencedBy\":                        \"influenced by\",\n",
        "    \"IssuedBy\":                            \"IssuedBy\",\n",
        "    \"LocatedIn\":                           \"located in the administrative territorial entity\",\n",
        "    \"Location\":                            \"location\",\n",
        "    \"MemberOf\":                            \"member of\",\n",
        "    \"NamedBy\":                             \"NamedBy\",\n",
        "    \"NominatedFor\":                        \"nominated for\",\n",
        "    \"OfficialLanguage\":                    \"official language\",\n",
        "    \"OwnedBy\":                             \"owned by\",\n",
        "    \"OwnerOf\":                             \"owner of\",\n",
        "    \"ParentOrganization\":                  \"parent organization\",\n",
        "    \"PartOf\":                              \"part of\",\n",
        "    \"Partner\":                             \"partner\",\n",
        "    \"PlaceOfBirth\":                        \"place of birth\",\n",
        "    \"PositionHeld\":                        \"position held\",\n",
        "    \"PublishedIn\":                         \"PublishedIn\",\n",
        "    \"Replaces\":                            \"replaces\",\n",
        "    \"SaidToBeTheSameAs\":                   \"SaidToBeTheSameAs\",\n",
        "    \"Studies\":                             \"Studies\",\n",
        "    \"UsedBy\":                              \"UsedBy\",\n",
        "    \"Uses\":                                \"Uses\",\n",
        "    \"WorkLocation\":                        \"work location\",\n",
        "\n",
        "    # ── Very close synonyms ────────────────────────────────────────────────────\n",
        "    \"LanguageOfWorkOrName\":                \"original language of work\",\n",
        "    \"LanguageUsed\":                        \"languages spoken, written or signed\",\n",
        "    \"OriginalLanguageOfFilmOrTvShow\":      \"original language of work\",\n",
        "    \"PartyChiefRepresentative\":            \"head of government\",\n",
        "    \"PrimeFactor\":                         \"part of\",\n",
        "    \"TwinnedAdministrativeBody\":           \"sister city\",\n",
        "\n",
        "    # ── Functional / looser mappings ──────────────────────────────────────────\n",
        "    \"AcademicDegree\":                      \"educated at\",\n",
        "    \"AdjacentStation\":                     \"shares border with\",\n",
        "    \"AppliesToPeople\":                     \"applies to jurisdiction\",\n",
        "    \"CitesWork\":                           \"present in work\",\n",
        "    \"ContainsAdministrativeTerritorialEntity\":     \"contains administrative territorial entity\",\n",
        "    \"ContainsTheAdministrativeTerritorialEntity\":  \"contains administrative territorial entity\",\n",
        "    \"DiplomaticRelation\":                  \"conflict\",\n",
        "    \"HasQuality\":                          \"genre\",\n",
        "    \"InOppositionTo\":                      \"separated from\",\n",
        "    \"InspiredBy\":                          \"BasedOn\",\n",
        "    \"InterestedIn\":                        \"Studies\",\n",
        "    \"NamedAfter\":                          \"NamedBy\",\n",
        "    \"NativeLanguage\":                      \"languages spoken, written or signed\",\n",
        "    \"OperatingSystem\":                     \"platform\",\n",
        "    \"PhysicallyInteractsWith\":             \"shares border with\",\n",
        "    \"PracticedBy\":                         \"UsedBy\",\n",
        "    \"PresentedIn\":                         \"present in work\",\n",
        "    \"Promoted\":                            \"HasEffect\",\n",
        "    \"RegulatedBy\":                         \"IssuedBy\",\n",
        "    \"SharesBorderWith\":                    \"shares border with\",\n",
        "    \"SignificantEvent\":                    \"location\",\n",
        "}\n",
        "\n"
      ],
      "metadata": {
        "id": "q_Bym75fqMYe"
      },
      "execution_count": null,
      "outputs": []
    },
    {
      "cell_type": "code",
      "source": [
        "print(\"Columns available in `dataset`:\", dataset.column_names)\n",
        "print(\"Sample element:\\n\", dataset[0])"
      ],
      "metadata": {
        "id": "fu3LxWGazbdD"
      },
      "execution_count": null,
      "outputs": []
    },
    {
      "cell_type": "code",
      "source": [
        "import json\n",
        "import re\n",
        "from collections import defaultdict\n",
        "from datasets import Dataset\n",
        "import numpy as np\n",
        "from transformers import (\n",
        "    Trainer,\n",
        "    TrainingArguments,\n",
        "    AutoConfig,\n",
        "    AutoModelForSequenceClassification,\n",
        "    AutoTokenizer\n",
        ")\n",
        "from sklearn.metrics import precision_recall_fscore_support, accuracy_score\n",
        "\n",
        "# === 0) Define fixed relation label mapping ===\n",
        "target_labels = sorted(set(mapping_challenge_to_docred.values()))\n",
        "label2id = {lbl: idx for idx, lbl in enumerate(target_labels)}\n",
        "id2label = {idx: lbl for lbl, idx in label2id.items()}\n",
        "print(f\"Using fixed RE labels (len={len(label2id)}): {label2id}\")\n",
        "\n",
        "# === 1) Load RE model & tokenizer with conditional head sizing ===\n",
        "def load_re_model(name_or_path, baseline_name):\n",
        "    # shared tokenizer across models\n",
        "    tokenizer = AutoTokenizer.from_pretrained(re_model_name)\n",
        "    # if baseline, override head size to fixed label2id\n",
        "    if name_or_path == baseline_name:\n",
        "        cfg = AutoConfig.from_pretrained(\n",
        "            name_or_path,\n",
        "            num_labels=len(label2id),\n",
        "            label2id=label2id,\n",
        "            id2label=id2label\n",
        "        )\n",
        "        model = AutoModelForSequenceClassification.from_pretrained(\n",
        "            name_or_path,\n",
        "            config=cfg\n",
        "        )\n",
        "        print(f\"Loaded baseline RE model '{name_or_path}' with overridden head size num_labels={model.config.num_labels}\")\n",
        "    else:\n",
        "        # for trained, load checkpoint head as-is\n",
        "        model = AutoModelForSequenceClassification.from_pretrained(name_or_path)\n",
        "        print(f\"Loaded trained RE model '{name_or_path}' with head size num_labels={model.config.num_labels}\")\n",
        "    return model, tokenizer\n",
        "\n",
        "# === 2) Index gold triples by normalized document title ===\n",
        "gold_by_doc = defaultdict(list)\n",
        "for meta in dataset:\n",
        "    key = meta[\"title\"].strip().lower()\n",
        "    for t in meta.get(\"triples\", []):\n",
        "        gold_by_doc[key].append(t)\n",
        "\n",
        "# === Helpers to split text into sentences and extract containing sentence ===\n",
        "def split_sentences(text):\n",
        "    return re.split(r'(?<=[.!?])\\s+', text)\n",
        "\n",
        "def get_sentence(text, a, b):\n",
        "    for sent in split_sentences(text):\n",
        "        idx = text.find(sent)\n",
        "        if idx <= a < idx + len(sent) and idx <= b < idx + len(sent):\n",
        "            return sent\n",
        "    return text\n",
        "\n",
        "# === 3) Build positive-only RE examples from NER outputs + gold triples ===\n",
        "examples = []\n",
        "for doc in ner_val_results:\n",
        "    title = doc['doc_title'].strip().lower()\n",
        "    text = doc.get('doc', '')\n",
        "    # collect NER spans\n",
        "    spans = defaultdict(list)\n",
        "    for ent in doc.get('entities', []):\n",
        "        key = ent.get('word', '').strip().lower()\n",
        "        spans[key].append((ent['start'], ent['end']))\n",
        "    # match gold triples\n",
        "    for head, rel, tail in [(t['head'], t['relation'], t['tail']) for t in gold_by_doc.get(title, [])]:\n",
        "        mapped = mapping_challenge_to_docred.get(rel)\n",
        "        if mapped is None:\n",
        "            continue\n",
        "        hsp = spans.get(head.lower().strip(), [])\n",
        "        tsp = spans.get(tail.lower().strip(), [])\n",
        "        if not (hsp and tsp):\n",
        "            continue\n",
        "        sent = get_sentence(text, hsp[0][0], tsp[0][0])\n",
        "        examples.append({\n",
        "            'RE_sentence':    sent,\n",
        "            'entity1_label':  head,\n",
        "            'entity2_label':  tail,\n",
        "            'relation_label': mapped\n",
        "        })\n",
        "print(f\"Built {len(examples)} RE examples across {len(gold_by_doc)} docs\")\n",
        "if not examples:\n",
        "    raise RuntimeError(\"No RE examples built; check your mapping and NER outputs.\")\n",
        "\n",
        "# === 4) Define transforms for HF Dataset ===\n",
        "def make_example(ex):\n",
        "    sent, e1, e2 = ex['RE_sentence'], ex['entity1_label'], ex['entity2_label']\n",
        "    text = sent.replace(e1, f\"[E1]{e1}[/E1]\").replace(e2, f\"[E2]{e2}[/E2]\")\n",
        "    return {'text': text, 'entity1_label': e1, 'entity2_label': e2, 'relation_label': ex['relation_label']}\n",
        "\n",
        "def add_label_ids(ex):\n",
        "    return {'labels': label2id[ex['relation_label']]}\n",
        "\n",
        "# === 5) Build HF Dataset and apply transforms ===\n",
        "re_val_ds = Dataset.from_list(examples)\n",
        "print(\"Columns before mapping:\", re_val_ds.column_names)\n",
        "re_val_ds = re_val_ds.map(make_example, remove_columns=['RE_sentence'])\n",
        "re_val_ds = re_val_ds.map(add_label_ids)\n",
        "print(\"→ Prepared RE validation set:\", re_val_ds)\n"
      ],
      "metadata": {
        "id": "kJLZBSNIWK3n"
      },
      "execution_count": null,
      "outputs": []
    },
    {
      "cell_type": "markdown",
      "source": [
        "### Build RE validation examples"
      ],
      "metadata": {
        "id": "x6PL9C2O2kNY"
      }
    },
    {
      "cell_type": "markdown",
      "source": [
        "### Create HF Dataset"
      ],
      "metadata": {
        "id": "GHCm2DcupBrX"
      }
    },
    {
      "cell_type": "markdown",
      "metadata": {
        "id": "oLcf67F-6cJ0"
      },
      "source": [
        "## Extract unique label values for matching to docred"
      ]
    },
    {
      "cell_type": "code",
      "execution_count": null,
      "metadata": {
        "id": "o3Uhvztr6iDL"
      },
      "outputs": [],
      "source": [
        "unique_labels = set()\n",
        "for item in eval_data:\n",
        "    unique_labels.update(item.get(\"label_set\", []))\n",
        "\n",
        "# If you want them sorted for readability:\n",
        "unique_labels = sorted(unique_labels)\n",
        "\n",
        "print(unique_labels)\n"
      ]
    },
    {
      "cell_type": "markdown",
      "source": [
        "Mapping Challenge labels to Labels in Docred that RE model was trained on"
      ],
      "metadata": {
        "id": "jXPsC6JzqGdd"
      }
    },
    {
      "cell_type": "code",
      "source": [
        "# Sanity-check that every challenge label is covered:\n",
        "challenge_labels = {\n",
        "    \"AcademicDegree\",\"AdjacentStation\",\"Affiliation\",\"AppliesToPeople\",\"ApprovedBy\",\"Author\",\"AwardReceived\",\n",
        "    \"BasedOn\",\"Capital\",\"Causes\",\"CitesWork\",\"ContainsAdministrativeTerritorialEntity\",\n",
        "    \"ContainsTheAdministrativeTerritorialEntity\",\"Continent\",\"ContributedToCreativeWork\",\"Country\",\n",
        "    \"CountryOfCitizenship\",\"Creator\",\"Developer\",\"DifferentFrom\",\"DiplomaticRelation\",\"Director\",\"EducatedAt\",\n",
        "    \"Employer\",\"FieldOfWork\",\"FollowedBy\",\"Follows\",\"Founded\",\"FoundedBy\",\"HasCause\",\"HasEffect\",\"HasPart\",\n",
        "    \"HasQuality\",\"HasWorksInTheCollection\",\"InOppositionTo\",\"InfluencedBy\",\"InspiredBy\",\"InterestedIn\",\"IssuedBy\",\n",
        "    \"LanguageOfWorkOrName\",\"LanguageUsed\",\"LocatedIn\",\"Location\",\"MemberOf\",\"NamedAfter\",\"NamedBy\",\"NativeLanguage\",\n",
        "    \"NominatedFor\",\"OfficialLanguage\",\"OperatingSystem\",\"OriginalLanguageOfFilmOrTvShow\",\"OwnedBy\",\"OwnerOf\",\n",
        "    \"ParentOrganization\",\"PartOf\",\"Partner\",\"PartyChiefRepresentative\",\"PhysicallyInteractsWith\",\"PlaceOfBirth\",\n",
        "    \"PositionHeld\",\"PracticedBy\",\"PresentedIn\",\"PrimeFactor\",\"Promoted\",\"PublishedIn\",\"RegulatedBy\",\"Replaces\",\n",
        "    \"SaidToBeTheSameAs\",\"SharesBorderWith\",\"SignificantEvent\",\"Studies\",\"TwinnedAdministrativeBody\",\"UsedBy\",\"Uses\",\n",
        "    \"WorkLocation\"\n",
        "}\n",
        "assert set(mapping_challenge_to_docred) >= challenge_labels, \"Some challenge labels aren’t mapped!\"\n"
      ],
      "metadata": {
        "id": "PmF54dkEqY2N"
      },
      "execution_count": null,
      "outputs": []
    },
    {
      "cell_type": "markdown",
      "metadata": {
        "id": "1nc1v9Gu-w_9"
      },
      "source": [
        "## Log metrics in Wandb"
      ]
    },
    {
      "cell_type": "markdown",
      "source": [
        "### Initialize RE-run"
      ],
      "metadata": {
        "id": "l0fys88d0Ti6"
      }
    },
    {
      "cell_type": "code",
      "source": [
        "import wandb\n",
        "import numpy as np\n",
        "from transformers import Trainer, TrainingArguments\n",
        "from sklearn.metrics import precision_recall_fscore_support, accuracy_score, classification_report\n",
        "\n",
        "\n",
        "wandb.init(\n",
        "    project=\"model-eval\",\n",
        "    name=f\"re_eval_{ner_model_name.split('/')[-1]}_{re_model_name.split('/')[-1]}\",\n",
        "    config={\n",
        "        \"ner_model\": ner_model_name,\n",
        "        \"re_model\": re_model_name,\n",
        "        \"dataset\": \"Final_eval.json\",\n",
        "        \"batch_size\": 32,\n",
        "        \"max_length\": 256,\n",
        "        \"seed\": 42,\n",
        "    }\n",
        ")"
      ],
      "metadata": {
        "id": "yk5DQF6G0RuH"
      },
      "execution_count": null,
      "outputs": []
    },
    {
      "cell_type": "code",
      "source": [
        "inputs = re_tokenizer(re_val_ds[0]['text'], return_tensors='pt', padding='max_length', truncation=True, max_length=256)\n",
        "labels = torch.tensor([re_val_ds[0]['labels']])\n",
        "out = re_model(**inputs)\n",
        "print(out.logits.shape)  # should be [1, 59] given your head size\n"
      ],
      "metadata": {
        "id": "6j2ZWgWxdtvM"
      },
      "execution_count": null,
      "outputs": []
    },
    {
      "cell_type": "code",
      "source": [
        "# First, load the correct RE model & tokenizer (baseline vs. trained)\n",
        "re_tokenizer  = AutoTokenizer.from_pretrained(re_model_name)\n",
        "if re_model_name == baseline_re_name:\n",
        "    # baseline: override classification head to fixed number of labels\n",
        "    cfg = AutoConfig.from_pretrained(\n",
        "        re_model_name,\n",
        "        num_labels=len(label2id),\n",
        "        label2id=label2id,\n",
        "        id2label=id2label\n",
        "    )\n",
        "    re_model = AutoModelForSequenceClassification.from_pretrained(\n",
        "        re_model_name,\n",
        "        config=cfg\n",
        "    )\n",
        "    print(f\"Loaded baseline RE model '{re_model_name}' with overridden head size num_labels={re_model.config.num_labels}\")\n",
        "else:\n",
        "    # trained: load checkpoint head as-is\n",
        "    re_model = AutoModelForSequenceClassification.from_pretrained(re_model_name)\n",
        "    print(f\"Loaded trained RE model '{re_model_name}' with head size num_labels={re_model.config.num_labels}\")\n",
        "\n",
        "# 7) Tokenization function using the newly loaded tokenizer\n",
        "def tokenize_fn(batch):\n",
        "    return re_tokenizer(\n",
        "        batch['text'],\n",
        "        padding='max_length',\n",
        "        truncation=True,\n",
        "        max_length=256\n",
        "    )\n",
        "\n",
        "# Apply tokenization to your validation dataset\n",
        "tokenized_val = re_val_ds.map(tokenize_fn, batched=True)\n",
        "\n",
        "# 8) Define evaluation metrics\n",
        "def compute_metrics(eval_pred):\n",
        "    logits, labels = eval_pred\n",
        "    preds = np.argmax(logits, axis=-1)\n",
        "    p, r, f1, _ = precision_recall_fscore_support(labels, preds, average='weighted')\n",
        "    acc = accuracy_score(labels, preds)\n",
        "    return {'accuracy': acc, 'precision': p, 'recall': r, 'f1': f1}\n",
        "\n",
        "# 9) Set up Trainer for evaluation\n",
        "eval_args = TrainingArguments(\n",
        "    output_dir='/content/re_eval_output',\n",
        "    per_device_eval_batch_size=32,\n",
        "    do_train=False,\n",
        "    do_eval=True,\n",
        "    logging_dir='/content/logs',\n",
        "    report_to='wandb'\n",
        ")\n",
        "trainer = Trainer(\n",
        "    model=re_model,\n",
        "    args=eval_args,\n",
        "    tokenizer=re_tokenizer,\n",
        "    compute_metrics=compute_metrics\n",
        ")\n",
        "\n",
        "# 10) Run evaluation\n",
        "eval_result = trainer.evaluate(eval_dataset=tokenized_val)\n",
        "print(\"🔍 RE Validation Results:\", eval_result)\n",
        "\n",
        "# 11) Generate and save predictions as before\n",
        "preds_output = trainer.predict(tokenized_val)\n",
        "pred_ids = np.argmax(preds_output.predictions, axis=-1)\n",
        "\n",
        "# Determine id2label mapping to use for predictions\n",
        "# If model config defines id2label, prefer that (e.g., for trained model with 87 classes)\n",
        "if hasattr(re_model.config, 'id2label') and re_model.config.id2label:\n",
        "    pred_id2label = re_model.config.id2label\n",
        "else:\n",
        "    pred_id2label = id2label\n",
        "\n",
        "# sanitize filename & write out JSON\n",
        "import os\n",
        "safe_model_name = os.path.basename(re_model_name.rstrip('/'))\n",
        "output_path = f'/content/re_{safe_model_name}_predictions.json'\n",
        "\n",
        "outputs = []\n",
        "for ex, pred in zip(re_val_ds, pred_ids):\n",
        "    # guard against out-of-range predictions\n",
        "    pred_label = pred_id2label.get(pred, 'UNKNOWN')\n",
        "    outputs.append({\n",
        "        'text': ex['text'],\n",
        "        'entity1_label': ex['entity1_label'],\n",
        "        'entity2_label': ex['entity2_label'],\n",
        "        'gold_relation': ex['relation_label'],\n",
        "        'predicted_relation': pred_label\n",
        "    })\n",
        "with open(output_path, 'w') as f:\n",
        "    json.dump(outputs, f, indent=2)\n",
        "print(f\"Wrote predictions to {output_path}\")"
      ],
      "metadata": {
        "id": "HvqazyZtbAJH"
      },
      "execution_count": null,
      "outputs": []
    },
    {
      "cell_type": "markdown",
      "source": [
        "### Tokenize Validation Examples"
      ],
      "metadata": {
        "id": "-LLxXxc_0iXU"
      }
    },
    {
      "cell_type": "markdown",
      "source": [
        "### Classification report"
      ],
      "metadata": {
        "id": "zIM4suAG07MK"
      }
    },
    {
      "cell_type": "code",
      "source": [
        "# 9) Generate classification report and log detailed metrics to wandb\n",
        "from sklearn.metrics import classification_report\n",
        "\n",
        "# true and predicted IDs\n",
        "true_ids = re_val_ds['labels']\n",
        "# pred_ids already computed above\n",
        "\n",
        "# Only include classes that appear in this dataset\n",
        "unique_labels = sorted(set(true_ids) | set(pred_ids))\n",
        "\n",
        "# classification report dict\n",
        "report = classification_report(\n",
        "    true_ids,\n",
        "    pred_ids,\n",
        "    labels=unique_labels,\n",
        "    target_names=[id2label[i] for i in unique_labels],\n",
        "    output_dict=True,\n",
        "    zero_division=0  # avoid undefined metric warnings\n",
        ")\n",
        "# log full report\n",
        "author_metrics = {'classification_report': report}\n",
        "wandb.log(author_metrics)\n",
        "\n",
        "# compute micro-averaged scores for RE\n",
        "prec_re, rec_re, f1_re, _ = precision_recall_fscore_support(\n",
        "    true_ids,\n",
        "    pred_ids,\n",
        "    labels=unique_labels,\n",
        "    average='micro'\n",
        ")\n",
        "wandb.log({\n",
        "    \"re/precision\": prec_re,\n",
        "    \"re/recall\":    rec_re,\n",
        "    \"re/f1\":        f1_re,\n",
        "})\n",
        "\n",
        "# summary table combining NER and RE metrics\n",
        "# assumes prec_ner, rec_ner, f1_ner were computed earlier\n",
        "summary_table = wandb.Table(\n",
        "    columns=[\n",
        "      \"ner_precision\", \"ner_recall\", \"ner_f1\",\n",
        "      \"re_precision\", \"re_recall\", \"re_f1\"\n",
        "    ],\n",
        "    data=[[prec_ner, rec_ner, f1_ner, prec_re, rec_re, f1_re]]\n",
        ")\n",
        "wandb.log({\"metrics_summary\": summary_table})\n"
      ],
      "metadata": {
        "id": "2mdkf-sM07jD"
      },
      "execution_count": null,
      "outputs": []
    },
    {
      "cell_type": "markdown",
      "metadata": {
        "id": "m4yVOJzh_vwb"
      },
      "source": [
        "Wrap Up\n"
      ]
    },
    {
      "cell_type": "code",
      "execution_count": null,
      "metadata": {
        "id": "0J8TqQZE_xCM"
      },
      "outputs": [],
      "source": [
        "wandb.finish()"
      ]
    }
  ],
  "metadata": {
    "accelerator": "GPU",
    "colab": {
      "gpuType": "T4",
      "provenance": [],
      "include_colab_link": true
    },
    "kernelspec": {
      "display_name": "nlp_project_p311",
      "language": "python",
      "name": "python3"
    },
    "language_info": {
      "codemirror_mode": {
        "name": "ipython",
        "version": 3
      },
      "file_extension": ".py",
      "mimetype": "text/x-python",
      "name": "python",
      "nbconvert_exporter": "python",
      "pygments_lexer": "ipython3",
      "version": "3.11.11"
    }
  },
  "nbformat": 4,
  "nbformat_minor": 0
}