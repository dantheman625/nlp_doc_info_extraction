{
 "cells": [
  {
   "cell_type": "code",
   "execution_count": null,
   "id": "85ccf12a",
   "metadata": {},
   "outputs": [],
   "source": [
    "!pip install matplot"
   ]
  },
  {
   "cell_type": "code",
   "execution_count": null,
   "id": "aaf546bf",
   "metadata": {},
   "outputs": [],
   "source": [
    "import json\n",
    "import matplotlib.pyplot as plt\n",
    "from collections import Counter\n",
    "\n",
    "with open('project_files/data/processed/ner_trained_predictions.json', 'r') as f:\n",
    "    predictions = json.load(f)\n",
    "\n",
    "entity_group_counts = Counter()\n",
    "\n",
    "for doc in predictions:\n",
    "    entities = doc.get('entities', [])\n",
    "    for entity in entities:\n",
    "        entity_group = entity.get('entity_group', '')\n",
    "        if entity_group:\n",
    "            entity_group_counts[entity_group] += 1\n",
    "\n",
    "groups = list(entity_group_counts.keys())\n",
    "counts = list(entity_group_counts.values())\n",
    "\n",
    "groups, counts = zip(*sorted(zip(groups, counts), key=lambda x: x[1], reverse=True))\n",
    "\n",
    "plt.figure(figsize=(12, 6))\n",
    "bars = plt.bar(groups, counts)\n",
    "plt.xticks(rotation=45, ha='right')\n",
    "plt.title('Frequency of Entity Groups in Predictions')\n",
    "plt.xlabel('Entity Group')\n",
    "plt.ylabel('Frequency')\n",
    "\n",
    "for bar in bars:\n",
    "    height = bar.get_height()\n",
    "    plt.text(bar.get_x() + bar.get_width()/2., height,\n",
    "             f'{int(height)}',\n",
    "             ha='center', va='bottom')\n",
    "\n",
    "plt.tight_layout()\n",
    "plt.show()"
   ]
  }
 ],
 "metadata": {
  "kernelspec": {
   "display_name": "nlp_project_p311",
   "language": "python",
   "name": "python3"
  },
  "language_info": {
   "codemirror_mode": {
    "name": "ipython",
    "version": 3
   },
   "file_extension": ".py",
   "mimetype": "text/x-python",
   "name": "python",
   "nbconvert_exporter": "python",
   "pygments_lexer": "ipython3",
   "version": "3.11.11"
  }
 },
 "nbformat": 4,
 "nbformat_minor": 5
}
