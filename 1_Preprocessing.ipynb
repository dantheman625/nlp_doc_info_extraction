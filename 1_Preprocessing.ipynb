{
 "cells": [
  {
   "cell_type": "markdown",
   "metadata": {},
   "source": [
    "# Preprocessing\n",
    "\n",
    "This notebook preprocesses the raw annotated JSON files (from multiple domains) into JSON Lines files (`ner_dataset.jsonl`, `re_dataset.jsonl`) which are later used to train the models for the Named Entity Recognition and Relation Extraction. \n",
    "\n",
    "**Input Data:**  \n",
    "Each file includes:\n",
    "- `doc`: A string containing the full document text.\n",
    "- `entities`: A list of entity annotations. Each entity is a dictionary with:\n",
    "  - `id`: A unique ID for the entity (int).\n",
    "  - `type`: The custom entity type (e.g., \"ORG\", \"GPE\", \"MISC\", \"EVENT\").\n",
    "  - `mentions`: A list of each mention of the entity in different variants.\n",
    "- `triples`: A list of relation annotations. Each entity is a dictinoray with:\n",
    "    - `head`: The head entity or subject, from which the realtion origins.\n",
    "    - `tail`: The tail entity which the relation targets\n",
    "    - `relation`: The type of the relation (e.g. \"PresentedIn\", \"LocatedIn\").\n",
    "- `label_set`: A list of all relation types used in the document.\n",
    "- `entity_label_set`: A list of all entity types used in the document.\n",
    "\n",
    "**Output NER Format:**  \n",
    "For each document, we produce a JSON object with:\n",
    "- `doc_id`: A unique identifier for the document.\n",
    "- `text`: The raw document text.\n",
    "- `tokens`: The list of tokens obtained from tokenizing the text with a pretrained tokenizer.\n",
    "- `offsets`: The corresponding character offset mapping for each token.\n",
    "- `entities`: A list of entities with the following structure:\n",
    "  - `entity_id`\n",
    "  - `type`\n",
    "  - `mentions`: Each mention includes the mention text and its `span` (character offsets).\n"
   ]
  },
  {
   "cell_type": "code",
   "execution_count": 15,
   "metadata": {},
   "outputs": [
    {
     "name": "stderr",
     "output_type": "stream",
     "text": [
      "huggingface/tokenizers: The current process just got forked, after parallelism has already been used. Disabling parallelism to avoid deadlocks...\n",
      "To disable this warning, you can either:\n",
      "\t- Avoid using `tokenizers` before the fork if possible\n",
      "\t- Explicitly set the environment variable TOKENIZERS_PARALLELISM=(true | false)\n"
     ]
    },
    {
     "name": "stdout",
     "output_type": "stream",
     "text": [
      "Requirement already satisfied: transformers in /Users/daniellocher/micromamba/envs/nlp_project/lib/python3.12/site-packages (4.50.3)\n",
      "Requirement already satisfied: bitsandbytes in /Users/daniellocher/micromamba/envs/nlp_project/lib/python3.12/site-packages (0.42.0)\n",
      "Requirement already satisfied: accelerate in /Users/daniellocher/micromamba/envs/nlp_project/lib/python3.12/site-packages (1.6.0)\n",
      "Requirement already satisfied: peft in /Users/daniellocher/micromamba/envs/nlp_project/lib/python3.12/site-packages (0.15.1)\n",
      "Requirement already satisfied: datasets in /Users/daniellocher/micromamba/envs/nlp_project/lib/python3.12/site-packages (3.5.0)\n",
      "Requirement already satisfied: torch in /Users/daniellocher/micromamba/envs/nlp_project/lib/python3.12/site-packages (2.2.2)\n",
      "Requirement already satisfied: torchinfo in /Users/daniellocher/micromamba/envs/nlp_project/lib/python3.12/site-packages (1.8.0)\n",
      "Requirement already satisfied: matplotlib in /Users/daniellocher/micromamba/envs/nlp_project/lib/python3.12/site-packages (3.10.1)\n",
      "Requirement already satisfied: pandas in /Users/daniellocher/micromamba/envs/nlp_project/lib/python3.12/site-packages (2.2.3)\n",
      "Requirement already satisfied: filelock in /Users/daniellocher/micromamba/envs/nlp_project/lib/python3.12/site-packages (from transformers) (3.18.0)\n",
      "Requirement already satisfied: huggingface-hub<1.0,>=0.26.0 in /Users/daniellocher/micromamba/envs/nlp_project/lib/python3.12/site-packages (from transformers) (0.30.1)\n",
      "Requirement already satisfied: numpy>=1.17 in /Users/daniellocher/micromamba/envs/nlp_project/lib/python3.12/site-packages (from transformers) (2.2.4)\n",
      "Requirement already satisfied: packaging>=20.0 in /Users/daniellocher/micromamba/envs/nlp_project/lib/python3.12/site-packages (from transformers) (24.2)\n",
      "Requirement already satisfied: pyyaml>=5.1 in /Users/daniellocher/micromamba/envs/nlp_project/lib/python3.12/site-packages (from transformers) (6.0.2)\n",
      "Requirement already satisfied: regex!=2019.12.17 in /Users/daniellocher/micromamba/envs/nlp_project/lib/python3.12/site-packages (from transformers) (2024.11.6)\n",
      "Requirement already satisfied: requests in /Users/daniellocher/micromamba/envs/nlp_project/lib/python3.12/site-packages (from transformers) (2.32.3)\n",
      "Requirement already satisfied: tokenizers<0.22,>=0.21 in /Users/daniellocher/micromamba/envs/nlp_project/lib/python3.12/site-packages (from transformers) (0.21.1)\n",
      "Requirement already satisfied: safetensors>=0.4.3 in /Users/daniellocher/micromamba/envs/nlp_project/lib/python3.12/site-packages (from transformers) (0.5.3)\n",
      "Requirement already satisfied: tqdm>=4.27 in /Users/daniellocher/micromamba/envs/nlp_project/lib/python3.12/site-packages (from transformers) (4.67.1)\n",
      "Requirement already satisfied: scipy in /Users/daniellocher/micromamba/envs/nlp_project/lib/python3.12/site-packages (from bitsandbytes) (1.15.2)\n",
      "Requirement already satisfied: psutil in /Users/daniellocher/micromamba/envs/nlp_project/lib/python3.12/site-packages (from accelerate) (5.9.0)\n",
      "Requirement already satisfied: pyarrow>=15.0.0 in /Users/daniellocher/micromamba/envs/nlp_project/lib/python3.12/site-packages (from datasets) (19.0.1)\n",
      "Requirement already satisfied: dill<0.3.9,>=0.3.0 in /Users/daniellocher/micromamba/envs/nlp_project/lib/python3.12/site-packages (from datasets) (0.3.8)\n",
      "Requirement already satisfied: xxhash in /Users/daniellocher/micromamba/envs/nlp_project/lib/python3.12/site-packages (from datasets) (3.5.0)\n",
      "Requirement already satisfied: multiprocess<0.70.17 in /Users/daniellocher/micromamba/envs/nlp_project/lib/python3.12/site-packages (from datasets) (0.70.16)\n",
      "Requirement already satisfied: fsspec<=2024.12.0,>=2023.1.0 in /Users/daniellocher/micromamba/envs/nlp_project/lib/python3.12/site-packages (from fsspec[http]<=2024.12.0,>=2023.1.0->datasets) (2024.12.0)\n",
      "Requirement already satisfied: aiohttp in /Users/daniellocher/micromamba/envs/nlp_project/lib/python3.12/site-packages (from datasets) (3.11.16)\n",
      "Requirement already satisfied: typing-extensions>=4.8.0 in /Users/daniellocher/micromamba/envs/nlp_project/lib/python3.12/site-packages (from torch) (4.13.0)\n",
      "Requirement already satisfied: sympy in /Users/daniellocher/micromamba/envs/nlp_project/lib/python3.12/site-packages (from torch) (1.13.3)\n",
      "Requirement already satisfied: networkx in /Users/daniellocher/micromamba/envs/nlp_project/lib/python3.12/site-packages (from torch) (3.4.2)\n",
      "Requirement already satisfied: jinja2 in /Users/daniellocher/micromamba/envs/nlp_project/lib/python3.12/site-packages (from torch) (3.1.6)\n",
      "Requirement already satisfied: contourpy>=1.0.1 in /Users/daniellocher/micromamba/envs/nlp_project/lib/python3.12/site-packages (from matplotlib) (1.3.1)\n",
      "Requirement already satisfied: cycler>=0.10 in /Users/daniellocher/micromamba/envs/nlp_project/lib/python3.12/site-packages (from matplotlib) (0.12.1)\n",
      "Requirement already satisfied: fonttools>=4.22.0 in /Users/daniellocher/micromamba/envs/nlp_project/lib/python3.12/site-packages (from matplotlib) (4.56.0)\n",
      "Requirement already satisfied: kiwisolver>=1.3.1 in /Users/daniellocher/micromamba/envs/nlp_project/lib/python3.12/site-packages (from matplotlib) (1.4.8)\n",
      "Requirement already satisfied: pillow>=8 in /Users/daniellocher/micromamba/envs/nlp_project/lib/python3.12/site-packages (from matplotlib) (11.1.0)\n",
      "Requirement already satisfied: pyparsing>=2.3.1 in /Users/daniellocher/micromamba/envs/nlp_project/lib/python3.12/site-packages (from matplotlib) (3.2.3)\n",
      "Requirement already satisfied: python-dateutil>=2.7 in /Users/daniellocher/micromamba/envs/nlp_project/lib/python3.12/site-packages (from matplotlib) (2.9.0.post0)\n",
      "Requirement already satisfied: pytz>=2020.1 in /Users/daniellocher/micromamba/envs/nlp_project/lib/python3.12/site-packages (from pandas) (2025.2)\n",
      "Requirement already satisfied: tzdata>=2022.7 in /Users/daniellocher/micromamba/envs/nlp_project/lib/python3.12/site-packages (from pandas) (2025.2)\n",
      "Requirement already satisfied: aiohappyeyeballs>=2.3.0 in /Users/daniellocher/micromamba/envs/nlp_project/lib/python3.12/site-packages (from aiohttp->datasets) (2.6.1)\n",
      "Requirement already satisfied: aiosignal>=1.1.2 in /Users/daniellocher/micromamba/envs/nlp_project/lib/python3.12/site-packages (from aiohttp->datasets) (1.3.2)\n",
      "Requirement already satisfied: attrs>=17.3.0 in /Users/daniellocher/micromamba/envs/nlp_project/lib/python3.12/site-packages (from aiohttp->datasets) (25.3.0)\n",
      "Requirement already satisfied: frozenlist>=1.1.1 in /Users/daniellocher/micromamba/envs/nlp_project/lib/python3.12/site-packages (from aiohttp->datasets) (1.5.0)\n",
      "Requirement already satisfied: multidict<7.0,>=4.5 in /Users/daniellocher/micromamba/envs/nlp_project/lib/python3.12/site-packages (from aiohttp->datasets) (6.2.0)\n",
      "Requirement already satisfied: propcache>=0.2.0 in /Users/daniellocher/micromamba/envs/nlp_project/lib/python3.12/site-packages (from aiohttp->datasets) (0.3.1)\n",
      "Requirement already satisfied: yarl<2.0,>=1.17.0 in /Users/daniellocher/micromamba/envs/nlp_project/lib/python3.12/site-packages (from aiohttp->datasets) (1.18.3)\n",
      "Requirement already satisfied: six>=1.5 in /Users/daniellocher/micromamba/envs/nlp_project/lib/python3.12/site-packages (from python-dateutil>=2.7->matplotlib) (1.17.0)\n",
      "Requirement already satisfied: charset-normalizer<4,>=2 in /Users/daniellocher/micromamba/envs/nlp_project/lib/python3.12/site-packages (from requests->transformers) (3.4.1)\n",
      "Requirement already satisfied: idna<4,>=2.5 in /Users/daniellocher/micromamba/envs/nlp_project/lib/python3.12/site-packages (from requests->transformers) (3.10)\n",
      "Requirement already satisfied: urllib3<3,>=1.21.1 in /Users/daniellocher/micromamba/envs/nlp_project/lib/python3.12/site-packages (from requests->transformers) (2.3.0)\n",
      "Requirement already satisfied: certifi>=2017.4.17 in /Users/daniellocher/micromamba/envs/nlp_project/lib/python3.12/site-packages (from requests->transformers) (2025.1.31)\n",
      "Requirement already satisfied: MarkupSafe>=2.0 in /Users/daniellocher/micromamba/envs/nlp_project/lib/python3.12/site-packages (from jinja2->torch) (3.0.2)\n",
      "Requirement already satisfied: mpmath<1.4,>=1.1.0 in /Users/daniellocher/micromamba/envs/nlp_project/lib/python3.12/site-packages (from sympy->torch) (1.3.0)\n"
     ]
    }
   ],
   "source": [
    "!pip install transformers bitsandbytes accelerate peft datasets torch torchinfo matplotlib pandas"
   ]
  },
  {
   "cell_type": "markdown",
   "metadata": {},
   "source": [
    "# Import Libraries and Define Helper Functions\n",
    "\n",
    "**load_json**\n",
    "Loads a json file from a defined path.\n",
    "\n",
    "**find_mention_spans**\n",
    "Finds all occurrences of a mention in the text and returns the spans of the mentions.\n",
    "\n",
    "**append_to_jsonl**\n",
    "Builds a JSON Lines file from a list of documents. Jsonl is a convenient format for storing structured data while it is still human-readable. It is also ideal for line-by-line processing what will be done in the next step of the pipeline. "
   ]
  },
  {
   "cell_type": "code",
   "execution_count": null,
   "metadata": {},
   "outputs": [],
   "source": [
    "import os\n",
    "import json\n",
    "import glob\n",
    "import re\n",
    "from pathlib import Path\n",
    "\n",
    "from transformers import AutoTokenizer\n",
    "\n",
    "tokenizer = AutoTokenizer.from_pretrained(\"allenai/longformer-base-4096\")\n",
    "\n",
    "input_folder = \"./data/raw/train\"\n",
    "file_paths = glob.glob(os.path.join(input_folder, \"*.json\"))\n",
    "\n",
    "def load_json(file_path):\n",
    "    with open(file_path, \"r\") as f:\n",
    "        return json.load(f)\n",
    "\n",
    "def find_mention_spans(doc_text, mention_text):\n",
    "    pattern = re.escape(mention_text)\n",
    "    spans = [(m.start(), m.end()) for m in re.finditer(pattern, doc_text)]\n",
    "    return spans\n",
    "\n",
    "def append_to_jsonl(documents, output_file):\n",
    "    with open(output_file, \"a\") as f:\n",
    "        for doc in documents:\n",
    "            f.write(json.dumps(doc) + \"\\n\")"
   ]
  },
  {
   "cell_type": "markdown",
   "metadata": {},
   "source": [
    "# Process and Preprocess the Docuemnts"
   ]
  },
  {
   "cell_type": "code",
   "execution_count": null,
   "metadata": {},
   "outputs": [],
   "source": []
  },
  {
   "cell_type": "code",
   "execution_count": 19,
   "metadata": {},
   "outputs": [],
   "source": [
    "import json\n",
    "from pathlib import Path\n",
    "\n",
    "file_paths = [\n",
    "    \"Communication_all_examples.json\",\n",
    "    \"Education_all_examples.json\",\n",
    "    \"Energy_all_examples.json\",\n",
    "    \"Entertainment_all_examples.json\",\n",
    "    \"Government_all_examples.json\",\n",
    "]\n",
    "\n",
    "merged_data_set = []\n",
    "\n",
    "for file_path in file_paths:\n",
    "    data_file_path = Path(\"data/raw/train/\") / file_path\n",
    "    with data_file_path.open(\"r\", encoding=\"utf-8\") as f:\n",
    "        data = json.load(f)\n",
    "        merged_data_set.extend(data)\n",
    "\n",
    "\n"
   ]
  },
  {
   "cell_type": "code",
   "execution_count": 20,
   "metadata": {},
   "outputs": [
    {
     "name": "stdout",
     "output_type": "stream",
     "text": [
      "Extracted Labels: ['CARDINAL', 'DATE', 'EVENT', 'FAC', 'GPE', 'LANGUAGE', 'LAW', 'LOC', 'MISC', 'MONEY', 'NORP', 'ORDINAL', 'ORG', 'PERCENT', 'PERSON', 'PRODUCT', 'QUANTITY', 'TIME', 'WORK_OF_ART']\n"
     ]
    }
   ],
   "source": [
    "def get_unique_labels(data_set):\n",
    "    unique_labels = set()\n",
    "    \n",
    "    for entry in data_set:\n",
    "        for entity in entry[\"entities\"]:\n",
    "            unique_labels.add(entity[\"type\"])\n",
    "    \n",
    "    sorted_labels = sorted(unique_labels)\n",
    "    return sorted_labels\n",
    "\n",
    "unique_labels = get_unique_labels(merged_data_set)\n",
    "\n",
    "label_to_id = {label: idx for idx, label in enumerate(unique_labels)}\n",
    "id_to_label = {idx: label for label, idx in label_to_id.items()}\n",
    "\n",
    "print(\"Extracted Labels:\", unique_labels)\n"
   ]
  },
  {
   "cell_type": "code",
   "execution_count": 21,
   "metadata": {},
   "outputs": [
    {
     "name": "stdout",
     "output_type": "stream",
     "text": [
      "Dataset({\n",
      "    features: ['domain', 'title', 'doc', 'entities', 'triples', 'label_set', 'entity_label_set'],\n",
      "    num_rows: 51\n",
      "})\n"
     ]
    },
    {
     "name": "stderr",
     "output_type": "stream",
     "text": [
      "Map: 100%|██████████| 51/51 [00:00<00:00, 439.88 examples/s]\n",
      "Saving the dataset (1/1 shards): 100%|██████████| 51/51 [00:00<00:00, 3347.99 examples/s]\n"
     ]
    }
   ],
   "source": [
    "from datasets import Dataset\n",
    "\n",
    "train_dataset = Dataset.from_list(merged_data_set)\n",
    "print(train_dataset)\n",
    "\n",
    "from transformers import AutoTokenizer\n",
    "model_checkpoint = \"bert-base-cased\"\n",
    "tokenizer = AutoTokenizer.from_pretrained(model_checkpoint)\n",
    "\n",
    "def tokenize_and_align_labels(examples):\n",
    "    tokenized_inputs = tokenizer(examples[\"doc\"], truncation=True, is_split_into_words=False)\n",
    "    all_labels = []\n",
    "    for i, entities in enumerate(examples[\"entities\"]):\n",
    "        word_ids = tokenized_inputs.word_ids(batch_index=i)\n",
    "        previous_word_idx = None\n",
    "        label_ids = []\n",
    "        for word_idx in word_ids:\n",
    "            if word_idx is None:\n",
    "                label_ids.append(-100)\n",
    "            elif word_idx != previous_word_idx:\n",
    "                label_ids.append(label_to_id.get(\"O\", 0))\n",
    "            else:\n",
    "                label_ids.append(label_to_id.get(\"O\", 0))\n",
    "            previous_word_idx = word_idx\n",
    "        all_labels.append(label_ids)\n",
    "    tokenized_inputs[\"labels\"] = all_labels\n",
    "    return tokenized_inputs\n",
    "\n",
    "train_dataset = train_dataset.map(tokenize_and_align_labels, batched=True)\n",
    "\n",
    "train_dataset.save_to_disk(\"data/processed/train\")\n"
   ]
  }
 ],
 "metadata": {
  "kernelspec": {
   "display_name": "nlp_project",
   "language": "python",
   "name": "python3"
  },
  "language_info": {
   "codemirror_mode": {
    "name": "ipython",
    "version": 3
   },
   "file_extension": ".py",
   "mimetype": "text/x-python",
   "name": "python",
   "nbconvert_exporter": "python",
   "pygments_lexer": "ipython3",
   "version": "3.12.9"
  }
 },
 "nbformat": 4,
 "nbformat_minor": 2
}
